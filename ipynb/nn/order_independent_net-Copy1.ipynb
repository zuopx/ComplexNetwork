{
 "cells": [
  {
   "cell_type": "code",
   "execution_count": 1,
   "metadata": {
    "ExecuteTime": {
     "end_time": "2020-05-02T09:56:54.871789Z",
     "start_time": "2020-05-02T09:56:54.869787Z"
    }
   },
   "outputs": [],
   "source": [
    "WORKSPACEFOLDER = 'D:\\Projects\\ComplexNetwork'\n",
    "import os\n",
    "os.chdir(WORKSPACEFOLDER)"
   ]
  },
  {
   "cell_type": "code",
   "execution_count": 2,
   "metadata": {
    "ExecuteTime": {
     "end_time": "2020-05-02T09:56:55.606456Z",
     "start_time": "2020-05-02T09:56:55.250132Z"
    }
   },
   "outputs": [],
   "source": [
    "import json\n",
    "\n",
    "import torch\n",
    "\n",
    "import config"
   ]
  },
  {
   "cell_type": "code",
   "execution_count": 3,
   "metadata": {
    "ExecuteTime": {
     "end_time": "2020-05-02T09:56:55.620469Z",
     "start_time": "2020-05-02T09:56:55.617466Z"
    }
   },
   "outputs": [],
   "source": [
    "DB = config.get_DB()"
   ]
  },
  {
   "cell_type": "code",
   "execution_count": 4,
   "metadata": {
    "ExecuteTime": {
     "end_time": "2020-05-02T09:56:56.439212Z",
     "start_time": "2020-05-02T09:56:56.048857Z"
    }
   },
   "outputs": [],
   "source": [
    "import matplotlib.pyplot as plt"
   ]
  },
  {
   "cell_type": "code",
   "execution_count": 5,
   "metadata": {
    "ExecuteTime": {
     "end_time": "2020-05-02T09:56:56.573335Z",
     "start_time": "2020-05-02T09:56:56.555317Z"
    }
   },
   "outputs": [],
   "source": [
    "%matplotlib notebook"
   ]
  },
  {
   "cell_type": "code",
   "execution_count": 6,
   "metadata": {
    "ExecuteTime": {
     "end_time": "2020-05-02T09:56:57.044763Z",
     "start_time": "2020-05-02T09:56:57.036756Z"
    }
   },
   "outputs": [],
   "source": [
    "import src.main.util.nn.sample as sample\n",
    "import src.main.util.nn.training as training\n",
    "import src.main.model.nn.custom_module as custom_module"
   ]
  },
  {
   "cell_type": "code",
   "execution_count": 7,
   "metadata": {
    "ExecuteTime": {
     "end_time": "2020-05-02T09:56:59.050584Z",
     "start_time": "2020-05-02T09:56:59.046581Z"
    }
   },
   "outputs": [],
   "source": [
    "import src.main.util.data_format as data_format"
   ]
  },
  {
   "cell_type": "code",
   "execution_count": 8,
   "metadata": {
    "ExecuteTime": {
     "end_time": "2020-05-02T09:57:09.521092Z",
     "start_time": "2020-05-02T09:57:09.519090Z"
    }
   },
   "outputs": [],
   "source": [
    "g_name, mean = 'DiSF_b', 20  # 0.972"
   ]
  },
  {
   "cell_type": "code",
   "execution_count": 9,
   "metadata": {
    "ExecuteTime": {
     "end_time": "2020-05-02T09:57:11.011446Z",
     "start_time": "2020-05-02T09:57:11.008443Z"
    }
   },
   "outputs": [],
   "source": [
    "conf = training.Conf()\n",
    "conf.model = custom_module.OrderIndependentNet\n",
    "conf.loss_fn = torch.nn.NLLLoss()\n",
    "conf.early_stop_epoch = 40"
   ]
  },
  {
   "cell_type": "code",
   "execution_count": 10,
   "metadata": {
    "ExecuteTime": {
     "end_time": "2020-05-02T09:57:14.224363Z",
     "start_time": "2020-05-02T09:57:14.222362Z"
    }
   },
   "outputs": [],
   "source": [
    "num_samples = 40000"
   ]
  },
  {
   "cell_type": "code",
   "execution_count": 12,
   "metadata": {
    "ExecuteTime": {
     "end_time": "2020-05-02T09:57:53.139703Z",
     "start_time": "2020-05-02T09:57:53.137702Z"
    }
   },
   "outputs": [],
   "source": [
    "beta = 0.0200"
   ]
  },
  {
   "cell_type": "code",
   "execution_count": 13,
   "metadata": {
    "ExecuteTime": {
     "end_time": "2020-05-02T09:57:55.292659Z",
     "start_time": "2020-05-02T09:57:54.813224Z"
    }
   },
   "outputs": [],
   "source": [
    "base_path = os.path.join(DB, g_name)\n",
    "node_path = os.path.join(base_path, f'nodes_degree_approx_{mean}.json')\n",
    "emb_path = os.path.join(base_path, 'node2vec.emb.json')\n",
    "p_gin_path = os.path.join(base_path, f'gin_mat\\\\n{beta:.4f}.json')\n",
    "\n",
    "nodes = data_format.load_json(node_path)\n",
    "node_emb = data_format.load_json(emb_path)\n",
    "p_gins = data_format.load_json(p_gin_path)"
   ]
  },
  {
   "cell_type": "code",
   "execution_count": 17,
   "metadata": {
    "ExecuteTime": {
     "end_time": "2020-05-02T09:59:50.693458Z",
     "start_time": "2020-05-02T09:59:50.670437Z"
    }
   },
   "outputs": [
    {
     "data": {
      "application/javascript": [
       "/* Put everything inside the global mpl namespace */\n",
       "window.mpl = {};\n",
       "\n",
       "\n",
       "mpl.get_websocket_type = function() {\n",
       "    if (typeof(WebSocket) !== 'undefined') {\n",
       "        return WebSocket;\n",
       "    } else if (typeof(MozWebSocket) !== 'undefined') {\n",
       "        return MozWebSocket;\n",
       "    } else {\n",
       "        alert('Your browser does not have WebSocket support. ' +\n",
       "              'Please try Chrome, Safari or Firefox ≥ 6. ' +\n",
       "              'Firefox 4 and 5 are also supported but you ' +\n",
       "              'have to enable WebSockets in about:config.');\n",
       "    };\n",
       "}\n",
       "\n",
       "mpl.figure = function(figure_id, websocket, ondownload, parent_element) {\n",
       "    this.id = figure_id;\n",
       "\n",
       "    this.ws = websocket;\n",
       "\n",
       "    this.supports_binary = (this.ws.binaryType != undefined);\n",
       "\n",
       "    if (!this.supports_binary) {\n",
       "        var warnings = document.getElementById(\"mpl-warnings\");\n",
       "        if (warnings) {\n",
       "            warnings.style.display = 'block';\n",
       "            warnings.textContent = (\n",
       "                \"This browser does not support binary websocket messages. \" +\n",
       "                    \"Performance may be slow.\");\n",
       "        }\n",
       "    }\n",
       "\n",
       "    this.imageObj = new Image();\n",
       "\n",
       "    this.context = undefined;\n",
       "    this.message = undefined;\n",
       "    this.canvas = undefined;\n",
       "    this.rubberband_canvas = undefined;\n",
       "    this.rubberband_context = undefined;\n",
       "    this.format_dropdown = undefined;\n",
       "\n",
       "    this.image_mode = 'full';\n",
       "\n",
       "    this.root = $('<div/>');\n",
       "    this._root_extra_style(this.root)\n",
       "    this.root.attr('style', 'display: inline-block');\n",
       "\n",
       "    $(parent_element).append(this.root);\n",
       "\n",
       "    this._init_header(this);\n",
       "    this._init_canvas(this);\n",
       "    this._init_toolbar(this);\n",
       "\n",
       "    var fig = this;\n",
       "\n",
       "    this.waiting = false;\n",
       "\n",
       "    this.ws.onopen =  function () {\n",
       "            fig.send_message(\"supports_binary\", {value: fig.supports_binary});\n",
       "            fig.send_message(\"send_image_mode\", {});\n",
       "            if (mpl.ratio != 1) {\n",
       "                fig.send_message(\"set_dpi_ratio\", {'dpi_ratio': mpl.ratio});\n",
       "            }\n",
       "            fig.send_message(\"refresh\", {});\n",
       "        }\n",
       "\n",
       "    this.imageObj.onload = function() {\n",
       "            if (fig.image_mode == 'full') {\n",
       "                // Full images could contain transparency (where diff images\n",
       "                // almost always do), so we need to clear the canvas so that\n",
       "                // there is no ghosting.\n",
       "                fig.context.clearRect(0, 0, fig.canvas.width, fig.canvas.height);\n",
       "            }\n",
       "            fig.context.drawImage(fig.imageObj, 0, 0);\n",
       "        };\n",
       "\n",
       "    this.imageObj.onunload = function() {\n",
       "        fig.ws.close();\n",
       "    }\n",
       "\n",
       "    this.ws.onmessage = this._make_on_message_function(this);\n",
       "\n",
       "    this.ondownload = ondownload;\n",
       "}\n",
       "\n",
       "mpl.figure.prototype._init_header = function() {\n",
       "    var titlebar = $(\n",
       "        '<div class=\"ui-dialog-titlebar ui-widget-header ui-corner-all ' +\n",
       "        'ui-helper-clearfix\"/>');\n",
       "    var titletext = $(\n",
       "        '<div class=\"ui-dialog-title\" style=\"width: 100%; ' +\n",
       "        'text-align: center; padding: 3px;\"/>');\n",
       "    titlebar.append(titletext)\n",
       "    this.root.append(titlebar);\n",
       "    this.header = titletext[0];\n",
       "}\n",
       "\n",
       "\n",
       "\n",
       "mpl.figure.prototype._canvas_extra_style = function(canvas_div) {\n",
       "\n",
       "}\n",
       "\n",
       "\n",
       "mpl.figure.prototype._root_extra_style = function(canvas_div) {\n",
       "\n",
       "}\n",
       "\n",
       "mpl.figure.prototype._init_canvas = function() {\n",
       "    var fig = this;\n",
       "\n",
       "    var canvas_div = $('<div/>');\n",
       "\n",
       "    canvas_div.attr('style', 'position: relative; clear: both; outline: 0');\n",
       "\n",
       "    function canvas_keyboard_event(event) {\n",
       "        return fig.key_event(event, event['data']);\n",
       "    }\n",
       "\n",
       "    canvas_div.keydown('key_press', canvas_keyboard_event);\n",
       "    canvas_div.keyup('key_release', canvas_keyboard_event);\n",
       "    this.canvas_div = canvas_div\n",
       "    this._canvas_extra_style(canvas_div)\n",
       "    this.root.append(canvas_div);\n",
       "\n",
       "    var canvas = $('<canvas/>');\n",
       "    canvas.addClass('mpl-canvas');\n",
       "    canvas.attr('style', \"left: 0; top: 0; z-index: 0; outline: 0\")\n",
       "\n",
       "    this.canvas = canvas[0];\n",
       "    this.context = canvas[0].getContext(\"2d\");\n",
       "\n",
       "    var backingStore = this.context.backingStorePixelRatio ||\n",
       "\tthis.context.webkitBackingStorePixelRatio ||\n",
       "\tthis.context.mozBackingStorePixelRatio ||\n",
       "\tthis.context.msBackingStorePixelRatio ||\n",
       "\tthis.context.oBackingStorePixelRatio ||\n",
       "\tthis.context.backingStorePixelRatio || 1;\n",
       "\n",
       "    mpl.ratio = (window.devicePixelRatio || 1) / backingStore;\n",
       "\n",
       "    var rubberband = $('<canvas/>');\n",
       "    rubberband.attr('style', \"position: absolute; left: 0; top: 0; z-index: 1;\")\n",
       "\n",
       "    var pass_mouse_events = true;\n",
       "\n",
       "    canvas_div.resizable({\n",
       "        start: function(event, ui) {\n",
       "            pass_mouse_events = false;\n",
       "        },\n",
       "        resize: function(event, ui) {\n",
       "            fig.request_resize(ui.size.width, ui.size.height);\n",
       "        },\n",
       "        stop: function(event, ui) {\n",
       "            pass_mouse_events = true;\n",
       "            fig.request_resize(ui.size.width, ui.size.height);\n",
       "        },\n",
       "    });\n",
       "\n",
       "    function mouse_event_fn(event) {\n",
       "        if (pass_mouse_events)\n",
       "            return fig.mouse_event(event, event['data']);\n",
       "    }\n",
       "\n",
       "    rubberband.mousedown('button_press', mouse_event_fn);\n",
       "    rubberband.mouseup('button_release', mouse_event_fn);\n",
       "    // Throttle sequential mouse events to 1 every 20ms.\n",
       "    rubberband.mousemove('motion_notify', mouse_event_fn);\n",
       "\n",
       "    rubberband.mouseenter('figure_enter', mouse_event_fn);\n",
       "    rubberband.mouseleave('figure_leave', mouse_event_fn);\n",
       "\n",
       "    canvas_div.on(\"wheel\", function (event) {\n",
       "        event = event.originalEvent;\n",
       "        event['data'] = 'scroll'\n",
       "        if (event.deltaY < 0) {\n",
       "            event.step = 1;\n",
       "        } else {\n",
       "            event.step = -1;\n",
       "        }\n",
       "        mouse_event_fn(event);\n",
       "    });\n",
       "\n",
       "    canvas_div.append(canvas);\n",
       "    canvas_div.append(rubberband);\n",
       "\n",
       "    this.rubberband = rubberband;\n",
       "    this.rubberband_canvas = rubberband[0];\n",
       "    this.rubberband_context = rubberband[0].getContext(\"2d\");\n",
       "    this.rubberband_context.strokeStyle = \"#000000\";\n",
       "\n",
       "    this._resize_canvas = function(width, height) {\n",
       "        // Keep the size of the canvas, canvas container, and rubber band\n",
       "        // canvas in synch.\n",
       "        canvas_div.css('width', width)\n",
       "        canvas_div.css('height', height)\n",
       "\n",
       "        canvas.attr('width', width * mpl.ratio);\n",
       "        canvas.attr('height', height * mpl.ratio);\n",
       "        canvas.attr('style', 'width: ' + width + 'px; height: ' + height + 'px;');\n",
       "\n",
       "        rubberband.attr('width', width);\n",
       "        rubberband.attr('height', height);\n",
       "    }\n",
       "\n",
       "    // Set the figure to an initial 600x600px, this will subsequently be updated\n",
       "    // upon first draw.\n",
       "    this._resize_canvas(600, 600);\n",
       "\n",
       "    // Disable right mouse context menu.\n",
       "    $(this.rubberband_canvas).bind(\"contextmenu\",function(e){\n",
       "        return false;\n",
       "    });\n",
       "\n",
       "    function set_focus () {\n",
       "        canvas.focus();\n",
       "        canvas_div.focus();\n",
       "    }\n",
       "\n",
       "    window.setTimeout(set_focus, 100);\n",
       "}\n",
       "\n",
       "mpl.figure.prototype._init_toolbar = function() {\n",
       "    var fig = this;\n",
       "\n",
       "    var nav_element = $('<div/>');\n",
       "    nav_element.attr('style', 'width: 100%');\n",
       "    this.root.append(nav_element);\n",
       "\n",
       "    // Define a callback function for later on.\n",
       "    function toolbar_event(event) {\n",
       "        return fig.toolbar_button_onclick(event['data']);\n",
       "    }\n",
       "    function toolbar_mouse_event(event) {\n",
       "        return fig.toolbar_button_onmouseover(event['data']);\n",
       "    }\n",
       "\n",
       "    for(var toolbar_ind in mpl.toolbar_items) {\n",
       "        var name = mpl.toolbar_items[toolbar_ind][0];\n",
       "        var tooltip = mpl.toolbar_items[toolbar_ind][1];\n",
       "        var image = mpl.toolbar_items[toolbar_ind][2];\n",
       "        var method_name = mpl.toolbar_items[toolbar_ind][3];\n",
       "\n",
       "        if (!name) {\n",
       "            // put a spacer in here.\n",
       "            continue;\n",
       "        }\n",
       "        var button = $('<button/>');\n",
       "        button.addClass('ui-button ui-widget ui-state-default ui-corner-all ' +\n",
       "                        'ui-button-icon-only');\n",
       "        button.attr('role', 'button');\n",
       "        button.attr('aria-disabled', 'false');\n",
       "        button.click(method_name, toolbar_event);\n",
       "        button.mouseover(tooltip, toolbar_mouse_event);\n",
       "\n",
       "        var icon_img = $('<span/>');\n",
       "        icon_img.addClass('ui-button-icon-primary ui-icon');\n",
       "        icon_img.addClass(image);\n",
       "        icon_img.addClass('ui-corner-all');\n",
       "\n",
       "        var tooltip_span = $('<span/>');\n",
       "        tooltip_span.addClass('ui-button-text');\n",
       "        tooltip_span.html(tooltip);\n",
       "\n",
       "        button.append(icon_img);\n",
       "        button.append(tooltip_span);\n",
       "\n",
       "        nav_element.append(button);\n",
       "    }\n",
       "\n",
       "    var fmt_picker_span = $('<span/>');\n",
       "\n",
       "    var fmt_picker = $('<select/>');\n",
       "    fmt_picker.addClass('mpl-toolbar-option ui-widget ui-widget-content');\n",
       "    fmt_picker_span.append(fmt_picker);\n",
       "    nav_element.append(fmt_picker_span);\n",
       "    this.format_dropdown = fmt_picker[0];\n",
       "\n",
       "    for (var ind in mpl.extensions) {\n",
       "        var fmt = mpl.extensions[ind];\n",
       "        var option = $(\n",
       "            '<option/>', {selected: fmt === mpl.default_extension}).html(fmt);\n",
       "        fmt_picker.append(option);\n",
       "    }\n",
       "\n",
       "    // Add hover states to the ui-buttons\n",
       "    $( \".ui-button\" ).hover(\n",
       "        function() { $(this).addClass(\"ui-state-hover\");},\n",
       "        function() { $(this).removeClass(\"ui-state-hover\");}\n",
       "    );\n",
       "\n",
       "    var status_bar = $('<span class=\"mpl-message\"/>');\n",
       "    nav_element.append(status_bar);\n",
       "    this.message = status_bar[0];\n",
       "}\n",
       "\n",
       "mpl.figure.prototype.request_resize = function(x_pixels, y_pixels) {\n",
       "    // Request matplotlib to resize the figure. Matplotlib will then trigger a resize in the client,\n",
       "    // which will in turn request a refresh of the image.\n",
       "    this.send_message('resize', {'width': x_pixels, 'height': y_pixels});\n",
       "}\n",
       "\n",
       "mpl.figure.prototype.send_message = function(type, properties) {\n",
       "    properties['type'] = type;\n",
       "    properties['figure_id'] = this.id;\n",
       "    this.ws.send(JSON.stringify(properties));\n",
       "}\n",
       "\n",
       "mpl.figure.prototype.send_draw_message = function() {\n",
       "    if (!this.waiting) {\n",
       "        this.waiting = true;\n",
       "        this.ws.send(JSON.stringify({type: \"draw\", figure_id: this.id}));\n",
       "    }\n",
       "}\n",
       "\n",
       "\n",
       "mpl.figure.prototype.handle_save = function(fig, msg) {\n",
       "    var format_dropdown = fig.format_dropdown;\n",
       "    var format = format_dropdown.options[format_dropdown.selectedIndex].value;\n",
       "    fig.ondownload(fig, format);\n",
       "}\n",
       "\n",
       "\n",
       "mpl.figure.prototype.handle_resize = function(fig, msg) {\n",
       "    var size = msg['size'];\n",
       "    if (size[0] != fig.canvas.width || size[1] != fig.canvas.height) {\n",
       "        fig._resize_canvas(size[0], size[1]);\n",
       "        fig.send_message(\"refresh\", {});\n",
       "    };\n",
       "}\n",
       "\n",
       "mpl.figure.prototype.handle_rubberband = function(fig, msg) {\n",
       "    var x0 = msg['x0'] / mpl.ratio;\n",
       "    var y0 = (fig.canvas.height - msg['y0']) / mpl.ratio;\n",
       "    var x1 = msg['x1'] / mpl.ratio;\n",
       "    var y1 = (fig.canvas.height - msg['y1']) / mpl.ratio;\n",
       "    x0 = Math.floor(x0) + 0.5;\n",
       "    y0 = Math.floor(y0) + 0.5;\n",
       "    x1 = Math.floor(x1) + 0.5;\n",
       "    y1 = Math.floor(y1) + 0.5;\n",
       "    var min_x = Math.min(x0, x1);\n",
       "    var min_y = Math.min(y0, y1);\n",
       "    var width = Math.abs(x1 - x0);\n",
       "    var height = Math.abs(y1 - y0);\n",
       "\n",
       "    fig.rubberband_context.clearRect(\n",
       "        0, 0, fig.canvas.width / mpl.ratio, fig.canvas.height / mpl.ratio);\n",
       "\n",
       "    fig.rubberband_context.strokeRect(min_x, min_y, width, height);\n",
       "}\n",
       "\n",
       "mpl.figure.prototype.handle_figure_label = function(fig, msg) {\n",
       "    // Updates the figure title.\n",
       "    fig.header.textContent = msg['label'];\n",
       "}\n",
       "\n",
       "mpl.figure.prototype.handle_cursor = function(fig, msg) {\n",
       "    var cursor = msg['cursor'];\n",
       "    switch(cursor)\n",
       "    {\n",
       "    case 0:\n",
       "        cursor = 'pointer';\n",
       "        break;\n",
       "    case 1:\n",
       "        cursor = 'default';\n",
       "        break;\n",
       "    case 2:\n",
       "        cursor = 'crosshair';\n",
       "        break;\n",
       "    case 3:\n",
       "        cursor = 'move';\n",
       "        break;\n",
       "    }\n",
       "    fig.rubberband_canvas.style.cursor = cursor;\n",
       "}\n",
       "\n",
       "mpl.figure.prototype.handle_message = function(fig, msg) {\n",
       "    fig.message.textContent = msg['message'];\n",
       "}\n",
       "\n",
       "mpl.figure.prototype.handle_draw = function(fig, msg) {\n",
       "    // Request the server to send over a new figure.\n",
       "    fig.send_draw_message();\n",
       "}\n",
       "\n",
       "mpl.figure.prototype.handle_image_mode = function(fig, msg) {\n",
       "    fig.image_mode = msg['mode'];\n",
       "}\n",
       "\n",
       "mpl.figure.prototype.updated_canvas_event = function() {\n",
       "    // Called whenever the canvas gets updated.\n",
       "    this.send_message(\"ack\", {});\n",
       "}\n",
       "\n",
       "// A function to construct a web socket function for onmessage handling.\n",
       "// Called in the figure constructor.\n",
       "mpl.figure.prototype._make_on_message_function = function(fig) {\n",
       "    return function socket_on_message(evt) {\n",
       "        if (evt.data instanceof Blob) {\n",
       "            /* FIXME: We get \"Resource interpreted as Image but\n",
       "             * transferred with MIME type text/plain:\" errors on\n",
       "             * Chrome.  But how to set the MIME type?  It doesn't seem\n",
       "             * to be part of the websocket stream */\n",
       "            evt.data.type = \"image/png\";\n",
       "\n",
       "            /* Free the memory for the previous frames */\n",
       "            if (fig.imageObj.src) {\n",
       "                (window.URL || window.webkitURL).revokeObjectURL(\n",
       "                    fig.imageObj.src);\n",
       "            }\n",
       "\n",
       "            fig.imageObj.src = (window.URL || window.webkitURL).createObjectURL(\n",
       "                evt.data);\n",
       "            fig.updated_canvas_event();\n",
       "            fig.waiting = false;\n",
       "            return;\n",
       "        }\n",
       "        else if (typeof evt.data === 'string' && evt.data.slice(0, 21) == \"data:image/png;base64\") {\n",
       "            fig.imageObj.src = evt.data;\n",
       "            fig.updated_canvas_event();\n",
       "            fig.waiting = false;\n",
       "            return;\n",
       "        }\n",
       "\n",
       "        var msg = JSON.parse(evt.data);\n",
       "        var msg_type = msg['type'];\n",
       "\n",
       "        // Call the  \"handle_{type}\" callback, which takes\n",
       "        // the figure and JSON message as its only arguments.\n",
       "        try {\n",
       "            var callback = fig[\"handle_\" + msg_type];\n",
       "        } catch (e) {\n",
       "            console.log(\"No handler for the '\" + msg_type + \"' message type: \", msg);\n",
       "            return;\n",
       "        }\n",
       "\n",
       "        if (callback) {\n",
       "            try {\n",
       "                // console.log(\"Handling '\" + msg_type + \"' message: \", msg);\n",
       "                callback(fig, msg);\n",
       "            } catch (e) {\n",
       "                console.log(\"Exception inside the 'handler_\" + msg_type + \"' callback:\", e, e.stack, msg);\n",
       "            }\n",
       "        }\n",
       "    };\n",
       "}\n",
       "\n",
       "// from http://stackoverflow.com/questions/1114465/getting-mouse-location-in-canvas\n",
       "mpl.findpos = function(e) {\n",
       "    //this section is from http://www.quirksmode.org/js/events_properties.html\n",
       "    var targ;\n",
       "    if (!e)\n",
       "        e = window.event;\n",
       "    if (e.target)\n",
       "        targ = e.target;\n",
       "    else if (e.srcElement)\n",
       "        targ = e.srcElement;\n",
       "    if (targ.nodeType == 3) // defeat Safari bug\n",
       "        targ = targ.parentNode;\n",
       "\n",
       "    // jQuery normalizes the pageX and pageY\n",
       "    // pageX,Y are the mouse positions relative to the document\n",
       "    // offset() returns the position of the element relative to the document\n",
       "    var x = e.pageX - $(targ).offset().left;\n",
       "    var y = e.pageY - $(targ).offset().top;\n",
       "\n",
       "    return {\"x\": x, \"y\": y};\n",
       "};\n",
       "\n",
       "/*\n",
       " * return a copy of an object with only non-object keys\n",
       " * we need this to avoid circular references\n",
       " * http://stackoverflow.com/a/24161582/3208463\n",
       " */\n",
       "function simpleKeys (original) {\n",
       "  return Object.keys(original).reduce(function (obj, key) {\n",
       "    if (typeof original[key] !== 'object')\n",
       "        obj[key] = original[key]\n",
       "    return obj;\n",
       "  }, {});\n",
       "}\n",
       "\n",
       "mpl.figure.prototype.mouse_event = function(event, name) {\n",
       "    var canvas_pos = mpl.findpos(event)\n",
       "\n",
       "    if (name === 'button_press')\n",
       "    {\n",
       "        this.canvas.focus();\n",
       "        this.canvas_div.focus();\n",
       "    }\n",
       "\n",
       "    var x = canvas_pos.x * mpl.ratio;\n",
       "    var y = canvas_pos.y * mpl.ratio;\n",
       "\n",
       "    this.send_message(name, {x: x, y: y, button: event.button,\n",
       "                             step: event.step,\n",
       "                             guiEvent: simpleKeys(event)});\n",
       "\n",
       "    /* This prevents the web browser from automatically changing to\n",
       "     * the text insertion cursor when the button is pressed.  We want\n",
       "     * to control all of the cursor setting manually through the\n",
       "     * 'cursor' event from matplotlib */\n",
       "    event.preventDefault();\n",
       "    return false;\n",
       "}\n",
       "\n",
       "mpl.figure.prototype._key_event_extra = function(event, name) {\n",
       "    // Handle any extra behaviour associated with a key event\n",
       "}\n",
       "\n",
       "mpl.figure.prototype.key_event = function(event, name) {\n",
       "\n",
       "    // Prevent repeat events\n",
       "    if (name == 'key_press')\n",
       "    {\n",
       "        if (event.which === this._key)\n",
       "            return;\n",
       "        else\n",
       "            this._key = event.which;\n",
       "    }\n",
       "    if (name == 'key_release')\n",
       "        this._key = null;\n",
       "\n",
       "    var value = '';\n",
       "    if (event.ctrlKey && event.which != 17)\n",
       "        value += \"ctrl+\";\n",
       "    if (event.altKey && event.which != 18)\n",
       "        value += \"alt+\";\n",
       "    if (event.shiftKey && event.which != 16)\n",
       "        value += \"shift+\";\n",
       "\n",
       "    value += 'k';\n",
       "    value += event.which.toString();\n",
       "\n",
       "    this._key_event_extra(event, name);\n",
       "\n",
       "    this.send_message(name, {key: value,\n",
       "                             guiEvent: simpleKeys(event)});\n",
       "    return false;\n",
       "}\n",
       "\n",
       "mpl.figure.prototype.toolbar_button_onclick = function(name) {\n",
       "    if (name == 'download') {\n",
       "        this.handle_save(this, null);\n",
       "    } else {\n",
       "        this.send_message(\"toolbar_button\", {name: name});\n",
       "    }\n",
       "};\n",
       "\n",
       "mpl.figure.prototype.toolbar_button_onmouseover = function(tooltip) {\n",
       "    this.message.textContent = tooltip;\n",
       "};\n",
       "mpl.toolbar_items = [[\"Home\", \"Reset original view\", \"fa fa-home icon-home\", \"home\"], [\"Back\", \"Back to previous view\", \"fa fa-arrow-left icon-arrow-left\", \"back\"], [\"Forward\", \"Forward to next view\", \"fa fa-arrow-right icon-arrow-right\", \"forward\"], [\"\", \"\", \"\", \"\"], [\"Pan\", \"Pan axes with left mouse, zoom with right\", \"fa fa-arrows icon-move\", \"pan\"], [\"Zoom\", \"Zoom to rectangle\", \"fa fa-square-o icon-check-empty\", \"zoom\"], [\"\", \"\", \"\", \"\"], [\"Download\", \"Download plot\", \"fa fa-floppy-o icon-save\", \"download\"]];\n",
       "\n",
       "mpl.extensions = [\"eps\", \"jpeg\", \"pdf\", \"png\", \"ps\", \"raw\", \"svg\", \"tif\"];\n",
       "\n",
       "mpl.default_extension = \"png\";var comm_websocket_adapter = function(comm) {\n",
       "    // Create a \"websocket\"-like object which calls the given IPython comm\n",
       "    // object with the appropriate methods. Currently this is a non binary\n",
       "    // socket, so there is still some room for performance tuning.\n",
       "    var ws = {};\n",
       "\n",
       "    ws.close = function() {\n",
       "        comm.close()\n",
       "    };\n",
       "    ws.send = function(m) {\n",
       "        //console.log('sending', m);\n",
       "        comm.send(m);\n",
       "    };\n",
       "    // Register the callback with on_msg.\n",
       "    comm.on_msg(function(msg) {\n",
       "        //console.log('receiving', msg['content']['data'], msg);\n",
       "        // Pass the mpl event to the overridden (by mpl) onmessage function.\n",
       "        ws.onmessage(msg['content']['data'])\n",
       "    });\n",
       "    return ws;\n",
       "}\n",
       "\n",
       "mpl.mpl_figure_comm = function(comm, msg) {\n",
       "    // This is the function which gets called when the mpl process\n",
       "    // starts-up an IPython Comm through the \"matplotlib\" channel.\n",
       "\n",
       "    var id = msg.content.data.id;\n",
       "    // Get hold of the div created by the display call when the Comm\n",
       "    // socket was opened in Python.\n",
       "    var element = $(\"#\" + id);\n",
       "    var ws_proxy = comm_websocket_adapter(comm)\n",
       "\n",
       "    function ondownload(figure, format) {\n",
       "        window.open(figure.imageObj.src);\n",
       "    }\n",
       "\n",
       "    var fig = new mpl.figure(id, ws_proxy,\n",
       "                           ondownload,\n",
       "                           element.get(0));\n",
       "\n",
       "    // Call onopen now - mpl needs it, as it is assuming we've passed it a real\n",
       "    // web socket which is closed, not our websocket->open comm proxy.\n",
       "    ws_proxy.onopen();\n",
       "\n",
       "    fig.parent_element = element.get(0);\n",
       "    fig.cell_info = mpl.find_output_cell(\"<div id='\" + id + \"'></div>\");\n",
       "    if (!fig.cell_info) {\n",
       "        console.error(\"Failed to find cell for figure\", id, fig);\n",
       "        return;\n",
       "    }\n",
       "\n",
       "    var output_index = fig.cell_info[2]\n",
       "    var cell = fig.cell_info[0];\n",
       "\n",
       "};\n",
       "\n",
       "mpl.figure.prototype.handle_close = function(fig, msg) {\n",
       "    var width = fig.canvas.width/mpl.ratio\n",
       "    fig.root.unbind('remove')\n",
       "\n",
       "    // Update the output cell to use the data from the current canvas.\n",
       "    fig.push_to_output();\n",
       "    var dataURL = fig.canvas.toDataURL();\n",
       "    // Re-enable the keyboard manager in IPython - without this line, in FF,\n",
       "    // the notebook keyboard shortcuts fail.\n",
       "    IPython.keyboard_manager.enable()\n",
       "    $(fig.parent_element).html('<img src=\"' + dataURL + '\" width=\"' + width + '\">');\n",
       "    fig.close_ws(fig, msg);\n",
       "}\n",
       "\n",
       "mpl.figure.prototype.close_ws = function(fig, msg){\n",
       "    fig.send_message('closing', msg);\n",
       "    // fig.ws.close()\n",
       "}\n",
       "\n",
       "mpl.figure.prototype.push_to_output = function(remove_interactive) {\n",
       "    // Turn the data on the canvas into data in the output cell.\n",
       "    var width = this.canvas.width/mpl.ratio\n",
       "    var dataURL = this.canvas.toDataURL();\n",
       "    this.cell_info[1]['text/html'] = '<img src=\"' + dataURL + '\" width=\"' + width + '\">';\n",
       "}\n",
       "\n",
       "mpl.figure.prototype.updated_canvas_event = function() {\n",
       "    // Tell IPython that the notebook contents must change.\n",
       "    IPython.notebook.set_dirty(true);\n",
       "    this.send_message(\"ack\", {});\n",
       "    var fig = this;\n",
       "    // Wait a second, then push the new image to the DOM so\n",
       "    // that it is saved nicely (might be nice to debounce this).\n",
       "    setTimeout(function () { fig.push_to_output() }, 1000);\n",
       "}\n",
       "\n",
       "mpl.figure.prototype._init_toolbar = function() {\n",
       "    var fig = this;\n",
       "\n",
       "    var nav_element = $('<div/>');\n",
       "    nav_element.attr('style', 'width: 100%');\n",
       "    this.root.append(nav_element);\n",
       "\n",
       "    // Define a callback function for later on.\n",
       "    function toolbar_event(event) {\n",
       "        return fig.toolbar_button_onclick(event['data']);\n",
       "    }\n",
       "    function toolbar_mouse_event(event) {\n",
       "        return fig.toolbar_button_onmouseover(event['data']);\n",
       "    }\n",
       "\n",
       "    for(var toolbar_ind in mpl.toolbar_items){\n",
       "        var name = mpl.toolbar_items[toolbar_ind][0];\n",
       "        var tooltip = mpl.toolbar_items[toolbar_ind][1];\n",
       "        var image = mpl.toolbar_items[toolbar_ind][2];\n",
       "        var method_name = mpl.toolbar_items[toolbar_ind][3];\n",
       "\n",
       "        if (!name) { continue; };\n",
       "\n",
       "        var button = $('<button class=\"btn btn-default\" href=\"#\" title=\"' + name + '\"><i class=\"fa ' + image + ' fa-lg\"></i></button>');\n",
       "        button.click(method_name, toolbar_event);\n",
       "        button.mouseover(tooltip, toolbar_mouse_event);\n",
       "        nav_element.append(button);\n",
       "    }\n",
       "\n",
       "    // Add the status bar.\n",
       "    var status_bar = $('<span class=\"mpl-message\" style=\"text-align:right; float: right;\"/>');\n",
       "    nav_element.append(status_bar);\n",
       "    this.message = status_bar[0];\n",
       "\n",
       "    // Add the close button to the window.\n",
       "    var buttongrp = $('<div class=\"btn-group inline pull-right\"></div>');\n",
       "    var button = $('<button class=\"btn btn-mini btn-primary\" href=\"#\" title=\"Stop Interaction\"><i class=\"fa fa-power-off icon-remove icon-large\"></i></button>');\n",
       "    button.click(function (evt) { fig.handle_close(fig, {}); } );\n",
       "    button.mouseover('Stop Interaction', toolbar_mouse_event);\n",
       "    buttongrp.append(button);\n",
       "    var titlebar = this.root.find($('.ui-dialog-titlebar'));\n",
       "    titlebar.prepend(buttongrp);\n",
       "}\n",
       "\n",
       "mpl.figure.prototype._root_extra_style = function(el){\n",
       "    var fig = this\n",
       "    el.on(\"remove\", function(){\n",
       "\tfig.close_ws(fig, {});\n",
       "    });\n",
       "}\n",
       "\n",
       "mpl.figure.prototype._canvas_extra_style = function(el){\n",
       "    // this is important to make the div 'focusable\n",
       "    el.attr('tabindex', 0)\n",
       "    // reach out to IPython and tell the keyboard manager to turn it's self\n",
       "    // off when our div gets focus\n",
       "\n",
       "    // location in version 3\n",
       "    if (IPython.notebook.keyboard_manager) {\n",
       "        IPython.notebook.keyboard_manager.register_events(el);\n",
       "    }\n",
       "    else {\n",
       "        // location in version 2\n",
       "        IPython.keyboard_manager.register_events(el);\n",
       "    }\n",
       "\n",
       "}\n",
       "\n",
       "mpl.figure.prototype._key_event_extra = function(event, name) {\n",
       "    var manager = IPython.notebook.keyboard_manager;\n",
       "    if (!manager)\n",
       "        manager = IPython.keyboard_manager;\n",
       "\n",
       "    // Check for shift+enter\n",
       "    if (event.shiftKey && event.which == 13) {\n",
       "        this.canvas_div.blur();\n",
       "        // select the cell after this one\n",
       "        var index = IPython.notebook.find_cell_index(this.cell_info[0]);\n",
       "        IPython.notebook.select(index + 1);\n",
       "    }\n",
       "}\n",
       "\n",
       "mpl.figure.prototype.handle_save = function(fig, msg) {\n",
       "    fig.ondownload(fig, null);\n",
       "}\n",
       "\n",
       "\n",
       "mpl.find_output_cell = function(html_output) {\n",
       "    // Return the cell and output element which can be found *uniquely* in the notebook.\n",
       "    // Note - this is a bit hacky, but it is done because the \"notebook_saving.Notebook\"\n",
       "    // IPython event is triggered only after the cells have been serialised, which for\n",
       "    // our purposes (turning an active figure into a static one), is too late.\n",
       "    var cells = IPython.notebook.get_cells();\n",
       "    var ncells = cells.length;\n",
       "    for (var i=0; i<ncells; i++) {\n",
       "        var cell = cells[i];\n",
       "        if (cell.cell_type === 'code'){\n",
       "            for (var j=0; j<cell.output_area.outputs.length; j++) {\n",
       "                var data = cell.output_area.outputs[j];\n",
       "                if (data.data) {\n",
       "                    // IPython >= 3 moved mimebundle to data attribute of output\n",
       "                    data = data.data;\n",
       "                }\n",
       "                if (data['text/html'] == html_output) {\n",
       "                    return [cell, data, j];\n",
       "                }\n",
       "            }\n",
       "        }\n",
       "    }\n",
       "}\n",
       "\n",
       "// Register the function which deals with the matplotlib target/channel.\n",
       "// The kernel may be null if the page has been refreshed.\n",
       "if (IPython.notebook.kernel != null) {\n",
       "    IPython.notebook.kernel.comm_manager.register_target('matplotlib', mpl.mpl_figure_comm);\n",
       "}\n"
      ],
      "text/plain": [
       "<IPython.core.display.Javascript object>"
      ]
     },
     "metadata": {},
     "output_type": "display_data"
    },
    {
     "data": {
      "text/html": [
       "<img src=\"data:image/png;base64,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\" width=\"800\">"
      ],
      "text/plain": [
       "<IPython.core.display.HTML object>"
      ]
     },
     "metadata": {},
     "output_type": "display_data"
    }
   ],
   "source": [
    "fig, ax = plt.subplots(1, 2, figsize=(8, 4))"
   ]
  },
  {
   "cell_type": "code",
   "execution_count": 18,
   "metadata": {
    "ExecuteTime": {
     "end_time": "2020-05-02T10:00:03.093720Z",
     "start_time": "2020-05-02T09:59:59.149137Z"
    }
   },
   "outputs": [
    {
     "name": "stdout",
     "output_type": "stream",
     "text": [
      "training hit rate -->  0.98278125,          validation hit rate -->  0.96512500\n"
     ]
    }
   ],
   "source": [
    "samples = sample.get_samples_order_independent_net(nodes, node_emb, p_gins, 40000)\n",
    "ret = training.classify(samples, 2, conf, ax[0])"
   ]
  },
  {
   "cell_type": "code",
   "execution_count": 19,
   "metadata": {
    "ExecuteTime": {
     "end_time": "2020-05-02T10:00:26.511987Z",
     "start_time": "2020-05-02T10:00:26.507983Z"
    }
   },
   "outputs": [
    {
     "data": {
      "text/plain": [
       "[<matplotlib.lines.Line2D at 0x16c93dd6ec8>]"
      ]
     },
     "execution_count": 19,
     "metadata": {},
     "output_type": "execute_result"
    }
   ],
   "source": [
    "ax[1].plot(ret[3])"
   ]
  },
  {
   "cell_type": "code",
   "execution_count": 20,
   "metadata": {
    "ExecuteTime": {
     "end_time": "2020-05-02T10:00:38.620984Z",
     "start_time": "2020-05-02T10:00:38.615979Z"
    }
   },
   "outputs": [
    {
     "data": {
      "text/plain": [
       "[<matplotlib.lines.Line2D at 0x16c93fda8c8>]"
      ]
     },
     "execution_count": 20,
     "metadata": {},
     "output_type": "execute_result"
    }
   ],
   "source": [
    "ax[1].plot(ret[4])"
   ]
  },
  {
   "cell_type": "code",
   "execution_count": 21,
   "metadata": {
    "ExecuteTime": {
     "end_time": "2020-05-02T10:01:32.681197Z",
     "start_time": "2020-05-02T10:01:32.678195Z"
    }
   },
   "outputs": [
    {
     "data": {
      "text/plain": [
       "201"
      ]
     },
     "execution_count": 21,
     "metadata": {},
     "output_type": "execute_result"
    }
   ],
   "source": [
    "len(ret[1])"
   ]
  },
  {
   "cell_type": "code",
   "execution_count": 23,
   "metadata": {
    "ExecuteTime": {
     "end_time": "2020-05-02T10:05:46.669955Z",
     "start_time": "2020-05-02T10:05:46.663950Z"
    }
   },
   "outputs": [],
   "source": [
    "data = {\n",
    "    'g_name': 'DiSF_b',\n",
    "    'mean': 20,\n",
    "    'beta': 0.0200,\n",
    "    'epochs': list(range(201)),\n",
    "    'Training Loss': ret[1],\n",
    "    'Validation Loss': ret[2],\n",
    "    'Training Accuracy': ret[3],\n",
    "    'Validation Accuracy': ret[4],\n",
    "}\n",
    "data_format.save_json(r'db\\DiSF_b\\img\\training_nn.json', data)"
   ]
  },
  {
   "cell_type": "code",
   "execution_count": 20,
   "metadata": {
    "ExecuteTime": {
     "end_time": "2020-05-02T03:55:33.560021Z",
     "start_time": "2020-05-02T03:55:32.604033Z"
    }
   },
   "outputs": [],
   "source": [
    "samples_test = sample.get_samples_order_independent_net(nodes, node_emb, p_gins)"
   ]
  },
  {
   "cell_type": "code",
   "execution_count": 23,
   "metadata": {
    "ExecuteTime": {
     "end_time": "2020-05-02T03:56:10.459375Z",
     "start_time": "2020-05-02T03:56:10.162648Z"
    }
   },
   "outputs": [
    {
     "data": {
      "text/plain": [
       "0.9676"
      ]
     },
     "execution_count": 23,
     "metadata": {},
     "output_type": "execute_result"
    }
   ],
   "source": [
    "test_guess = model[0](samples_test[:, :-1])\n",
    "\n",
    "training.hit_rate(test_guess, samples_test[:, -1])"
   ]
  },
  {
   "cell_type": "markdown",
   "metadata": {},
   "source": [
    "## Condition: cn20 beta0.0100"
   ]
  },
  {
   "cell_type": "markdown",
   "metadata": {},
   "source": [
    "## Condition: cn20 beta0.0300"
   ]
  },
  {
   "cell_type": "markdown",
   "metadata": {},
   "source": [
    "## Condition: cn20 beta0.0500"
   ]
  }
 ],
 "metadata": {
  "file_extension": ".py",
  "hide_input": false,
  "kernelspec": {
   "display_name": "ComplexNetwork",
   "language": "python",
   "name": "complexnetwork"
  },
  "language_info": {
   "codemirror_mode": {
    "name": "ipython",
    "version": 3
   },
   "file_extension": ".py",
   "mimetype": "text/x-python",
   "name": "python",
   "nbconvert_exporter": "python",
   "pygments_lexer": "ipython3",
   "version": "3.7.6"
  },
  "mimetype": "text/x-python",
  "name": "python",
  "npconvert_exporter": "python",
  "pygments_lexer": "ipython3",
  "toc": {
   "base_numbering": 1,
   "nav_menu": {},
   "number_sections": true,
   "sideBar": true,
   "skip_h1_title": false,
   "title_cell": "Table of Contents",
   "title_sidebar": "Contents",
   "toc_cell": false,
   "toc_position": {
    "height": "calc(100% - 180px)",
    "left": "10px",
    "top": "150px",
    "width": "270.333px"
   },
   "toc_section_display": true,
   "toc_window_display": true
  },
  "varInspector": {
   "cols": {
    "lenName": 16,
    "lenType": 16,
    "lenVar": 40
   },
   "kernels_config": {
    "python": {
     "delete_cmd_postfix": "",
     "delete_cmd_prefix": "del ",
     "library": "var_list.py",
     "varRefreshCmd": "print(var_dic_list())"
    },
    "r": {
     "delete_cmd_postfix": ") ",
     "delete_cmd_prefix": "rm(",
     "library": "var_list.r",
     "varRefreshCmd": "cat(var_dic_list()) "
    }
   },
   "types_to_exclude": [
    "module",
    "function",
    "builtin_function_or_method",
    "instance",
    "_Feature"
   ],
   "window_display": false
  },
  "version": 3
 },
 "nbformat": 4,
 "nbformat_minor": 2
}
