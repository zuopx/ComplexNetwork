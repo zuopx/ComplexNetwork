{
 "cells": [
  {
   "cell_type": "markdown",
   "metadata": {},
   "source": [
    "# NN\n",
    "\n",
    "问题：估计出度为均值（21.75）附近的节点在渗流率为0.012的场景下的属于GIN的概率（也就是作为信息源点能把信息传开的概率） 方法：神经网络的方法"
   ]
  },
  {
   "cell_type": "code",
   "execution_count": 1,
   "metadata": {
    "ExecuteTime": {
     "end_time": "2020-01-07T07:41:54.651437Z",
     "start_time": "2020-01-07T07:41:53.732020Z"
    }
   },
   "outputs": [],
   "source": [
    "import os\n",
    "os.chdir('/home/percy/Documents/Projects/ComplexNetwork')\n",
    "\n",
    "import numpy as np\n",
    "import matplotlib.pyplot as plt\n",
    "import torch\n",
    "import random\n",
    "\n",
    "\n",
    "import cn.data.load_data as load_data\n",
    "import cn.data.convert_data as convert_data\n",
    "import cn.ml.util as mlutil\n",
    "import cn.ml.cm as mlcm"
   ]
  },
  {
   "cell_type": "code",
   "execution_count": 5,
   "metadata": {
    "ExecuteTime": {
     "end_time": "2020-01-07T07:42:12.909299Z",
     "start_time": "2020-01-07T07:42:12.903520Z"
    }
   },
   "outputs": [],
   "source": [
    "import sys\n",
    "import json"
   ]
  },
  {
   "cell_type": "code",
   "execution_count": 3,
   "metadata": {
    "ExecuteTime": {
     "end_time": "2020-01-07T07:41:58.913275Z",
     "start_time": "2020-01-07T07:41:58.872995Z"
    }
   },
   "outputs": [],
   "source": [
    "from scipy import sparse"
   ]
  },
  {
   "cell_type": "code",
   "execution_count": 4,
   "metadata": {
    "ExecuteTime": {
     "end_time": "2020-01-07T07:42:01.108028Z",
     "start_time": "2020-01-07T07:41:58.923241Z"
    }
   },
   "outputs": [],
   "source": [
    "with open('data/snap_twitter/nodes_degree_approx_20.json', 'r') as fr:\n",
    "    nodes_degree_approx_20 = json.load(fr)\n",
    "    \n",
    "node2vec_emb = load_data.load_node2vec_emb('data/snap_twitter/snap_twitter.node2vec.emb')\n",
    "\n",
    "with open('data/snap_twitter/p_gin/p_gin_beta0.0120.json', 'r') as fr:\n",
    "    p_gins = json.load(fr)"
   ]
  },
  {
   "cell_type": "markdown",
   "metadata": {},
   "source": [
    "## Train Model"
   ]
  },
  {
   "cell_type": "markdown",
   "metadata": {},
   "source": [
    "每次从总体中取出10%的点，训练出一个神经网络模型；重复十次"
   ]
  },
  {
   "cell_type": "markdown",
   "metadata": {},
   "source": [
    "### Sample\n",
    "\n",
    "samples = convert_data.sampling_and_converting(...)"
   ]
  },
  {
   "cell_type": "markdown",
   "metadata": {},
   "source": [
    "### Hyperparameters\n",
    "\n",
    "-   model = mlcm.ThreeLayersSequatialTanh(...)\n",
    "-   loss_fn: MSELoss\n",
    "-   optimizer: Adam\n",
    "-   lr = 1e-4\n",
    "-   n_epochs = 5000"
   ]
  },
  {
   "cell_type": "code",
   "execution_count": 17,
   "metadata": {
    "ExecuteTime": {
     "end_time": "2020-01-06T07:50:53.950914Z",
     "start_time": "2020-01-06T07:50:53.942770Z"
    }
   },
   "outputs": [],
   "source": [
    "def train_models():\n",
    "    \"\"\"每次采样10%的点，训练数据测试数据随机8：2，训练出10个模型，挑选测试误差最小的那个。\n",
    "    重复该过程10次。\n",
    "    \"\"\"\n",
    "    models = []\n",
    "    for i in range(10):\n",
    "        print(f'i = {i}:', end='\\t')\n",
    "        # 随机采样\n",
    "        samples = convert_data.sampling_and_converting(nodes_degree_approx_20,\n",
    "                                                       node2vec_emb, p_gins)\n",
    "        loss_min = sys.float_info.max\n",
    "        model_loss_min = None\n",
    "        for j in range(10):\n",
    "            print(j, end=' ')\n",
    "            model = mlcm.ThreeLayersSequentialTanh(128, 1, 80, 40)\n",
    "            loss_fn = torch.nn.MSELoss()\n",
    "            optimizer = torch.optim.Adam(model.parameters(), lr=1e-4)\n",
    "            # 随机分训练数据和验证数据\n",
    "            train_validate_samples = mlutil.split_samples(samples)\n",
    "            _, validate_losses = mlutil.training_loop(model, loss_fn, optimizer,\n",
    "                                                      *train_validate_samples, \n",
    "                                                      n_epochs=1000)\n",
    "            # 更新最优模型\n",
    "            if validate_losses[-1] < loss_min:\n",
    "                model_loss_min = model\n",
    "                loss_min = validate_losses[-1]\n",
    "        print('\\t', loss_min)\n",
    "        models.append(model_loss_min)\n",
    "    return models"
   ]
  },
  {
   "cell_type": "code",
   "execution_count": 18,
   "metadata": {
    "ExecuteTime": {
     "end_time": "2020-01-06T07:53:25.825101Z",
     "start_time": "2020-01-06T07:51:06.830645Z"
    },
    "collapsed": true
   },
   "outputs": [
    {
     "name": "stdout",
     "output_type": "stream",
     "text": [
      "i = 0:\t0 1 2 3 4 5 6 7 8 9 \t 0.00027812528423964977\n",
      "i = 1:\t0 1 2 3 4 5 6 7 8 9 \t 0.00026384572265669703\n",
      "i = 2:\t0 1 2 3 4 5 6 7 8 9 \t 0.00021232967264950275\n",
      "i = 3:\t0 1 2 3 4 5 6 7 8 9 \t 0.00020710911485366523\n",
      "i = 4:\t0 1 2 3 4 5 6 7 8 9 \t 0.0002963529259432107\n",
      "i = 5:\t0 1 2 3 4 5 6 7 8 9 \t 0.00025800717412494123\n",
      "i = 6:\t0 1 2 3 4 5 6 7 8 9 \t 0.0002871386241167784\n",
      "i = 7:\t0 1 2 3 4 5 6 7 8 9 \t 9.684824181022123e-05\n",
      "i = 8:\t0 1 2 3 4 5 6 7 8 9 \t 0.00018854787049349397\n",
      "i = 9:\t0 1 2 3 4 5 6 7 8 9 \t 0.00023024668917059898\n"
     ]
    }
   ],
   "source": [
    "models = train_models()"
   ]
  },
  {
   "cell_type": "code",
   "execution_count": 22,
   "metadata": {
    "ExecuteTime": {
     "end_time": "2020-01-06T08:00:15.708552Z",
     "start_time": "2020-01-06T08:00:15.699125Z"
    }
   },
   "outputs": [],
   "source": [
    "folder = 'data/snap_twitter/cn20/cn20_beta0.0120/nn_models/'\n",
    "for i, m in enumerate(models):\n",
    "    torch.save(m.state_dict(), folder + f'model{i}.pt')"
   ]
  },
  {
   "cell_type": "markdown",
   "metadata": {},
   "source": [
    "## Critical User Identification"
   ]
  },
  {
   "cell_type": "code",
   "execution_count": 26,
   "metadata": {
    "ExecuteTime": {
     "end_time": "2020-01-06T08:09:49.547163Z",
     "start_time": "2020-01-06T08:09:49.541744Z"
    }
   },
   "outputs": [],
   "source": [
    "with open('data/snap_twitter/cn 20.json') as fr:\n",
    "    cn20 = json.load(fr)"
   ]
  },
  {
   "cell_type": "code",
   "execution_count": 35,
   "metadata": {
    "ExecuteTime": {
     "end_time": "2020-01-06T08:18:23.074758Z",
     "start_time": "2020-01-06T08:18:23.069123Z"
    }
   },
   "outputs": [],
   "source": [
    "def sort_cns(cns: list, node2vec_emb: dict, model: torch.nn.Module) -> list:\n",
    "    nn_cns = torch.Tensor([node2vec_emb[cn] for cn in cns])\n",
    "    p_gins = model(nn_cns)\n",
    "    p_gins_sorted, indices = torch.sort(p_gins, 0, True)\n",
    "    return [cns[i] for i in indices]"
   ]
  },
  {
   "cell_type": "code",
   "execution_count": 40,
   "metadata": {
    "ExecuteTime": {
     "end_time": "2020-01-06T08:35:38.315075Z",
     "start_time": "2020-01-06T08:35:37.737682Z"
    }
   },
   "outputs": [],
   "source": [
    "for i in range(10):\n",
    "    model = mlcm.ThreeLayersSequentialTanh(128, 1, 80, 40)\n",
    "    path = folder + f'model{i}.pt'\n",
    "    model.load_state_dict(torch.load(path))\n",
    "    model.eval()\n",
    "    cn20_sorted = []\n",
    "    for cns in cn20:\n",
    "        cns_sorted = sort_cns(cns, node2vec_emb, model)\n",
    "        cn20_sorted.append(cns_sorted)\n",
    "        \n",
    "    dst = folder + f'cn20_sorted{i}.json'\n",
    "    with open(dst, 'w') as fw:\n",
    "        json.dump(cn20_sorted, fw)    "
   ]
  },
  {
   "cell_type": "markdown",
   "metadata": {},
   "source": [
    "## Calculate Spread Power"
   ]
  },
  {
   "cell_type": "code",
   "execution_count": 38,
   "metadata": {
    "ExecuteTime": {
     "end_time": "2020-01-06T08:32:58.262982Z",
     "start_time": "2020-01-06T08:32:57.971776Z"
    }
   },
   "outputs": [],
   "source": [
    "mat_path = 'data/snap_twitter/gin_mat/0.0120.npz'\n",
    "gin_mat = sparse.load_npz(mat_path).toarray()"
   ]
  },
  {
   "cell_type": "code",
   "execution_count": 6,
   "metadata": {
    "ExecuteTime": {
     "end_time": "2020-01-07T07:52:00.904130Z",
     "start_time": "2020-01-07T07:52:00.899685Z"
    }
   },
   "outputs": [],
   "source": [
    "gout_size = 2121.119174379556"
   ]
  },
  {
   "cell_type": "code",
   "execution_count": 42,
   "metadata": {
    "ExecuteTime": {
     "end_time": "2020-01-06T08:38:31.699128Z",
     "start_time": "2020-01-06T08:38:31.692943Z"
    }
   },
   "outputs": [],
   "source": [
    "def cal_sp(seeds, gin_mat, gout_size: float):\n",
    "    \"\"\"\n",
    "    gin_mat: 2d-array\n",
    "    return: list\n",
    "    \"\"\"\n",
    "    sub_mat = gin_mat[np.array(seeds)]\n",
    "    virus_mat = np.cumsum(sub_mat, axis=0) > 0\n",
    "    virus = virus_mat.sum(axis=1)\n",
    "    sp = virus / gin_mat.shape[1] * gout_size\n",
    "    return list(sp)"
   ]
  },
  {
   "cell_type": "code",
   "execution_count": 43,
   "metadata": {
    "ExecuteTime": {
     "end_time": "2020-01-06T08:38:44.030842Z",
     "start_time": "2020-01-06T08:38:38.023477Z"
    }
   },
   "outputs": [],
   "source": [
    "for i in range(10):\n",
    "    src = folder + f'cn20_sorted{i}.json'\n",
    "    with open(src) as fr:\n",
    "        cn20_sorted = json.load(fr)\n",
    "    cn20_sp = []\n",
    "    for cns in cn20_sorted:\n",
    "        sps = cal_sp(cns, gin_mat, gout_size)\n",
    "        cn20_sp.append(sps)\n",
    "    dst = folder + f'cn20_sp{i}.json'\n",
    "    with open(dst, 'w') as fw:\n",
    "        json.dump(cn20_sp, fw)"
   ]
  },
  {
   "cell_type": "code",
   "execution_count": 54,
   "metadata": {
    "ExecuteTime": {
     "end_time": "2020-01-06T08:48:00.961510Z",
     "start_time": "2020-01-06T08:48:00.922471Z"
    }
   },
   "outputs": [],
   "source": [
    "sp = np.zeros(100)\n",
    "for i in range(10):\n",
    "    src = folder + f'cn20_sp{i}.json'\n",
    "    with open(src) as fr:\n",
    "        cn20_sp = json.load(fr)\n",
    "    for sps in cn20_sp:\n",
    "        sp += np.array(sps)\n",
    "sp = sp / (10 * 100)\n",
    "dst = folder + 'cn20_sp_total.json'\n",
    "with open(dst, 'w') as fw:\n",
    "    json.dump(list(sp), fw)"
   ]
  },
  {
   "cell_type": "code",
   "execution_count": 51,
   "metadata": {
    "ExecuteTime": {
     "end_time": "2020-01-06T08:46:33.597373Z",
     "start_time": "2020-01-06T08:46:33.591625Z"
    }
   },
   "outputs": [],
   "source": [
    "sp = len(sp)"
   ]
  },
  {
   "cell_type": "code",
   "execution_count": 53,
   "metadata": {
    "ExecuteTime": {
     "end_time": "2020-01-06T08:47:25.555644Z",
     "start_time": "2020-01-06T08:47:25.550125Z"
    }
   },
   "outputs": [],
   "source": [
    "dst = folder + 'cn20_sp_total.json'\n",
    "with open(dst, 'w') as fw:\n",
    "    json.dump(sp, fw)"
   ]
  },
  {
   "cell_type": "code",
   "execution_count": 10,
   "metadata": {
    "ExecuteTime": {
     "end_time": "2020-01-07T07:54:22.426653Z",
     "start_time": "2020-01-07T07:54:22.419535Z"
    }
   },
   "outputs": [],
   "source": [
    "src = folder + 'cn20_sp_total.json'\n",
    "with open(src) as fr:\n",
    "    y = json.load(fr)\n",
    "y = list(np.array(y) / gout_size)"
   ]
  },
  {
   "cell_type": "markdown",
   "metadata": {},
   "source": [
    "## Plot"
   ]
  },
  {
   "cell_type": "code",
   "execution_count": 12,
   "metadata": {
    "ExecuteTime": {
     "end_time": "2020-01-07T07:54:53.358256Z",
     "start_time": "2020-01-07T07:54:53.353033Z"
    }
   },
   "outputs": [],
   "source": [
    "with open('data/snap_twitter/img/graph/20 0.0120 [P_GIN, NPBGA].json') as fr:\n",
    "    data1 = json.load(fr)\n",
    "# data2 = list(sp / gout_size)"
   ]
  },
  {
   "cell_type": "code",
   "execution_count": 13,
   "metadata": {
    "ExecuteTime": {
     "end_time": "2020-01-07T07:54:59.854542Z",
     "start_time": "2020-01-07T07:54:59.850189Z"
    }
   },
   "outputs": [],
   "source": [
    "with open('data/snap_twitter/img/graph/20 0.0120 [NPBGA, PBGA, MD, MKS, MC, CI].json') as fr:\n",
    "    data3 = json.load(fr)\n",
    "yk = []\n",
    "for k in data3:\n",
    "    yk.append(data3[k]['MKS'])"
   ]
  },
  {
   "cell_type": "code",
   "execution_count": 72,
   "metadata": {
    "ExecuteTime": {
     "end_time": "2020-01-06T09:02:31.331336Z",
     "start_time": "2020-01-06T09:02:31.324944Z"
    }
   },
   "outputs": [],
   "source": [
    "y = data2"
   ]
  },
  {
   "cell_type": "code",
   "execution_count": 14,
   "metadata": {
    "ExecuteTime": {
     "end_time": "2020-01-07T07:55:11.494560Z",
     "start_time": "2020-01-07T07:55:11.489665Z"
    }
   },
   "outputs": [],
   "source": [
    "yp, yn = [], []\n",
    "for k in data1:\n",
    "    yp.append(data1[k]['P_GIN'])\n",
    "    yn.append(data1[k]['NPBGA'])"
   ]
  },
  {
   "cell_type": "code",
   "execution_count": 69,
   "metadata": {
    "ExecuteTime": {
     "end_time": "2020-01-06T09:02:01.162506Z",
     "start_time": "2020-01-06T09:02:01.158162Z"
    }
   },
   "outputs": [],
   "source": [
    "x = list(range(100))"
   ]
  },
  {
   "cell_type": "code",
   "execution_count": 83,
   "metadata": {
    "ExecuteTime": {
     "end_time": "2020-01-06T10:02:14.975989Z",
     "start_time": "2020-01-06T10:02:14.950716Z"
    }
   },
   "outputs": [
    {
     "data": {
      "text/plain": [
       "[<matplotlib.lines.Line2D at 0x7f23eea8db50>]"
      ]
     },
     "execution_count": 83,
     "metadata": {},
     "output_type": "execute_result"
    }
   ],
   "source": [
    "ax.cla()\n",
    "ax.plot(x, y, 'k', label='NN_PGIN')\n",
    "ax.plot(x, yk, '-.', c='gray', label='MKS')\n",
    "ax.plot(x, yp, '--', c='gray', label='PGIN')"
   ]
  },
  {
   "cell_type": "code",
   "execution_count": 87,
   "metadata": {
    "ExecuteTime": {
     "end_time": "2020-01-06T10:04:13.543277Z",
     "start_time": "2020-01-06T10:04:13.536669Z"
    }
   },
   "outputs": [],
   "source": [
    "ax.grid(alpha=0.2)"
   ]
  },
  {
   "cell_type": "code",
   "execution_count": 94,
   "metadata": {
    "ExecuteTime": {
     "end_time": "2020-01-06T10:11:50.593269Z",
     "start_time": "2020-01-06T10:11:50.578821Z"
    }
   },
   "outputs": [
    {
     "data": {
      "text/plain": [
       "<matplotlib.legend.Legend at 0x7f23ee7e3210>"
      ]
     },
     "execution_count": 94,
     "metadata": {},
     "output_type": "execute_result"
    }
   ],
   "source": [
    "ax.legend(fontsize=12)"
   ]
  },
  {
   "cell_type": "code",
   "execution_count": 95,
   "metadata": {
    "ExecuteTime": {
     "end_time": "2020-01-06T10:12:10.805581Z",
     "start_time": "2020-01-06T10:12:10.787216Z"
    }
   },
   "outputs": [],
   "source": [
    "fig.tight_layout()"
   ]
  },
  {
   "cell_type": "code",
   "execution_count": 96,
   "metadata": {
    "ExecuteTime": {
     "end_time": "2020-01-06T10:13:23.104399Z",
     "start_time": "2020-01-06T10:13:23.058123Z"
    }
   },
   "outputs": [],
   "source": [
    "fig.savefig('data/snap_twitter/img/NN_PGIN-PGIN-MKS.png')"
   ]
  },
  {
   "cell_type": "code",
   "execution_count": 92,
   "metadata": {
    "ExecuteTime": {
     "end_time": "2020-01-06T10:10:30.383547Z",
     "start_time": "2020-01-06T10:10:30.377157Z"
    }
   },
   "outputs": [
    {
     "data": {
      "text/plain": [
       "Text(51.166666666666664, 0.5, '$S(V)/S^\\\\infty$')"
      ]
     },
     "execution_count": 92,
     "metadata": {},
     "output_type": "execute_result"
    }
   ],
   "source": [
    "ax.set_xlabel('# seeds', fontsize=16)\n",
    "ax.set_ylabel(r'$S(V)/S^\\infty$', fontsize=16)"
   ]
  },
  {
   "cell_type": "code",
   "execution_count": 91,
   "metadata": {
    "ExecuteTime": {
     "end_time": "2020-01-06T10:08:21.197359Z",
     "start_time": "2020-01-06T10:08:21.191587Z"
    }
   },
   "outputs": [
    {
     "data": {
      "text/plain": [
       "str"
      ]
     },
     "execution_count": 91,
     "metadata": {},
     "output_type": "execute_result"
    }
   ],
   "source": [
    "type(ax.get_xlabel())"
   ]
  },
  {
   "cell_type": "code",
   "execution_count": 68,
   "metadata": {
    "ExecuteTime": {
     "end_time": "2020-01-06T09:01:19.428496Z",
     "start_time": "2020-01-06T09:01:19.409254Z"
    }
   },
   "outputs": [
    {
     "data": {
      "application/javascript": [
       "/* Put everything inside the global mpl namespace */\n",
       "window.mpl = {};\n",
       "\n",
       "\n",
       "mpl.get_websocket_type = function() {\n",
       "    if (typeof(WebSocket) !== 'undefined') {\n",
       "        return WebSocket;\n",
       "    } else if (typeof(MozWebSocket) !== 'undefined') {\n",
       "        return MozWebSocket;\n",
       "    } else {\n",
       "        alert('Your browser does not have WebSocket support. ' +\n",
       "              'Please try Chrome, Safari or Firefox ≥ 6. ' +\n",
       "              'Firefox 4 and 5 are also supported but you ' +\n",
       "              'have to enable WebSockets in about:config.');\n",
       "    };\n",
       "}\n",
       "\n",
       "mpl.figure = function(figure_id, websocket, ondownload, parent_element) {\n",
       "    this.id = figure_id;\n",
       "\n",
       "    this.ws = websocket;\n",
       "\n",
       "    this.supports_binary = (this.ws.binaryType != undefined);\n",
       "\n",
       "    if (!this.supports_binary) {\n",
       "        var warnings = document.getElementById(\"mpl-warnings\");\n",
       "        if (warnings) {\n",
       "            warnings.style.display = 'block';\n",
       "            warnings.textContent = (\n",
       "                \"This browser does not support binary websocket messages. \" +\n",
       "                    \"Performance may be slow.\");\n",
       "        }\n",
       "    }\n",
       "\n",
       "    this.imageObj = new Image();\n",
       "\n",
       "    this.context = undefined;\n",
       "    this.message = undefined;\n",
       "    this.canvas = undefined;\n",
       "    this.rubberband_canvas = undefined;\n",
       "    this.rubberband_context = undefined;\n",
       "    this.format_dropdown = undefined;\n",
       "\n",
       "    this.image_mode = 'full';\n",
       "\n",
       "    this.root = $('<div/>');\n",
       "    this._root_extra_style(this.root)\n",
       "    this.root.attr('style', 'display: inline-block');\n",
       "\n",
       "    $(parent_element).append(this.root);\n",
       "\n",
       "    this._init_header(this);\n",
       "    this._init_canvas(this);\n",
       "    this._init_toolbar(this);\n",
       "\n",
       "    var fig = this;\n",
       "\n",
       "    this.waiting = false;\n",
       "\n",
       "    this.ws.onopen =  function () {\n",
       "            fig.send_message(\"supports_binary\", {value: fig.supports_binary});\n",
       "            fig.send_message(\"send_image_mode\", {});\n",
       "            if (mpl.ratio != 1) {\n",
       "                fig.send_message(\"set_dpi_ratio\", {'dpi_ratio': mpl.ratio});\n",
       "            }\n",
       "            fig.send_message(\"refresh\", {});\n",
       "        }\n",
       "\n",
       "    this.imageObj.onload = function() {\n",
       "            if (fig.image_mode == 'full') {\n",
       "                // Full images could contain transparency (where diff images\n",
       "                // almost always do), so we need to clear the canvas so that\n",
       "                // there is no ghosting.\n",
       "                fig.context.clearRect(0, 0, fig.canvas.width, fig.canvas.height);\n",
       "            }\n",
       "            fig.context.drawImage(fig.imageObj, 0, 0);\n",
       "        };\n",
       "\n",
       "    this.imageObj.onunload = function() {\n",
       "        fig.ws.close();\n",
       "    }\n",
       "\n",
       "    this.ws.onmessage = this._make_on_message_function(this);\n",
       "\n",
       "    this.ondownload = ondownload;\n",
       "}\n",
       "\n",
       "mpl.figure.prototype._init_header = function() {\n",
       "    var titlebar = $(\n",
       "        '<div class=\"ui-dialog-titlebar ui-widget-header ui-corner-all ' +\n",
       "        'ui-helper-clearfix\"/>');\n",
       "    var titletext = $(\n",
       "        '<div class=\"ui-dialog-title\" style=\"width: 100%; ' +\n",
       "        'text-align: center; padding: 3px;\"/>');\n",
       "    titlebar.append(titletext)\n",
       "    this.root.append(titlebar);\n",
       "    this.header = titletext[0];\n",
       "}\n",
       "\n",
       "\n",
       "\n",
       "mpl.figure.prototype._canvas_extra_style = function(canvas_div) {\n",
       "\n",
       "}\n",
       "\n",
       "\n",
       "mpl.figure.prototype._root_extra_style = function(canvas_div) {\n",
       "\n",
       "}\n",
       "\n",
       "mpl.figure.prototype._init_canvas = function() {\n",
       "    var fig = this;\n",
       "\n",
       "    var canvas_div = $('<div/>');\n",
       "\n",
       "    canvas_div.attr('style', 'position: relative; clear: both; outline: 0');\n",
       "\n",
       "    function canvas_keyboard_event(event) {\n",
       "        return fig.key_event(event, event['data']);\n",
       "    }\n",
       "\n",
       "    canvas_div.keydown('key_press', canvas_keyboard_event);\n",
       "    canvas_div.keyup('key_release', canvas_keyboard_event);\n",
       "    this.canvas_div = canvas_div\n",
       "    this._canvas_extra_style(canvas_div)\n",
       "    this.root.append(canvas_div);\n",
       "\n",
       "    var canvas = $('<canvas/>');\n",
       "    canvas.addClass('mpl-canvas');\n",
       "    canvas.attr('style', \"left: 0; top: 0; z-index: 0; outline: 0\")\n",
       "\n",
       "    this.canvas = canvas[0];\n",
       "    this.context = canvas[0].getContext(\"2d\");\n",
       "\n",
       "    var backingStore = this.context.backingStorePixelRatio ||\n",
       "\tthis.context.webkitBackingStorePixelRatio ||\n",
       "\tthis.context.mozBackingStorePixelRatio ||\n",
       "\tthis.context.msBackingStorePixelRatio ||\n",
       "\tthis.context.oBackingStorePixelRatio ||\n",
       "\tthis.context.backingStorePixelRatio || 1;\n",
       "\n",
       "    mpl.ratio = (window.devicePixelRatio || 1) / backingStore;\n",
       "\n",
       "    var rubberband = $('<canvas/>');\n",
       "    rubberband.attr('style', \"position: absolute; left: 0; top: 0; z-index: 1;\")\n",
       "\n",
       "    var pass_mouse_events = true;\n",
       "\n",
       "    canvas_div.resizable({\n",
       "        start: function(event, ui) {\n",
       "            pass_mouse_events = false;\n",
       "        },\n",
       "        resize: function(event, ui) {\n",
       "            fig.request_resize(ui.size.width, ui.size.height);\n",
       "        },\n",
       "        stop: function(event, ui) {\n",
       "            pass_mouse_events = true;\n",
       "            fig.request_resize(ui.size.width, ui.size.height);\n",
       "        },\n",
       "    });\n",
       "\n",
       "    function mouse_event_fn(event) {\n",
       "        if (pass_mouse_events)\n",
       "            return fig.mouse_event(event, event['data']);\n",
       "    }\n",
       "\n",
       "    rubberband.mousedown('button_press', mouse_event_fn);\n",
       "    rubberband.mouseup('button_release', mouse_event_fn);\n",
       "    // Throttle sequential mouse events to 1 every 20ms.\n",
       "    rubberband.mousemove('motion_notify', mouse_event_fn);\n",
       "\n",
       "    rubberband.mouseenter('figure_enter', mouse_event_fn);\n",
       "    rubberband.mouseleave('figure_leave', mouse_event_fn);\n",
       "\n",
       "    canvas_div.on(\"wheel\", function (event) {\n",
       "        event = event.originalEvent;\n",
       "        event['data'] = 'scroll'\n",
       "        if (event.deltaY < 0) {\n",
       "            event.step = 1;\n",
       "        } else {\n",
       "            event.step = -1;\n",
       "        }\n",
       "        mouse_event_fn(event);\n",
       "    });\n",
       "\n",
       "    canvas_div.append(canvas);\n",
       "    canvas_div.append(rubberband);\n",
       "\n",
       "    this.rubberband = rubberband;\n",
       "    this.rubberband_canvas = rubberband[0];\n",
       "    this.rubberband_context = rubberband[0].getContext(\"2d\");\n",
       "    this.rubberband_context.strokeStyle = \"#000000\";\n",
       "\n",
       "    this._resize_canvas = function(width, height) {\n",
       "        // Keep the size of the canvas, canvas container, and rubber band\n",
       "        // canvas in synch.\n",
       "        canvas_div.css('width', width)\n",
       "        canvas_div.css('height', height)\n",
       "\n",
       "        canvas.attr('width', width * mpl.ratio);\n",
       "        canvas.attr('height', height * mpl.ratio);\n",
       "        canvas.attr('style', 'width: ' + width + 'px; height: ' + height + 'px;');\n",
       "\n",
       "        rubberband.attr('width', width);\n",
       "        rubberband.attr('height', height);\n",
       "    }\n",
       "\n",
       "    // Set the figure to an initial 600x600px, this will subsequently be updated\n",
       "    // upon first draw.\n",
       "    this._resize_canvas(600, 600);\n",
       "\n",
       "    // Disable right mouse context menu.\n",
       "    $(this.rubberband_canvas).bind(\"contextmenu\",function(e){\n",
       "        return false;\n",
       "    });\n",
       "\n",
       "    function set_focus () {\n",
       "        canvas.focus();\n",
       "        canvas_div.focus();\n",
       "    }\n",
       "\n",
       "    window.setTimeout(set_focus, 100);\n",
       "}\n",
       "\n",
       "mpl.figure.prototype._init_toolbar = function() {\n",
       "    var fig = this;\n",
       "\n",
       "    var nav_element = $('<div/>');\n",
       "    nav_element.attr('style', 'width: 100%');\n",
       "    this.root.append(nav_element);\n",
       "\n",
       "    // Define a callback function for later on.\n",
       "    function toolbar_event(event) {\n",
       "        return fig.toolbar_button_onclick(event['data']);\n",
       "    }\n",
       "    function toolbar_mouse_event(event) {\n",
       "        return fig.toolbar_button_onmouseover(event['data']);\n",
       "    }\n",
       "\n",
       "    for(var toolbar_ind in mpl.toolbar_items) {\n",
       "        var name = mpl.toolbar_items[toolbar_ind][0];\n",
       "        var tooltip = mpl.toolbar_items[toolbar_ind][1];\n",
       "        var image = mpl.toolbar_items[toolbar_ind][2];\n",
       "        var method_name = mpl.toolbar_items[toolbar_ind][3];\n",
       "\n",
       "        if (!name) {\n",
       "            // put a spacer in here.\n",
       "            continue;\n",
       "        }\n",
       "        var button = $('<button/>');\n",
       "        button.addClass('ui-button ui-widget ui-state-default ui-corner-all ' +\n",
       "                        'ui-button-icon-only');\n",
       "        button.attr('role', 'button');\n",
       "        button.attr('aria-disabled', 'false');\n",
       "        button.click(method_name, toolbar_event);\n",
       "        button.mouseover(tooltip, toolbar_mouse_event);\n",
       "\n",
       "        var icon_img = $('<span/>');\n",
       "        icon_img.addClass('ui-button-icon-primary ui-icon');\n",
       "        icon_img.addClass(image);\n",
       "        icon_img.addClass('ui-corner-all');\n",
       "\n",
       "        var tooltip_span = $('<span/>');\n",
       "        tooltip_span.addClass('ui-button-text');\n",
       "        tooltip_span.html(tooltip);\n",
       "\n",
       "        button.append(icon_img);\n",
       "        button.append(tooltip_span);\n",
       "\n",
       "        nav_element.append(button);\n",
       "    }\n",
       "\n",
       "    var fmt_picker_span = $('<span/>');\n",
       "\n",
       "    var fmt_picker = $('<select/>');\n",
       "    fmt_picker.addClass('mpl-toolbar-option ui-widget ui-widget-content');\n",
       "    fmt_picker_span.append(fmt_picker);\n",
       "    nav_element.append(fmt_picker_span);\n",
       "    this.format_dropdown = fmt_picker[0];\n",
       "\n",
       "    for (var ind in mpl.extensions) {\n",
       "        var fmt = mpl.extensions[ind];\n",
       "        var option = $(\n",
       "            '<option/>', {selected: fmt === mpl.default_extension}).html(fmt);\n",
       "        fmt_picker.append(option);\n",
       "    }\n",
       "\n",
       "    // Add hover states to the ui-buttons\n",
       "    $( \".ui-button\" ).hover(\n",
       "        function() { $(this).addClass(\"ui-state-hover\");},\n",
       "        function() { $(this).removeClass(\"ui-state-hover\");}\n",
       "    );\n",
       "\n",
       "    var status_bar = $('<span class=\"mpl-message\"/>');\n",
       "    nav_element.append(status_bar);\n",
       "    this.message = status_bar[0];\n",
       "}\n",
       "\n",
       "mpl.figure.prototype.request_resize = function(x_pixels, y_pixels) {\n",
       "    // Request matplotlib to resize the figure. Matplotlib will then trigger a resize in the client,\n",
       "    // which will in turn request a refresh of the image.\n",
       "    this.send_message('resize', {'width': x_pixels, 'height': y_pixels});\n",
       "}\n",
       "\n",
       "mpl.figure.prototype.send_message = function(type, properties) {\n",
       "    properties['type'] = type;\n",
       "    properties['figure_id'] = this.id;\n",
       "    this.ws.send(JSON.stringify(properties));\n",
       "}\n",
       "\n",
       "mpl.figure.prototype.send_draw_message = function() {\n",
       "    if (!this.waiting) {\n",
       "        this.waiting = true;\n",
       "        this.ws.send(JSON.stringify({type: \"draw\", figure_id: this.id}));\n",
       "    }\n",
       "}\n",
       "\n",
       "\n",
       "mpl.figure.prototype.handle_save = function(fig, msg) {\n",
       "    var format_dropdown = fig.format_dropdown;\n",
       "    var format = format_dropdown.options[format_dropdown.selectedIndex].value;\n",
       "    fig.ondownload(fig, format);\n",
       "}\n",
       "\n",
       "\n",
       "mpl.figure.prototype.handle_resize = function(fig, msg) {\n",
       "    var size = msg['size'];\n",
       "    if (size[0] != fig.canvas.width || size[1] != fig.canvas.height) {\n",
       "        fig._resize_canvas(size[0], size[1]);\n",
       "        fig.send_message(\"refresh\", {});\n",
       "    };\n",
       "}\n",
       "\n",
       "mpl.figure.prototype.handle_rubberband = function(fig, msg) {\n",
       "    var x0 = msg['x0'] / mpl.ratio;\n",
       "    var y0 = (fig.canvas.height - msg['y0']) / mpl.ratio;\n",
       "    var x1 = msg['x1'] / mpl.ratio;\n",
       "    var y1 = (fig.canvas.height - msg['y1']) / mpl.ratio;\n",
       "    x0 = Math.floor(x0) + 0.5;\n",
       "    y0 = Math.floor(y0) + 0.5;\n",
       "    x1 = Math.floor(x1) + 0.5;\n",
       "    y1 = Math.floor(y1) + 0.5;\n",
       "    var min_x = Math.min(x0, x1);\n",
       "    var min_y = Math.min(y0, y1);\n",
       "    var width = Math.abs(x1 - x0);\n",
       "    var height = Math.abs(y1 - y0);\n",
       "\n",
       "    fig.rubberband_context.clearRect(\n",
       "        0, 0, fig.canvas.width / mpl.ratio, fig.canvas.height / mpl.ratio);\n",
       "\n",
       "    fig.rubberband_context.strokeRect(min_x, min_y, width, height);\n",
       "}\n",
       "\n",
       "mpl.figure.prototype.handle_figure_label = function(fig, msg) {\n",
       "    // Updates the figure title.\n",
       "    fig.header.textContent = msg['label'];\n",
       "}\n",
       "\n",
       "mpl.figure.prototype.handle_cursor = function(fig, msg) {\n",
       "    var cursor = msg['cursor'];\n",
       "    switch(cursor)\n",
       "    {\n",
       "    case 0:\n",
       "        cursor = 'pointer';\n",
       "        break;\n",
       "    case 1:\n",
       "        cursor = 'default';\n",
       "        break;\n",
       "    case 2:\n",
       "        cursor = 'crosshair';\n",
       "        break;\n",
       "    case 3:\n",
       "        cursor = 'move';\n",
       "        break;\n",
       "    }\n",
       "    fig.rubberband_canvas.style.cursor = cursor;\n",
       "}\n",
       "\n",
       "mpl.figure.prototype.handle_message = function(fig, msg) {\n",
       "    fig.message.textContent = msg['message'];\n",
       "}\n",
       "\n",
       "mpl.figure.prototype.handle_draw = function(fig, msg) {\n",
       "    // Request the server to send over a new figure.\n",
       "    fig.send_draw_message();\n",
       "}\n",
       "\n",
       "mpl.figure.prototype.handle_image_mode = function(fig, msg) {\n",
       "    fig.image_mode = msg['mode'];\n",
       "}\n",
       "\n",
       "mpl.figure.prototype.updated_canvas_event = function() {\n",
       "    // Called whenever the canvas gets updated.\n",
       "    this.send_message(\"ack\", {});\n",
       "}\n",
       "\n",
       "// A function to construct a web socket function for onmessage handling.\n",
       "// Called in the figure constructor.\n",
       "mpl.figure.prototype._make_on_message_function = function(fig) {\n",
       "    return function socket_on_message(evt) {\n",
       "        if (evt.data instanceof Blob) {\n",
       "            /* FIXME: We get \"Resource interpreted as Image but\n",
       "             * transferred with MIME type text/plain:\" errors on\n",
       "             * Chrome.  But how to set the MIME type?  It doesn't seem\n",
       "             * to be part of the websocket stream */\n",
       "            evt.data.type = \"image/png\";\n",
       "\n",
       "            /* Free the memory for the previous frames */\n",
       "            if (fig.imageObj.src) {\n",
       "                (window.URL || window.webkitURL).revokeObjectURL(\n",
       "                    fig.imageObj.src);\n",
       "            }\n",
       "\n",
       "            fig.imageObj.src = (window.URL || window.webkitURL).createObjectURL(\n",
       "                evt.data);\n",
       "            fig.updated_canvas_event();\n",
       "            fig.waiting = false;\n",
       "            return;\n",
       "        }\n",
       "        else if (typeof evt.data === 'string' && evt.data.slice(0, 21) == \"data:image/png;base64\") {\n",
       "            fig.imageObj.src = evt.data;\n",
       "            fig.updated_canvas_event();\n",
       "            fig.waiting = false;\n",
       "            return;\n",
       "        }\n",
       "\n",
       "        var msg = JSON.parse(evt.data);\n",
       "        var msg_type = msg['type'];\n",
       "\n",
       "        // Call the  \"handle_{type}\" callback, which takes\n",
       "        // the figure and JSON message as its only arguments.\n",
       "        try {\n",
       "            var callback = fig[\"handle_\" + msg_type];\n",
       "        } catch (e) {\n",
       "            console.log(\"No handler for the '\" + msg_type + \"' message type: \", msg);\n",
       "            return;\n",
       "        }\n",
       "\n",
       "        if (callback) {\n",
       "            try {\n",
       "                // console.log(\"Handling '\" + msg_type + \"' message: \", msg);\n",
       "                callback(fig, msg);\n",
       "            } catch (e) {\n",
       "                console.log(\"Exception inside the 'handler_\" + msg_type + \"' callback:\", e, e.stack, msg);\n",
       "            }\n",
       "        }\n",
       "    };\n",
       "}\n",
       "\n",
       "// from http://stackoverflow.com/questions/1114465/getting-mouse-location-in-canvas\n",
       "mpl.findpos = function(e) {\n",
       "    //this section is from http://www.quirksmode.org/js/events_properties.html\n",
       "    var targ;\n",
       "    if (!e)\n",
       "        e = window.event;\n",
       "    if (e.target)\n",
       "        targ = e.target;\n",
       "    else if (e.srcElement)\n",
       "        targ = e.srcElement;\n",
       "    if (targ.nodeType == 3) // defeat Safari bug\n",
       "        targ = targ.parentNode;\n",
       "\n",
       "    // jQuery normalizes the pageX and pageY\n",
       "    // pageX,Y are the mouse positions relative to the document\n",
       "    // offset() returns the position of the element relative to the document\n",
       "    var x = e.pageX - $(targ).offset().left;\n",
       "    var y = e.pageY - $(targ).offset().top;\n",
       "\n",
       "    return {\"x\": x, \"y\": y};\n",
       "};\n",
       "\n",
       "/*\n",
       " * return a copy of an object with only non-object keys\n",
       " * we need this to avoid circular references\n",
       " * http://stackoverflow.com/a/24161582/3208463\n",
       " */\n",
       "function simpleKeys (original) {\n",
       "  return Object.keys(original).reduce(function (obj, key) {\n",
       "    if (typeof original[key] !== 'object')\n",
       "        obj[key] = original[key]\n",
       "    return obj;\n",
       "  }, {});\n",
       "}\n",
       "\n",
       "mpl.figure.prototype.mouse_event = function(event, name) {\n",
       "    var canvas_pos = mpl.findpos(event)\n",
       "\n",
       "    if (name === 'button_press')\n",
       "    {\n",
       "        this.canvas.focus();\n",
       "        this.canvas_div.focus();\n",
       "    }\n",
       "\n",
       "    var x = canvas_pos.x * mpl.ratio;\n",
       "    var y = canvas_pos.y * mpl.ratio;\n",
       "\n",
       "    this.send_message(name, {x: x, y: y, button: event.button,\n",
       "                             step: event.step,\n",
       "                             guiEvent: simpleKeys(event)});\n",
       "\n",
       "    /* This prevents the web browser from automatically changing to\n",
       "     * the text insertion cursor when the button is pressed.  We want\n",
       "     * to control all of the cursor setting manually through the\n",
       "     * 'cursor' event from matplotlib */\n",
       "    event.preventDefault();\n",
       "    return false;\n",
       "}\n",
       "\n",
       "mpl.figure.prototype._key_event_extra = function(event, name) {\n",
       "    // Handle any extra behaviour associated with a key event\n",
       "}\n",
       "\n",
       "mpl.figure.prototype.key_event = function(event, name) {\n",
       "\n",
       "    // Prevent repeat events\n",
       "    if (name == 'key_press')\n",
       "    {\n",
       "        if (event.which === this._key)\n",
       "            return;\n",
       "        else\n",
       "            this._key = event.which;\n",
       "    }\n",
       "    if (name == 'key_release')\n",
       "        this._key = null;\n",
       "\n",
       "    var value = '';\n",
       "    if (event.ctrlKey && event.which != 17)\n",
       "        value += \"ctrl+\";\n",
       "    if (event.altKey && event.which != 18)\n",
       "        value += \"alt+\";\n",
       "    if (event.shiftKey && event.which != 16)\n",
       "        value += \"shift+\";\n",
       "\n",
       "    value += 'k';\n",
       "    value += event.which.toString();\n",
       "\n",
       "    this._key_event_extra(event, name);\n",
       "\n",
       "    this.send_message(name, {key: value,\n",
       "                             guiEvent: simpleKeys(event)});\n",
       "    return false;\n",
       "}\n",
       "\n",
       "mpl.figure.prototype.toolbar_button_onclick = function(name) {\n",
       "    if (name == 'download') {\n",
       "        this.handle_save(this, null);\n",
       "    } else {\n",
       "        this.send_message(\"toolbar_button\", {name: name});\n",
       "    }\n",
       "};\n",
       "\n",
       "mpl.figure.prototype.toolbar_button_onmouseover = function(tooltip) {\n",
       "    this.message.textContent = tooltip;\n",
       "};\n",
       "mpl.toolbar_items = [[\"Home\", \"Reset original view\", \"fa fa-home icon-home\", \"home\"], [\"Back\", \"Back to previous view\", \"fa fa-arrow-left icon-arrow-left\", \"back\"], [\"Forward\", \"Forward to next view\", \"fa fa-arrow-right icon-arrow-right\", \"forward\"], [\"\", \"\", \"\", \"\"], [\"Pan\", \"Pan axes with left mouse, zoom with right\", \"fa fa-arrows icon-move\", \"pan\"], [\"Zoom\", \"Zoom to rectangle\", \"fa fa-square-o icon-check-empty\", \"zoom\"], [\"\", \"\", \"\", \"\"], [\"Download\", \"Download plot\", \"fa fa-floppy-o icon-save\", \"download\"]];\n",
       "\n",
       "mpl.extensions = [\"eps\", \"pdf\", \"png\", \"ps\", \"raw\", \"svg\"];\n",
       "\n",
       "mpl.default_extension = \"png\";var comm_websocket_adapter = function(comm) {\n",
       "    // Create a \"websocket\"-like object which calls the given IPython comm\n",
       "    // object with the appropriate methods. Currently this is a non binary\n",
       "    // socket, so there is still some room for performance tuning.\n",
       "    var ws = {};\n",
       "\n",
       "    ws.close = function() {\n",
       "        comm.close()\n",
       "    };\n",
       "    ws.send = function(m) {\n",
       "        //console.log('sending', m);\n",
       "        comm.send(m);\n",
       "    };\n",
       "    // Register the callback with on_msg.\n",
       "    comm.on_msg(function(msg) {\n",
       "        //console.log('receiving', msg['content']['data'], msg);\n",
       "        // Pass the mpl event to the overridden (by mpl) onmessage function.\n",
       "        ws.onmessage(msg['content']['data'])\n",
       "    });\n",
       "    return ws;\n",
       "}\n",
       "\n",
       "mpl.mpl_figure_comm = function(comm, msg) {\n",
       "    // This is the function which gets called when the mpl process\n",
       "    // starts-up an IPython Comm through the \"matplotlib\" channel.\n",
       "\n",
       "    var id = msg.content.data.id;\n",
       "    // Get hold of the div created by the display call when the Comm\n",
       "    // socket was opened in Python.\n",
       "    var element = $(\"#\" + id);\n",
       "    var ws_proxy = comm_websocket_adapter(comm)\n",
       "\n",
       "    function ondownload(figure, format) {\n",
       "        window.open(figure.imageObj.src);\n",
       "    }\n",
       "\n",
       "    var fig = new mpl.figure(id, ws_proxy,\n",
       "                           ondownload,\n",
       "                           element.get(0));\n",
       "\n",
       "    // Call onopen now - mpl needs it, as it is assuming we've passed it a real\n",
       "    // web socket which is closed, not our websocket->open comm proxy.\n",
       "    ws_proxy.onopen();\n",
       "\n",
       "    fig.parent_element = element.get(0);\n",
       "    fig.cell_info = mpl.find_output_cell(\"<div id='\" + id + \"'></div>\");\n",
       "    if (!fig.cell_info) {\n",
       "        console.error(\"Failed to find cell for figure\", id, fig);\n",
       "        return;\n",
       "    }\n",
       "\n",
       "    var output_index = fig.cell_info[2]\n",
       "    var cell = fig.cell_info[0];\n",
       "\n",
       "};\n",
       "\n",
       "mpl.figure.prototype.handle_close = function(fig, msg) {\n",
       "    var width = fig.canvas.width/mpl.ratio\n",
       "    fig.root.unbind('remove')\n",
       "\n",
       "    // Update the output cell to use the data from the current canvas.\n",
       "    fig.push_to_output();\n",
       "    var dataURL = fig.canvas.toDataURL();\n",
       "    // Re-enable the keyboard manager in IPython - without this line, in FF,\n",
       "    // the notebook keyboard shortcuts fail.\n",
       "    IPython.keyboard_manager.enable()\n",
       "    $(fig.parent_element).html('<img src=\"' + dataURL + '\" width=\"' + width + '\">');\n",
       "    fig.close_ws(fig, msg);\n",
       "}\n",
       "\n",
       "mpl.figure.prototype.close_ws = function(fig, msg){\n",
       "    fig.send_message('closing', msg);\n",
       "    // fig.ws.close()\n",
       "}\n",
       "\n",
       "mpl.figure.prototype.push_to_output = function(remove_interactive) {\n",
       "    // Turn the data on the canvas into data in the output cell.\n",
       "    var width = this.canvas.width/mpl.ratio\n",
       "    var dataURL = this.canvas.toDataURL();\n",
       "    this.cell_info[1]['text/html'] = '<img src=\"' + dataURL + '\" width=\"' + width + '\">';\n",
       "}\n",
       "\n",
       "mpl.figure.prototype.updated_canvas_event = function() {\n",
       "    // Tell IPython that the notebook contents must change.\n",
       "    IPython.notebook.set_dirty(true);\n",
       "    this.send_message(\"ack\", {});\n",
       "    var fig = this;\n",
       "    // Wait a second, then push the new image to the DOM so\n",
       "    // that it is saved nicely (might be nice to debounce this).\n",
       "    setTimeout(function () { fig.push_to_output() }, 1000);\n",
       "}\n",
       "\n",
       "mpl.figure.prototype._init_toolbar = function() {\n",
       "    var fig = this;\n",
       "\n",
       "    var nav_element = $('<div/>');\n",
       "    nav_element.attr('style', 'width: 100%');\n",
       "    this.root.append(nav_element);\n",
       "\n",
       "    // Define a callback function for later on.\n",
       "    function toolbar_event(event) {\n",
       "        return fig.toolbar_button_onclick(event['data']);\n",
       "    }\n",
       "    function toolbar_mouse_event(event) {\n",
       "        return fig.toolbar_button_onmouseover(event['data']);\n",
       "    }\n",
       "\n",
       "    for(var toolbar_ind in mpl.toolbar_items){\n",
       "        var name = mpl.toolbar_items[toolbar_ind][0];\n",
       "        var tooltip = mpl.toolbar_items[toolbar_ind][1];\n",
       "        var image = mpl.toolbar_items[toolbar_ind][2];\n",
       "        var method_name = mpl.toolbar_items[toolbar_ind][3];\n",
       "\n",
       "        if (!name) { continue; };\n",
       "\n",
       "        var button = $('<button class=\"btn btn-default\" href=\"#\" title=\"' + name + '\"><i class=\"fa ' + image + ' fa-lg\"></i></button>');\n",
       "        button.click(method_name, toolbar_event);\n",
       "        button.mouseover(tooltip, toolbar_mouse_event);\n",
       "        nav_element.append(button);\n",
       "    }\n",
       "\n",
       "    // Add the status bar.\n",
       "    var status_bar = $('<span class=\"mpl-message\" style=\"text-align:right; float: right;\"/>');\n",
       "    nav_element.append(status_bar);\n",
       "    this.message = status_bar[0];\n",
       "\n",
       "    // Add the close button to the window.\n",
       "    var buttongrp = $('<div class=\"btn-group inline pull-right\"></div>');\n",
       "    var button = $('<button class=\"btn btn-mini btn-primary\" href=\"#\" title=\"Stop Interaction\"><i class=\"fa fa-power-off icon-remove icon-large\"></i></button>');\n",
       "    button.click(function (evt) { fig.handle_close(fig, {}); } );\n",
       "    button.mouseover('Stop Interaction', toolbar_mouse_event);\n",
       "    buttongrp.append(button);\n",
       "    var titlebar = this.root.find($('.ui-dialog-titlebar'));\n",
       "    titlebar.prepend(buttongrp);\n",
       "}\n",
       "\n",
       "mpl.figure.prototype._root_extra_style = function(el){\n",
       "    var fig = this\n",
       "    el.on(\"remove\", function(){\n",
       "\tfig.close_ws(fig, {});\n",
       "    });\n",
       "}\n",
       "\n",
       "mpl.figure.prototype._canvas_extra_style = function(el){\n",
       "    // this is important to make the div 'focusable\n",
       "    el.attr('tabindex', 0)\n",
       "    // reach out to IPython and tell the keyboard manager to turn it's self\n",
       "    // off when our div gets focus\n",
       "\n",
       "    // location in version 3\n",
       "    if (IPython.notebook.keyboard_manager) {\n",
       "        IPython.notebook.keyboard_manager.register_events(el);\n",
       "    }\n",
       "    else {\n",
       "        // location in version 2\n",
       "        IPython.keyboard_manager.register_events(el);\n",
       "    }\n",
       "\n",
       "}\n",
       "\n",
       "mpl.figure.prototype._key_event_extra = function(event, name) {\n",
       "    var manager = IPython.notebook.keyboard_manager;\n",
       "    if (!manager)\n",
       "        manager = IPython.keyboard_manager;\n",
       "\n",
       "    // Check for shift+enter\n",
       "    if (event.shiftKey && event.which == 13) {\n",
       "        this.canvas_div.blur();\n",
       "        event.shiftKey = false;\n",
       "        // Send a \"J\" for go to next cell\n",
       "        event.which = 74;\n",
       "        event.keyCode = 74;\n",
       "        manager.command_mode();\n",
       "        manager.handle_keydown(event);\n",
       "    }\n",
       "}\n",
       "\n",
       "mpl.figure.prototype.handle_save = function(fig, msg) {\n",
       "    fig.ondownload(fig, null);\n",
       "}\n",
       "\n",
       "\n",
       "mpl.find_output_cell = function(html_output) {\n",
       "    // Return the cell and output element which can be found *uniquely* in the notebook.\n",
       "    // Note - this is a bit hacky, but it is done because the \"notebook_saving.Notebook\"\n",
       "    // IPython event is triggered only after the cells have been serialised, which for\n",
       "    // our purposes (turning an active figure into a static one), is too late.\n",
       "    var cells = IPython.notebook.get_cells();\n",
       "    var ncells = cells.length;\n",
       "    for (var i=0; i<ncells; i++) {\n",
       "        var cell = cells[i];\n",
       "        if (cell.cell_type === 'code'){\n",
       "            for (var j=0; j<cell.output_area.outputs.length; j++) {\n",
       "                var data = cell.output_area.outputs[j];\n",
       "                if (data.data) {\n",
       "                    // IPython >= 3 moved mimebundle to data attribute of output\n",
       "                    data = data.data;\n",
       "                }\n",
       "                if (data['text/html'] == html_output) {\n",
       "                    return [cell, data, j];\n",
       "                }\n",
       "            }\n",
       "        }\n",
       "    }\n",
       "}\n",
       "\n",
       "// Register the function which deals with the matplotlib target/channel.\n",
       "// The kernel may be null if the page has been refreshed.\n",
       "if (IPython.notebook.kernel != null) {\n",
       "    IPython.notebook.kernel.comm_manager.register_target('matplotlib', mpl.mpl_figure_comm);\n",
       "}\n"
      ],
      "text/plain": [
       "<IPython.core.display.Javascript object>"
      ]
     },
     "metadata": {},
     "output_type": "display_data"
    },
    {
     "data": {
      "text/html": [
       "<img src=\"data:image/png;base64,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\" width=\"640\">"
      ],
      "text/plain": [
       "<IPython.core.display.HTML object>"
      ]
     },
     "metadata": {},
     "output_type": "display_data"
    }
   ],
   "source": [
    "fig, ax = plt.subplots()"
   ]
  },
  {
   "cell_type": "code",
   "execution_count": 18,
   "metadata": {
    "ExecuteTime": {
     "end_time": "2020-01-07T07:57:53.024761Z",
     "start_time": "2020-01-07T07:57:53.018464Z"
    }
   },
   "outputs": [],
   "source": [
    "data = {'x': list(range(100)), 'PGIN': yp, 'NN_PGIN': y, 'MKS': yk}\n",
    "with open('data/snap_twitter/img/NN_PGIN-PGIN-MKS.json', 'w') as fw:\n",
    "    json.dump(data, fw)"
   ]
  }
 ],
 "metadata": {
  "hide_input": false,
  "kernelspec": {
   "display_name": "ComplexNetwork",
   "language": "python",
   "name": "complexnetwork"
  },
  "language_info": {
   "codemirror_mode": {
    "name": "ipython",
    "version": 3
   },
   "file_extension": ".py",
   "mimetype": "text/x-python",
   "name": "python",
   "nbconvert_exporter": "python",
   "pygments_lexer": "ipython3",
   "version": "3.7.4"
  },
  "toc": {
   "base_numbering": 1,
   "nav_menu": {},
   "number_sections": true,
   "sideBar": true,
   "skip_h1_title": false,
   "title_cell": "Table of Contents",
   "title_sidebar": "Contents",
   "toc_cell": false,
   "toc_position": {
    "height": "calc(100% - 180px)",
    "left": "10px",
    "top": "150px",
    "width": "236.333px"
   },
   "toc_section_display": true,
   "toc_window_display": true
  },
  "varInspector": {
   "cols": {
    "lenName": 16,
    "lenType": 16,
    "lenVar": 40
   },
   "kernels_config": {
    "python": {
     "delete_cmd_postfix": "",
     "delete_cmd_prefix": "del ",
     "library": "var_list.py",
     "varRefreshCmd": "print(var_dic_list())"
    },
    "r": {
     "delete_cmd_postfix": ") ",
     "delete_cmd_prefix": "rm(",
     "library": "var_list.r",
     "varRefreshCmd": "cat(var_dic_list()) "
    }
   },
   "types_to_exclude": [
    "module",
    "function",
    "builtin_function_or_method",
    "instance",
    "_Feature"
   ],
   "window_display": false
  }
 },
 "nbformat": 4,
 "nbformat_minor": 2
}
