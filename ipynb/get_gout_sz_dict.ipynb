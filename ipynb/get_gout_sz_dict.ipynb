{
 "cells": [
  {
   "cell_type": "code",
   "execution_count": 1,
   "metadata": {
    "ExecuteTime": {
     "end_time": "2020-04-30T23:59:17.334615Z",
     "start_time": "2020-04-30T23:59:16.927706Z"
    }
   },
   "outputs": [],
   "source": [
    "WORKSPACEFOLDER = 'E:\\Projects\\ComplexNetwork'\n",
    "import os\n",
    "os.chdir(WORKSPACEFOLDER)\n",
    "\n",
    "import config\n",
    "\n",
    "DB = config.get_DB()"
   ]
  },
  {
   "cell_type": "code",
   "execution_count": 2,
   "metadata": {
    "ExecuteTime": {
     "end_time": "2020-04-30T23:59:25.405112Z",
     "start_time": "2020-04-30T23:59:25.399127Z"
    }
   },
   "outputs": [],
   "source": [
    "import json"
   ]
  },
  {
   "cell_type": "code",
   "execution_count": 5,
   "metadata": {
    "ExecuteTime": {
     "end_time": "2020-05-01T00:02:37.723657Z",
     "start_time": "2020-05-01T00:02:37.718944Z"
    }
   },
   "outputs": [],
   "source": [
    "import numpy as np"
   ]
  },
  {
   "cell_type": "code",
   "execution_count": 3,
   "metadata": {
    "ExecuteTime": {
     "end_time": "2020-04-30T23:59:48.216200Z",
     "start_time": "2020-04-30T23:59:48.204231Z"
    }
   },
   "outputs": [],
   "source": [
    "import src.main.util.data_format as data_format"
   ]
  },
  {
   "cell_type": "code",
   "execution_count": 9,
   "metadata": {
    "ExecuteTime": {
     "end_time": "2020-05-01T00:05:32.535862Z",
     "start_time": "2020-05-01T00:05:32.529879Z"
    }
   },
   "outputs": [],
   "source": [
    "def get_gout_sz_mean(file_path: str) -> float:\n",
    "    gout_szs = data_format.load_json(file_path)\n",
    "    return sum(gout_szs) / len(gout_szs)"
   ]
  },
  {
   "cell_type": "markdown",
   "metadata": {},
   "source": [
    "# DiSF_a"
   ]
  },
  {
   "cell_type": "code",
   "execution_count": 15,
   "metadata": {
    "ExecuteTime": {
     "end_time": "2020-05-01T00:08:35.774731Z",
     "start_time": "2020-05-01T00:08:35.766579Z"
    }
   },
   "outputs": [],
   "source": [
    "g_name = 'DiSF_a'\n",
    "gout_sz_base_path = os.path.join(os.path.join(DB, g_name), 'gout_sz')\n",
    "\n",
    "betas = (np.arange(40) + 1) * (0.4 / 40)"
   ]
  },
  {
   "cell_type": "code",
   "execution_count": 22,
   "metadata": {
    "ExecuteTime": {
     "end_time": "2020-05-01T00:14:20.589466Z",
     "start_time": "2020-05-01T00:14:20.550569Z"
    }
   },
   "outputs": [
    {
     "name": "stdout",
     "output_type": "stream",
     "text": [
      "{'0.0020': 1.093, '0.0040': 1.858, '0.0060': 5.058, '0.0080': 18.902, '0.0100': 58.707, '0.0120': 157.075, '0.0140': 318.377, '0.0160': 537.408, '0.0180': 785.012, '0.0200': 1033.462, '0.0220': 1275.428, '0.0240': 1512.24, '0.0260': 1745.66, '0.0280': 1971.149, '0.0300': 2194.455, '0.0320': 2409.529, '0.0340': 2624.999, '0.0360': 2823.313, '0.0380': 3027.929, '0.0400': 3214.924, '0.0420': 3403.679, '0.0440': 3577.279, '0.0460': 3751.517, '0.0480': 3913.827, '0.0500': 4076.051, '0.0520': 4228.523, '0.0540': 4372.933, '0.0560': 4514.385, '0.0580': 4652.061, '0.0600': 4785.81, '0.0620': 4915.485, '0.0640': 5035.0, '0.0660': 5156.645, '0.0680': 5268.54, '0.0700': 5379.626, '0.0720': 5487.078, '0.0740': 5591.307, '0.0760': 5689.697, '0.0780': 5789.873, '0.0800': 5882.908}\n"
     ]
    }
   ],
   "source": [
    "gout_sz_dict = {}\n",
    "for beta in betas:\n",
    "    file_name = f'n{beta:.4f}.json'\n",
    "    file_path = os.path.join(gout_sz_base_path, file_name)\n",
    "    gout_sz_mean = get_gout_sz_mean(file_path)\n",
    "    gout_sz_dict[f'{beta:.4f}'] = gout_sz_mean\n",
    "print(gout_sz_dict)"
   ]
  },
  {
   "cell_type": "code",
   "execution_count": 23,
   "metadata": {
    "ExecuteTime": {
     "end_time": "2020-05-01T00:14:23.644540Z",
     "start_time": "2020-05-01T00:14:23.638554Z"
    }
   },
   "outputs": [],
   "source": [
    "file = os.path.join(os.path.join(DB, g_name), 'gout_sz.json')\n",
    "data_format.save_json(file, gout_sz_dict)"
   ]
  },
  {
   "cell_type": "markdown",
   "metadata": {},
   "source": [
    "# DiSF_b"
   ]
  },
  {
   "cell_type": "code",
   "execution_count": 21,
   "metadata": {
    "ExecuteTime": {
     "end_time": "2020-05-01T00:14:15.574950Z",
     "start_time": "2020-05-01T00:14:15.568375Z"
    }
   },
   "outputs": [],
   "source": [
    "g_name = 'DiSF_b'\n",
    "gout_sz_base_path = os.path.join(os.path.join(DB, g_name), 'gout_sz')\n",
    "\n",
    "betas = (np.arange(40) + 1) * (0.08 / 40)"
   ]
  },
  {
   "cell_type": "code",
   "execution_count": null,
   "metadata": {},
   "outputs": [],
   "source": []
  }
 ],
 "metadata": {
  "hide_input": false,
  "kernelspec": {
   "display_name": "ComplexNetwork",
   "language": "python",
   "name": "complexnetwork"
  },
  "language_info": {
   "codemirror_mode": {
    "name": "ipython",
    "version": 3
   },
   "file_extension": ".py",
   "mimetype": "text/x-python",
   "name": "python",
   "nbconvert_exporter": "python",
   "pygments_lexer": "ipython3",
   "version": "3.7.4"
  },
  "toc": {
   "base_numbering": 1,
   "nav_menu": {},
   "number_sections": true,
   "sideBar": true,
   "skip_h1_title": false,
   "title_cell": "Table of Contents",
   "title_sidebar": "Contents",
   "toc_cell": false,
   "toc_position": {},
   "toc_section_display": true,
   "toc_window_display": false
  },
  "varInspector": {
   "cols": {
    "lenName": 16,
    "lenType": 16,
    "lenVar": 40
   },
   "kernels_config": {
    "python": {
     "delete_cmd_postfix": "",
     "delete_cmd_prefix": "del ",
     "library": "var_list.py",
     "varRefreshCmd": "print(var_dic_list())"
    },
    "r": {
     "delete_cmd_postfix": ") ",
     "delete_cmd_prefix": "rm(",
     "library": "var_list.r",
     "varRefreshCmd": "cat(var_dic_list()) "
    }
   },
   "types_to_exclude": [
    "module",
    "function",
    "builtin_function_or_method",
    "instance",
    "_Feature"
   ],
   "window_display": false
  }
 },
 "nbformat": 4,
 "nbformat_minor": 4
}
