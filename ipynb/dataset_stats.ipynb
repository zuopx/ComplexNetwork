{
 "cells": [
  {
   "cell_type": "code",
   "execution_count": 1,
   "metadata": {
    "ExecuteTime": {
     "end_time": "2020-05-01T08:07:59.824202Z",
     "start_time": "2020-05-01T08:07:59.444955Z"
    }
   },
   "outputs": [],
   "source": [
    "WORKSPACEFOLDER = 'E:\\Projects\\ComplexNetwork'\n",
    "import os\n",
    "os.chdir(WORKSPACEFOLDER)\n",
    "\n",
    "import config\n",
    "\n",
    "DB = config.get_DB()"
   ]
  },
  {
   "cell_type": "code",
   "execution_count": 2,
   "metadata": {
    "ExecuteTime": {
     "end_time": "2020-05-01T08:08:01.202608Z",
     "start_time": "2020-05-01T08:08:01.193118Z"
    }
   },
   "outputs": [],
   "source": [
    "import src.main.util.data_format as data_format"
   ]
  },
  {
   "cell_type": "code",
   "execution_count": 3,
   "metadata": {
    "ExecuteTime": {
     "end_time": "2020-05-01T08:09:45.612659Z",
     "start_time": "2020-05-01T08:09:44.975756Z"
    }
   },
   "outputs": [],
   "source": [
    "import src.main.model.network as network"
   ]
  },
  {
   "cell_type": "markdown",
   "metadata": {},
   "source": [
    "# DiSF_a"
   ]
  },
  {
   "cell_type": "code",
   "execution_count": 4,
   "metadata": {
    "ExecuteTime": {
     "end_time": "2020-05-01T08:12:18.425568Z",
     "start_time": "2020-05-01T08:12:18.192883Z"
    }
   },
   "outputs": [
    {
     "name": "stdout",
     "output_type": "stream",
     "text": [
      "10000 39014 3.9014\n",
      "7424 9666 7699\n"
     ]
    }
   ],
   "source": [
    "g_name = 'DiSF_a'\n",
    "base_path = os.path.join(DB, g_name)\n",
    "at_path = os.path.join(base_path, 'at.json')\n",
    "at = data_format.load_json(at_path)\n",
    "g = network.DirectedGraph(g_name, at)\n",
    "gscc, gin, gout = g.giant_connected_in_out_component()\n",
    "print(g.node_num, g.edge_num, g.edge_num / g.node_num)\n",
    "print(len(gscc), len(gin), len(gout))"
   ]
  },
  {
   "cell_type": "markdown",
   "metadata": {},
   "source": [
    "# DiSF_b"
   ]
  },
  {
   "cell_type": "code",
   "execution_count": 5,
   "metadata": {
    "ExecuteTime": {
     "end_time": "2020-05-01T08:12:53.923991Z",
     "start_time": "2020-05-01T08:12:53.389420Z"
    }
   },
   "outputs": [
    {
     "name": "stdout",
     "output_type": "stream",
     "text": [
      "10000 194686 19.4686\n",
      "9471 9945 9526\n"
     ]
    }
   ],
   "source": [
    "g_name = 'DiSF_b'\n",
    "base_path = os.path.join(DB, g_name)\n",
    "at_path = os.path.join(base_path, 'at.json')\n",
    "at = data_format.load_json(at_path)\n",
    "g = network.DirectedGraph(g_name, at)\n",
    "gscc, gin, gout = g.giant_connected_in_out_component()\n",
    "print(g.node_num, g.edge_num, g.edge_num / g.node_num)\n",
    "print(len(gscc), len(gin), len(gout))"
   ]
  },
  {
   "cell_type": "markdown",
   "metadata": {},
   "source": [
    "# Twitter"
   ]
  },
  {
   "cell_type": "code",
   "execution_count": 6,
   "metadata": {
    "ExecuteTime": {
     "end_time": "2020-05-01T08:13:56.718629Z",
     "start_time": "2020-05-01T08:13:51.664306Z"
    }
   },
   "outputs": [
    {
     "name": "stdout",
     "output_type": "stream",
     "text": [
      "81306 1768149 21.74684525127297\n",
      "68413 81304 68414\n"
     ]
    }
   ],
   "source": [
    "g_name = 'Twitter'\n",
    "base_path = os.path.join(DB, g_name)\n",
    "at_path = os.path.join(base_path, 'at.json')\n",
    "at = data_format.load_json(at_path)\n",
    "g = network.DirectedGraph(g_name, at)\n",
    "gscc, gin, gout = g.giant_connected_in_out_component()\n",
    "print(g.node_num, g.edge_num, g.edge_num / g.node_num)\n",
    "print(len(gscc), len(gin), len(gout))"
   ]
  },
  {
   "cell_type": "markdown",
   "metadata": {},
   "source": [
    "# Epinions"
   ]
  },
  {
   "cell_type": "code",
   "execution_count": 7,
   "metadata": {
    "ExecuteTime": {
     "end_time": "2020-05-01T08:14:37.558253Z",
     "start_time": "2020-05-01T08:14:35.469872Z"
    }
   },
   "outputs": [
    {
     "name": "stdout",
     "output_type": "stream",
     "text": [
      "75888 508837 6.705104891418933\n",
      "32223 47676 56459\n"
     ]
    }
   ],
   "source": [
    "g_name = 'Epinions'\n",
    "base_path = os.path.join(DB, g_name)\n",
    "at_path = os.path.join(base_path, 'at.json')\n",
    "at = data_format.load_json(at_path)\n",
    "g = network.DirectedGraph(g_name, at)\n",
    "gscc, gin, gout = g.giant_connected_in_out_component()\n",
    "print(g.node_num, g.edge_num, g.edge_num / g.node_num)\n",
    "print(len(gscc), len(gin), len(gout))"
   ]
  }
 ],
 "metadata": {
  "hide_input": false,
  "kernelspec": {
   "display_name": "ComplexNetwork",
   "language": "python",
   "name": "complexnetwork"
  },
  "language_info": {
   "codemirror_mode": {
    "name": "ipython",
    "version": 3
   },
   "file_extension": ".py",
   "mimetype": "text/x-python",
   "name": "python",
   "nbconvert_exporter": "python",
   "pygments_lexer": "ipython3",
   "version": "3.7.4"
  },
  "toc": {
   "base_numbering": 1,
   "nav_menu": {},
   "number_sections": true,
   "sideBar": true,
   "skip_h1_title": false,
   "title_cell": "Table of Contents",
   "title_sidebar": "Contents",
   "toc_cell": false,
   "toc_position": {},
   "toc_section_display": true,
   "toc_window_display": false
  },
  "varInspector": {
   "cols": {
    "lenName": 16,
    "lenType": 16,
    "lenVar": 40
   },
   "kernels_config": {
    "python": {
     "delete_cmd_postfix": "",
     "delete_cmd_prefix": "del ",
     "library": "var_list.py",
     "varRefreshCmd": "print(var_dic_list())"
    },
    "r": {
     "delete_cmd_postfix": ") ",
     "delete_cmd_prefix": "rm(",
     "library": "var_list.r",
     "varRefreshCmd": "cat(var_dic_list()) "
    }
   },
   "types_to_exclude": [
    "module",
    "function",
    "builtin_function_or_method",
    "instance",
    "_Feature"
   ],
   "window_display": false
  }
 },
 "nbformat": 4,
 "nbformat_minor": 4
}
