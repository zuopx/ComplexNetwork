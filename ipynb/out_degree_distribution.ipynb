{
 "cells": [
  {
   "cell_type": "markdown",
   "metadata": {},
   "source": [
    "# 有向图的出度分布"
   ]
  },
  {
   "cell_type": "code",
   "execution_count": 1,
   "metadata": {
    "ExecuteTime": {
     "end_time": "2020-04-29T12:50:11.756305Z",
     "start_time": "2020-04-29T12:50:11.751319Z"
    }
   },
   "outputs": [],
   "source": [
    "WORKSPACEFOLDER = 'E:\\Projects\\ComplexNetwork'\n",
    "import os\n",
    "os.chdir(WORKSPACEFOLDER)"
   ]
  },
  {
   "cell_type": "code",
   "execution_count": 2,
   "metadata": {
    "ExecuteTime": {
     "end_time": "2020-04-29T12:51:11.584806Z",
     "start_time": "2020-04-29T12:51:08.876893Z"
    }
   },
   "outputs": [],
   "source": [
    "import json\n",
    "\n",
    "import numpy as np\n",
    "import matplotlib.pyplot as plt"
   ]
  },
  {
   "cell_type": "code",
   "execution_count": 3,
   "metadata": {
    "ExecuteTime": {
     "end_time": "2020-04-29T12:51:23.145630Z",
     "start_time": "2020-04-29T12:51:23.111950Z"
    }
   },
   "outputs": [],
   "source": [
    "%matplotlib notebook"
   ]
  },
  {
   "cell_type": "markdown",
   "metadata": {},
   "source": [
    "## Common Code"
   ]
  },
  {
   "cell_type": "code",
   "execution_count": 255,
   "metadata": {
    "ExecuteTime": {
     "end_time": "2020-04-30T09:21:18.264615Z",
     "start_time": "2020-04-30T09:21:17.905359Z"
    }
   },
   "outputs": [],
   "source": [
    "with open(at_path, 'r') as fr:\n",
    "    at = json.load(fr)\n",
    "\n",
    "out_degree = [len(_) for _ in at]"
   ]
  },
  {
   "cell_type": "code",
   "execution_count": 256,
   "metadata": {
    "ExecuteTime": {
     "end_time": "2020-04-30T09:21:18.466096Z",
     "start_time": "2020-04-30T09:21:18.437170Z"
    }
   },
   "outputs": [
    {
     "data": {
      "text/plain": [
       "(array([1.00000000e+00, 1.95065242e+00, 3.80504487e+00, 7.42231999e+00,\n",
       "        1.44783665e+01, 2.82422606e+01, 5.50908341e+01, 1.07463069e+02,\n",
       "        2.09623096e+02, 4.08901799e+02, 7.97625285e+02, 1.55588969e+03,\n",
       "        3.03500000e+03]),\n",
       " array([6.31997154e-01, 1.59919882e-01, 8.84856631e-02, 4.52113641e-02,\n",
       "        2.97807295e-02, 2.02008223e-02, 1.28347038e-02, 7.22116804e-03,\n",
       "        3.25479654e-03, 8.82880034e-04, 2.10837023e-04, 0.00000000e+00]))"
      ]
     },
     "execution_count": 256,
     "metadata": {},
     "output_type": "execute_result"
    }
   ],
   "source": [
    "num_bins = 12\n",
    "bins = 10 ** np.linspace(0, np.log10(max(out_degree)), num_bins + 1)\n",
    "hist, _ = np.histogram(np.array(out_degree), bins)\n",
    "\n",
    "hist[0] += (len(at) - hist.sum())\n",
    "hist = hist / len(at)\n",
    "bins, hist"
   ]
  },
  {
   "cell_type": "code",
   "execution_count": 257,
   "metadata": {
    "ExecuteTime": {
     "end_time": "2020-04-30T09:21:19.984283Z",
     "start_time": "2020-04-30T09:21:19.970273Z"
    }
   },
   "outputs": [],
   "source": [
    "ax.plot(bins[:-1], hist, 'o-.', ms='16', lw=2, mfc='None', mew='2')\n",
    "ax.set_xscale('log')\n",
    "ax.set_yscale('log')"
   ]
  },
  {
   "cell_type": "code",
   "execution_count": 274,
   "metadata": {
    "ExecuteTime": {
     "end_time": "2020-04-30T09:23:44.385229Z",
     "start_time": "2020-04-30T09:23:44.376253Z"
    }
   },
   "outputs": [
    {
     "data": {
      "text/plain": [
       "Text(3.1622776601683795, 0.001, 'Epinions')"
      ]
     },
     "execution_count": 274,
     "metadata": {},
     "output_type": "execute_result"
    }
   ],
   "source": [
    "ax.text(10 ** 0.5, 10 ** -3, 'Epinions', fontsize=24)"
   ]
  },
  {
   "cell_type": "code",
   "execution_count": 211,
   "metadata": {
    "ExecuteTime": {
     "end_time": "2020-04-30T09:12:25.862141Z",
     "start_time": "2020-04-30T09:12:25.857157Z"
    }
   },
   "outputs": [],
   "source": [
    "del ax.texts[0]"
   ]
  },
  {
   "cell_type": "code",
   "execution_count": 178,
   "metadata": {
    "ExecuteTime": {
     "end_time": "2020-04-30T09:08:08.867224Z",
     "start_time": "2020-04-30T09:08:08.860244Z"
    }
   },
   "outputs": [
    {
     "data": {
      "text/plain": [
       "[]"
      ]
     },
     "execution_count": 178,
     "metadata": {},
     "output_type": "execute_result"
    }
   ],
   "source": [
    "ax.texts"
   ]
  },
  {
   "cell_type": "code",
   "execution_count": 254,
   "metadata": {
    "ExecuteTime": {
     "end_time": "2020-04-30T09:21:14.275886Z",
     "start_time": "2020-04-30T09:21:14.217044Z"
    }
   },
   "outputs": [
    {
     "data": {
      "application/javascript": [
       "/* Put everything inside the global mpl namespace */\n",
       "window.mpl = {};\n",
       "\n",
       "\n",
       "mpl.get_websocket_type = function() {\n",
       "    if (typeof(WebSocket) !== 'undefined') {\n",
       "        return WebSocket;\n",
       "    } else if (typeof(MozWebSocket) !== 'undefined') {\n",
       "        return MozWebSocket;\n",
       "    } else {\n",
       "        alert('Your browser does not have WebSocket support. ' +\n",
       "              'Please try Chrome, Safari or Firefox ≥ 6. ' +\n",
       "              'Firefox 4 and 5 are also supported but you ' +\n",
       "              'have to enable WebSockets in about:config.');\n",
       "    };\n",
       "}\n",
       "\n",
       "mpl.figure = function(figure_id, websocket, ondownload, parent_element) {\n",
       "    this.id = figure_id;\n",
       "\n",
       "    this.ws = websocket;\n",
       "\n",
       "    this.supports_binary = (this.ws.binaryType != undefined);\n",
       "\n",
       "    if (!this.supports_binary) {\n",
       "        var warnings = document.getElementById(\"mpl-warnings\");\n",
       "        if (warnings) {\n",
       "            warnings.style.display = 'block';\n",
       "            warnings.textContent = (\n",
       "                \"This browser does not support binary websocket messages. \" +\n",
       "                    \"Performance may be slow.\");\n",
       "        }\n",
       "    }\n",
       "\n",
       "    this.imageObj = new Image();\n",
       "\n",
       "    this.context = undefined;\n",
       "    this.message = undefined;\n",
       "    this.canvas = undefined;\n",
       "    this.rubberband_canvas = undefined;\n",
       "    this.rubberband_context = undefined;\n",
       "    this.format_dropdown = undefined;\n",
       "\n",
       "    this.image_mode = 'full';\n",
       "\n",
       "    this.root = $('<div/>');\n",
       "    this._root_extra_style(this.root)\n",
       "    this.root.attr('style', 'display: inline-block');\n",
       "\n",
       "    $(parent_element).append(this.root);\n",
       "\n",
       "    this._init_header(this);\n",
       "    this._init_canvas(this);\n",
       "    this._init_toolbar(this);\n",
       "\n",
       "    var fig = this;\n",
       "\n",
       "    this.waiting = false;\n",
       "\n",
       "    this.ws.onopen =  function () {\n",
       "            fig.send_message(\"supports_binary\", {value: fig.supports_binary});\n",
       "            fig.send_message(\"send_image_mode\", {});\n",
       "            if (mpl.ratio != 1) {\n",
       "                fig.send_message(\"set_dpi_ratio\", {'dpi_ratio': mpl.ratio});\n",
       "            }\n",
       "            fig.send_message(\"refresh\", {});\n",
       "        }\n",
       "\n",
       "    this.imageObj.onload = function() {\n",
       "            if (fig.image_mode == 'full') {\n",
       "                // Full images could contain transparency (where diff images\n",
       "                // almost always do), so we need to clear the canvas so that\n",
       "                // there is no ghosting.\n",
       "                fig.context.clearRect(0, 0, fig.canvas.width, fig.canvas.height);\n",
       "            }\n",
       "            fig.context.drawImage(fig.imageObj, 0, 0);\n",
       "        };\n",
       "\n",
       "    this.imageObj.onunload = function() {\n",
       "        fig.ws.close();\n",
       "    }\n",
       "\n",
       "    this.ws.onmessage = this._make_on_message_function(this);\n",
       "\n",
       "    this.ondownload = ondownload;\n",
       "}\n",
       "\n",
       "mpl.figure.prototype._init_header = function() {\n",
       "    var titlebar = $(\n",
       "        '<div class=\"ui-dialog-titlebar ui-widget-header ui-corner-all ' +\n",
       "        'ui-helper-clearfix\"/>');\n",
       "    var titletext = $(\n",
       "        '<div class=\"ui-dialog-title\" style=\"width: 100%; ' +\n",
       "        'text-align: center; padding: 3px;\"/>');\n",
       "    titlebar.append(titletext)\n",
       "    this.root.append(titlebar);\n",
       "    this.header = titletext[0];\n",
       "}\n",
       "\n",
       "\n",
       "\n",
       "mpl.figure.prototype._canvas_extra_style = function(canvas_div) {\n",
       "\n",
       "}\n",
       "\n",
       "\n",
       "mpl.figure.prototype._root_extra_style = function(canvas_div) {\n",
       "\n",
       "}\n",
       "\n",
       "mpl.figure.prototype._init_canvas = function() {\n",
       "    var fig = this;\n",
       "\n",
       "    var canvas_div = $('<div/>');\n",
       "\n",
       "    canvas_div.attr('style', 'position: relative; clear: both; outline: 0');\n",
       "\n",
       "    function canvas_keyboard_event(event) {\n",
       "        return fig.key_event(event, event['data']);\n",
       "    }\n",
       "\n",
       "    canvas_div.keydown('key_press', canvas_keyboard_event);\n",
       "    canvas_div.keyup('key_release', canvas_keyboard_event);\n",
       "    this.canvas_div = canvas_div\n",
       "    this._canvas_extra_style(canvas_div)\n",
       "    this.root.append(canvas_div);\n",
       "\n",
       "    var canvas = $('<canvas/>');\n",
       "    canvas.addClass('mpl-canvas');\n",
       "    canvas.attr('style', \"left: 0; top: 0; z-index: 0; outline: 0\")\n",
       "\n",
       "    this.canvas = canvas[0];\n",
       "    this.context = canvas[0].getContext(\"2d\");\n",
       "\n",
       "    var backingStore = this.context.backingStorePixelRatio ||\n",
       "\tthis.context.webkitBackingStorePixelRatio ||\n",
       "\tthis.context.mozBackingStorePixelRatio ||\n",
       "\tthis.context.msBackingStorePixelRatio ||\n",
       "\tthis.context.oBackingStorePixelRatio ||\n",
       "\tthis.context.backingStorePixelRatio || 1;\n",
       "\n",
       "    mpl.ratio = (window.devicePixelRatio || 1) / backingStore;\n",
       "\n",
       "    var rubberband = $('<canvas/>');\n",
       "    rubberband.attr('style', \"position: absolute; left: 0; top: 0; z-index: 1;\")\n",
       "\n",
       "    var pass_mouse_events = true;\n",
       "\n",
       "    canvas_div.resizable({\n",
       "        start: function(event, ui) {\n",
       "            pass_mouse_events = false;\n",
       "        },\n",
       "        resize: function(event, ui) {\n",
       "            fig.request_resize(ui.size.width, ui.size.height);\n",
       "        },\n",
       "        stop: function(event, ui) {\n",
       "            pass_mouse_events = true;\n",
       "            fig.request_resize(ui.size.width, ui.size.height);\n",
       "        },\n",
       "    });\n",
       "\n",
       "    function mouse_event_fn(event) {\n",
       "        if (pass_mouse_events)\n",
       "            return fig.mouse_event(event, event['data']);\n",
       "    }\n",
       "\n",
       "    rubberband.mousedown('button_press', mouse_event_fn);\n",
       "    rubberband.mouseup('button_release', mouse_event_fn);\n",
       "    // Throttle sequential mouse events to 1 every 20ms.\n",
       "    rubberband.mousemove('motion_notify', mouse_event_fn);\n",
       "\n",
       "    rubberband.mouseenter('figure_enter', mouse_event_fn);\n",
       "    rubberband.mouseleave('figure_leave', mouse_event_fn);\n",
       "\n",
       "    canvas_div.on(\"wheel\", function (event) {\n",
       "        event = event.originalEvent;\n",
       "        event['data'] = 'scroll'\n",
       "        if (event.deltaY < 0) {\n",
       "            event.step = 1;\n",
       "        } else {\n",
       "            event.step = -1;\n",
       "        }\n",
       "        mouse_event_fn(event);\n",
       "    });\n",
       "\n",
       "    canvas_div.append(canvas);\n",
       "    canvas_div.append(rubberband);\n",
       "\n",
       "    this.rubberband = rubberband;\n",
       "    this.rubberband_canvas = rubberband[0];\n",
       "    this.rubberband_context = rubberband[0].getContext(\"2d\");\n",
       "    this.rubberband_context.strokeStyle = \"#000000\";\n",
       "\n",
       "    this._resize_canvas = function(width, height) {\n",
       "        // Keep the size of the canvas, canvas container, and rubber band\n",
       "        // canvas in synch.\n",
       "        canvas_div.css('width', width)\n",
       "        canvas_div.css('height', height)\n",
       "\n",
       "        canvas.attr('width', width * mpl.ratio);\n",
       "        canvas.attr('height', height * mpl.ratio);\n",
       "        canvas.attr('style', 'width: ' + width + 'px; height: ' + height + 'px;');\n",
       "\n",
       "        rubberband.attr('width', width);\n",
       "        rubberband.attr('height', height);\n",
       "    }\n",
       "\n",
       "    // Set the figure to an initial 600x600px, this will subsequently be updated\n",
       "    // upon first draw.\n",
       "    this._resize_canvas(600, 600);\n",
       "\n",
       "    // Disable right mouse context menu.\n",
       "    $(this.rubberband_canvas).bind(\"contextmenu\",function(e){\n",
       "        return false;\n",
       "    });\n",
       "\n",
       "    function set_focus () {\n",
       "        canvas.focus();\n",
       "        canvas_div.focus();\n",
       "    }\n",
       "\n",
       "    window.setTimeout(set_focus, 100);\n",
       "}\n",
       "\n",
       "mpl.figure.prototype._init_toolbar = function() {\n",
       "    var fig = this;\n",
       "\n",
       "    var nav_element = $('<div/>');\n",
       "    nav_element.attr('style', 'width: 100%');\n",
       "    this.root.append(nav_element);\n",
       "\n",
       "    // Define a callback function for later on.\n",
       "    function toolbar_event(event) {\n",
       "        return fig.toolbar_button_onclick(event['data']);\n",
       "    }\n",
       "    function toolbar_mouse_event(event) {\n",
       "        return fig.toolbar_button_onmouseover(event['data']);\n",
       "    }\n",
       "\n",
       "    for(var toolbar_ind in mpl.toolbar_items) {\n",
       "        var name = mpl.toolbar_items[toolbar_ind][0];\n",
       "        var tooltip = mpl.toolbar_items[toolbar_ind][1];\n",
       "        var image = mpl.toolbar_items[toolbar_ind][2];\n",
       "        var method_name = mpl.toolbar_items[toolbar_ind][3];\n",
       "\n",
       "        if (!name) {\n",
       "            // put a spacer in here.\n",
       "            continue;\n",
       "        }\n",
       "        var button = $('<button/>');\n",
       "        button.addClass('ui-button ui-widget ui-state-default ui-corner-all ' +\n",
       "                        'ui-button-icon-only');\n",
       "        button.attr('role', 'button');\n",
       "        button.attr('aria-disabled', 'false');\n",
       "        button.click(method_name, toolbar_event);\n",
       "        button.mouseover(tooltip, toolbar_mouse_event);\n",
       "\n",
       "        var icon_img = $('<span/>');\n",
       "        icon_img.addClass('ui-button-icon-primary ui-icon');\n",
       "        icon_img.addClass(image);\n",
       "        icon_img.addClass('ui-corner-all');\n",
       "\n",
       "        var tooltip_span = $('<span/>');\n",
       "        tooltip_span.addClass('ui-button-text');\n",
       "        tooltip_span.html(tooltip);\n",
       "\n",
       "        button.append(icon_img);\n",
       "        button.append(tooltip_span);\n",
       "\n",
       "        nav_element.append(button);\n",
       "    }\n",
       "\n",
       "    var fmt_picker_span = $('<span/>');\n",
       "\n",
       "    var fmt_picker = $('<select/>');\n",
       "    fmt_picker.addClass('mpl-toolbar-option ui-widget ui-widget-content');\n",
       "    fmt_picker_span.append(fmt_picker);\n",
       "    nav_element.append(fmt_picker_span);\n",
       "    this.format_dropdown = fmt_picker[0];\n",
       "\n",
       "    for (var ind in mpl.extensions) {\n",
       "        var fmt = mpl.extensions[ind];\n",
       "        var option = $(\n",
       "            '<option/>', {selected: fmt === mpl.default_extension}).html(fmt);\n",
       "        fmt_picker.append(option);\n",
       "    }\n",
       "\n",
       "    // Add hover states to the ui-buttons\n",
       "    $( \".ui-button\" ).hover(\n",
       "        function() { $(this).addClass(\"ui-state-hover\");},\n",
       "        function() { $(this).removeClass(\"ui-state-hover\");}\n",
       "    );\n",
       "\n",
       "    var status_bar = $('<span class=\"mpl-message\"/>');\n",
       "    nav_element.append(status_bar);\n",
       "    this.message = status_bar[0];\n",
       "}\n",
       "\n",
       "mpl.figure.prototype.request_resize = function(x_pixels, y_pixels) {\n",
       "    // Request matplotlib to resize the figure. Matplotlib will then trigger a resize in the client,\n",
       "    // which will in turn request a refresh of the image.\n",
       "    this.send_message('resize', {'width': x_pixels, 'height': y_pixels});\n",
       "}\n",
       "\n",
       "mpl.figure.prototype.send_message = function(type, properties) {\n",
       "    properties['type'] = type;\n",
       "    properties['figure_id'] = this.id;\n",
       "    this.ws.send(JSON.stringify(properties));\n",
       "}\n",
       "\n",
       "mpl.figure.prototype.send_draw_message = function() {\n",
       "    if (!this.waiting) {\n",
       "        this.waiting = true;\n",
       "        this.ws.send(JSON.stringify({type: \"draw\", figure_id: this.id}));\n",
       "    }\n",
       "}\n",
       "\n",
       "\n",
       "mpl.figure.prototype.handle_save = function(fig, msg) {\n",
       "    var format_dropdown = fig.format_dropdown;\n",
       "    var format = format_dropdown.options[format_dropdown.selectedIndex].value;\n",
       "    fig.ondownload(fig, format);\n",
       "}\n",
       "\n",
       "\n",
       "mpl.figure.prototype.handle_resize = function(fig, msg) {\n",
       "    var size = msg['size'];\n",
       "    if (size[0] != fig.canvas.width || size[1] != fig.canvas.height) {\n",
       "        fig._resize_canvas(size[0], size[1]);\n",
       "        fig.send_message(\"refresh\", {});\n",
       "    };\n",
       "}\n",
       "\n",
       "mpl.figure.prototype.handle_rubberband = function(fig, msg) {\n",
       "    var x0 = msg['x0'] / mpl.ratio;\n",
       "    var y0 = (fig.canvas.height - msg['y0']) / mpl.ratio;\n",
       "    var x1 = msg['x1'] / mpl.ratio;\n",
       "    var y1 = (fig.canvas.height - msg['y1']) / mpl.ratio;\n",
       "    x0 = Math.floor(x0) + 0.5;\n",
       "    y0 = Math.floor(y0) + 0.5;\n",
       "    x1 = Math.floor(x1) + 0.5;\n",
       "    y1 = Math.floor(y1) + 0.5;\n",
       "    var min_x = Math.min(x0, x1);\n",
       "    var min_y = Math.min(y0, y1);\n",
       "    var width = Math.abs(x1 - x0);\n",
       "    var height = Math.abs(y1 - y0);\n",
       "\n",
       "    fig.rubberband_context.clearRect(\n",
       "        0, 0, fig.canvas.width / mpl.ratio, fig.canvas.height / mpl.ratio);\n",
       "\n",
       "    fig.rubberband_context.strokeRect(min_x, min_y, width, height);\n",
       "}\n",
       "\n",
       "mpl.figure.prototype.handle_figure_label = function(fig, msg) {\n",
       "    // Updates the figure title.\n",
       "    fig.header.textContent = msg['label'];\n",
       "}\n",
       "\n",
       "mpl.figure.prototype.handle_cursor = function(fig, msg) {\n",
       "    var cursor = msg['cursor'];\n",
       "    switch(cursor)\n",
       "    {\n",
       "    case 0:\n",
       "        cursor = 'pointer';\n",
       "        break;\n",
       "    case 1:\n",
       "        cursor = 'default';\n",
       "        break;\n",
       "    case 2:\n",
       "        cursor = 'crosshair';\n",
       "        break;\n",
       "    case 3:\n",
       "        cursor = 'move';\n",
       "        break;\n",
       "    }\n",
       "    fig.rubberband_canvas.style.cursor = cursor;\n",
       "}\n",
       "\n",
       "mpl.figure.prototype.handle_message = function(fig, msg) {\n",
       "    fig.message.textContent = msg['message'];\n",
       "}\n",
       "\n",
       "mpl.figure.prototype.handle_draw = function(fig, msg) {\n",
       "    // Request the server to send over a new figure.\n",
       "    fig.send_draw_message();\n",
       "}\n",
       "\n",
       "mpl.figure.prototype.handle_image_mode = function(fig, msg) {\n",
       "    fig.image_mode = msg['mode'];\n",
       "}\n",
       "\n",
       "mpl.figure.prototype.updated_canvas_event = function() {\n",
       "    // Called whenever the canvas gets updated.\n",
       "    this.send_message(\"ack\", {});\n",
       "}\n",
       "\n",
       "// A function to construct a web socket function for onmessage handling.\n",
       "// Called in the figure constructor.\n",
       "mpl.figure.prototype._make_on_message_function = function(fig) {\n",
       "    return function socket_on_message(evt) {\n",
       "        if (evt.data instanceof Blob) {\n",
       "            /* FIXME: We get \"Resource interpreted as Image but\n",
       "             * transferred with MIME type text/plain:\" errors on\n",
       "             * Chrome.  But how to set the MIME type?  It doesn't seem\n",
       "             * to be part of the websocket stream */\n",
       "            evt.data.type = \"image/png\";\n",
       "\n",
       "            /* Free the memory for the previous frames */\n",
       "            if (fig.imageObj.src) {\n",
       "                (window.URL || window.webkitURL).revokeObjectURL(\n",
       "                    fig.imageObj.src);\n",
       "            }\n",
       "\n",
       "            fig.imageObj.src = (window.URL || window.webkitURL).createObjectURL(\n",
       "                evt.data);\n",
       "            fig.updated_canvas_event();\n",
       "            fig.waiting = false;\n",
       "            return;\n",
       "        }\n",
       "        else if (typeof evt.data === 'string' && evt.data.slice(0, 21) == \"data:image/png;base64\") {\n",
       "            fig.imageObj.src = evt.data;\n",
       "            fig.updated_canvas_event();\n",
       "            fig.waiting = false;\n",
       "            return;\n",
       "        }\n",
       "\n",
       "        var msg = JSON.parse(evt.data);\n",
       "        var msg_type = msg['type'];\n",
       "\n",
       "        // Call the  \"handle_{type}\" callback, which takes\n",
       "        // the figure and JSON message as its only arguments.\n",
       "        try {\n",
       "            var callback = fig[\"handle_\" + msg_type];\n",
       "        } catch (e) {\n",
       "            console.log(\"No handler for the '\" + msg_type + \"' message type: \", msg);\n",
       "            return;\n",
       "        }\n",
       "\n",
       "        if (callback) {\n",
       "            try {\n",
       "                // console.log(\"Handling '\" + msg_type + \"' message: \", msg);\n",
       "                callback(fig, msg);\n",
       "            } catch (e) {\n",
       "                console.log(\"Exception inside the 'handler_\" + msg_type + \"' callback:\", e, e.stack, msg);\n",
       "            }\n",
       "        }\n",
       "    };\n",
       "}\n",
       "\n",
       "// from http://stackoverflow.com/questions/1114465/getting-mouse-location-in-canvas\n",
       "mpl.findpos = function(e) {\n",
       "    //this section is from http://www.quirksmode.org/js/events_properties.html\n",
       "    var targ;\n",
       "    if (!e)\n",
       "        e = window.event;\n",
       "    if (e.target)\n",
       "        targ = e.target;\n",
       "    else if (e.srcElement)\n",
       "        targ = e.srcElement;\n",
       "    if (targ.nodeType == 3) // defeat Safari bug\n",
       "        targ = targ.parentNode;\n",
       "\n",
       "    // jQuery normalizes the pageX and pageY\n",
       "    // pageX,Y are the mouse positions relative to the document\n",
       "    // offset() returns the position of the element relative to the document\n",
       "    var x = e.pageX - $(targ).offset().left;\n",
       "    var y = e.pageY - $(targ).offset().top;\n",
       "\n",
       "    return {\"x\": x, \"y\": y};\n",
       "};\n",
       "\n",
       "/*\n",
       " * return a copy of an object with only non-object keys\n",
       " * we need this to avoid circular references\n",
       " * http://stackoverflow.com/a/24161582/3208463\n",
       " */\n",
       "function simpleKeys (original) {\n",
       "  return Object.keys(original).reduce(function (obj, key) {\n",
       "    if (typeof original[key] !== 'object')\n",
       "        obj[key] = original[key]\n",
       "    return obj;\n",
       "  }, {});\n",
       "}\n",
       "\n",
       "mpl.figure.prototype.mouse_event = function(event, name) {\n",
       "    var canvas_pos = mpl.findpos(event)\n",
       "\n",
       "    if (name === 'button_press')\n",
       "    {\n",
       "        this.canvas.focus();\n",
       "        this.canvas_div.focus();\n",
       "    }\n",
       "\n",
       "    var x = canvas_pos.x * mpl.ratio;\n",
       "    var y = canvas_pos.y * mpl.ratio;\n",
       "\n",
       "    this.send_message(name, {x: x, y: y, button: event.button,\n",
       "                             step: event.step,\n",
       "                             guiEvent: simpleKeys(event)});\n",
       "\n",
       "    /* This prevents the web browser from automatically changing to\n",
       "     * the text insertion cursor when the button is pressed.  We want\n",
       "     * to control all of the cursor setting manually through the\n",
       "     * 'cursor' event from matplotlib */\n",
       "    event.preventDefault();\n",
       "    return false;\n",
       "}\n",
       "\n",
       "mpl.figure.prototype._key_event_extra = function(event, name) {\n",
       "    // Handle any extra behaviour associated with a key event\n",
       "}\n",
       "\n",
       "mpl.figure.prototype.key_event = function(event, name) {\n",
       "\n",
       "    // Prevent repeat events\n",
       "    if (name == 'key_press')\n",
       "    {\n",
       "        if (event.which === this._key)\n",
       "            return;\n",
       "        else\n",
       "            this._key = event.which;\n",
       "    }\n",
       "    if (name == 'key_release')\n",
       "        this._key = null;\n",
       "\n",
       "    var value = '';\n",
       "    if (event.ctrlKey && event.which != 17)\n",
       "        value += \"ctrl+\";\n",
       "    if (event.altKey && event.which != 18)\n",
       "        value += \"alt+\";\n",
       "    if (event.shiftKey && event.which != 16)\n",
       "        value += \"shift+\";\n",
       "\n",
       "    value += 'k';\n",
       "    value += event.which.toString();\n",
       "\n",
       "    this._key_event_extra(event, name);\n",
       "\n",
       "    this.send_message(name, {key: value,\n",
       "                             guiEvent: simpleKeys(event)});\n",
       "    return false;\n",
       "}\n",
       "\n",
       "mpl.figure.prototype.toolbar_button_onclick = function(name) {\n",
       "    if (name == 'download') {\n",
       "        this.handle_save(this, null);\n",
       "    } else {\n",
       "        this.send_message(\"toolbar_button\", {name: name});\n",
       "    }\n",
       "};\n",
       "\n",
       "mpl.figure.prototype.toolbar_button_onmouseover = function(tooltip) {\n",
       "    this.message.textContent = tooltip;\n",
       "};\n",
       "mpl.toolbar_items = [[\"Home\", \"Reset original view\", \"fa fa-home icon-home\", \"home\"], [\"Back\", \"Back to previous view\", \"fa fa-arrow-left icon-arrow-left\", \"back\"], [\"Forward\", \"Forward to next view\", \"fa fa-arrow-right icon-arrow-right\", \"forward\"], [\"\", \"\", \"\", \"\"], [\"Pan\", \"Pan axes with left mouse, zoom with right\", \"fa fa-arrows icon-move\", \"pan\"], [\"Zoom\", \"Zoom to rectangle\", \"fa fa-square-o icon-check-empty\", \"zoom\"], [\"\", \"\", \"\", \"\"], [\"Download\", \"Download plot\", \"fa fa-floppy-o icon-save\", \"download\"]];\n",
       "\n",
       "mpl.extensions = [\"eps\", \"pdf\", \"png\", \"ps\", \"raw\", \"svg\"];\n",
       "\n",
       "mpl.default_extension = \"png\";var comm_websocket_adapter = function(comm) {\n",
       "    // Create a \"websocket\"-like object which calls the given IPython comm\n",
       "    // object with the appropriate methods. Currently this is a non binary\n",
       "    // socket, so there is still some room for performance tuning.\n",
       "    var ws = {};\n",
       "\n",
       "    ws.close = function() {\n",
       "        comm.close()\n",
       "    };\n",
       "    ws.send = function(m) {\n",
       "        //console.log('sending', m);\n",
       "        comm.send(m);\n",
       "    };\n",
       "    // Register the callback with on_msg.\n",
       "    comm.on_msg(function(msg) {\n",
       "        //console.log('receiving', msg['content']['data'], msg);\n",
       "        // Pass the mpl event to the overridden (by mpl) onmessage function.\n",
       "        ws.onmessage(msg['content']['data'])\n",
       "    });\n",
       "    return ws;\n",
       "}\n",
       "\n",
       "mpl.mpl_figure_comm = function(comm, msg) {\n",
       "    // This is the function which gets called when the mpl process\n",
       "    // starts-up an IPython Comm through the \"matplotlib\" channel.\n",
       "\n",
       "    var id = msg.content.data.id;\n",
       "    // Get hold of the div created by the display call when the Comm\n",
       "    // socket was opened in Python.\n",
       "    var element = $(\"#\" + id);\n",
       "    var ws_proxy = comm_websocket_adapter(comm)\n",
       "\n",
       "    function ondownload(figure, format) {\n",
       "        window.open(figure.imageObj.src);\n",
       "    }\n",
       "\n",
       "    var fig = new mpl.figure(id, ws_proxy,\n",
       "                           ondownload,\n",
       "                           element.get(0));\n",
       "\n",
       "    // Call onopen now - mpl needs it, as it is assuming we've passed it a real\n",
       "    // web socket which is closed, not our websocket->open comm proxy.\n",
       "    ws_proxy.onopen();\n",
       "\n",
       "    fig.parent_element = element.get(0);\n",
       "    fig.cell_info = mpl.find_output_cell(\"<div id='\" + id + \"'></div>\");\n",
       "    if (!fig.cell_info) {\n",
       "        console.error(\"Failed to find cell for figure\", id, fig);\n",
       "        return;\n",
       "    }\n",
       "\n",
       "    var output_index = fig.cell_info[2]\n",
       "    var cell = fig.cell_info[0];\n",
       "\n",
       "};\n",
       "\n",
       "mpl.figure.prototype.handle_close = function(fig, msg) {\n",
       "    var width = fig.canvas.width/mpl.ratio\n",
       "    fig.root.unbind('remove')\n",
       "\n",
       "    // Update the output cell to use the data from the current canvas.\n",
       "    fig.push_to_output();\n",
       "    var dataURL = fig.canvas.toDataURL();\n",
       "    // Re-enable the keyboard manager in IPython - without this line, in FF,\n",
       "    // the notebook keyboard shortcuts fail.\n",
       "    IPython.keyboard_manager.enable()\n",
       "    $(fig.parent_element).html('<img src=\"' + dataURL + '\" width=\"' + width + '\">');\n",
       "    fig.close_ws(fig, msg);\n",
       "}\n",
       "\n",
       "mpl.figure.prototype.close_ws = function(fig, msg){\n",
       "    fig.send_message('closing', msg);\n",
       "    // fig.ws.close()\n",
       "}\n",
       "\n",
       "mpl.figure.prototype.push_to_output = function(remove_interactive) {\n",
       "    // Turn the data on the canvas into data in the output cell.\n",
       "    var width = this.canvas.width/mpl.ratio\n",
       "    var dataURL = this.canvas.toDataURL();\n",
       "    this.cell_info[1]['text/html'] = '<img src=\"' + dataURL + '\" width=\"' + width + '\">';\n",
       "}\n",
       "\n",
       "mpl.figure.prototype.updated_canvas_event = function() {\n",
       "    // Tell IPython that the notebook contents must change.\n",
       "    IPython.notebook.set_dirty(true);\n",
       "    this.send_message(\"ack\", {});\n",
       "    var fig = this;\n",
       "    // Wait a second, then push the new image to the DOM so\n",
       "    // that it is saved nicely (might be nice to debounce this).\n",
       "    setTimeout(function () { fig.push_to_output() }, 1000);\n",
       "}\n",
       "\n",
       "mpl.figure.prototype._init_toolbar = function() {\n",
       "    var fig = this;\n",
       "\n",
       "    var nav_element = $('<div/>');\n",
       "    nav_element.attr('style', 'width: 100%');\n",
       "    this.root.append(nav_element);\n",
       "\n",
       "    // Define a callback function for later on.\n",
       "    function toolbar_event(event) {\n",
       "        return fig.toolbar_button_onclick(event['data']);\n",
       "    }\n",
       "    function toolbar_mouse_event(event) {\n",
       "        return fig.toolbar_button_onmouseover(event['data']);\n",
       "    }\n",
       "\n",
       "    for(var toolbar_ind in mpl.toolbar_items){\n",
       "        var name = mpl.toolbar_items[toolbar_ind][0];\n",
       "        var tooltip = mpl.toolbar_items[toolbar_ind][1];\n",
       "        var image = mpl.toolbar_items[toolbar_ind][2];\n",
       "        var method_name = mpl.toolbar_items[toolbar_ind][3];\n",
       "\n",
       "        if (!name) { continue; };\n",
       "\n",
       "        var button = $('<button class=\"btn btn-default\" href=\"#\" title=\"' + name + '\"><i class=\"fa ' + image + ' fa-lg\"></i></button>');\n",
       "        button.click(method_name, toolbar_event);\n",
       "        button.mouseover(tooltip, toolbar_mouse_event);\n",
       "        nav_element.append(button);\n",
       "    }\n",
       "\n",
       "    // Add the status bar.\n",
       "    var status_bar = $('<span class=\"mpl-message\" style=\"text-align:right; float: right;\"/>');\n",
       "    nav_element.append(status_bar);\n",
       "    this.message = status_bar[0];\n",
       "\n",
       "    // Add the close button to the window.\n",
       "    var buttongrp = $('<div class=\"btn-group inline pull-right\"></div>');\n",
       "    var button = $('<button class=\"btn btn-mini btn-primary\" href=\"#\" title=\"Stop Interaction\"><i class=\"fa fa-power-off icon-remove icon-large\"></i></button>');\n",
       "    button.click(function (evt) { fig.handle_close(fig, {}); } );\n",
       "    button.mouseover('Stop Interaction', toolbar_mouse_event);\n",
       "    buttongrp.append(button);\n",
       "    var titlebar = this.root.find($('.ui-dialog-titlebar'));\n",
       "    titlebar.prepend(buttongrp);\n",
       "}\n",
       "\n",
       "mpl.figure.prototype._root_extra_style = function(el){\n",
       "    var fig = this\n",
       "    el.on(\"remove\", function(){\n",
       "\tfig.close_ws(fig, {});\n",
       "    });\n",
       "}\n",
       "\n",
       "mpl.figure.prototype._canvas_extra_style = function(el){\n",
       "    // this is important to make the div 'focusable\n",
       "    el.attr('tabindex', 0)\n",
       "    // reach out to IPython and tell the keyboard manager to turn it's self\n",
       "    // off when our div gets focus\n",
       "\n",
       "    // location in version 3\n",
       "    if (IPython.notebook.keyboard_manager) {\n",
       "        IPython.notebook.keyboard_manager.register_events(el);\n",
       "    }\n",
       "    else {\n",
       "        // location in version 2\n",
       "        IPython.keyboard_manager.register_events(el);\n",
       "    }\n",
       "\n",
       "}\n",
       "\n",
       "mpl.figure.prototype._key_event_extra = function(event, name) {\n",
       "    var manager = IPython.notebook.keyboard_manager;\n",
       "    if (!manager)\n",
       "        manager = IPython.keyboard_manager;\n",
       "\n",
       "    // Check for shift+enter\n",
       "    if (event.shiftKey && event.which == 13) {\n",
       "        this.canvas_div.blur();\n",
       "        event.shiftKey = false;\n",
       "        // Send a \"J\" for go to next cell\n",
       "        event.which = 74;\n",
       "        event.keyCode = 74;\n",
       "        manager.command_mode();\n",
       "        manager.handle_keydown(event);\n",
       "    }\n",
       "}\n",
       "\n",
       "mpl.figure.prototype.handle_save = function(fig, msg) {\n",
       "    fig.ondownload(fig, null);\n",
       "}\n",
       "\n",
       "\n",
       "mpl.find_output_cell = function(html_output) {\n",
       "    // Return the cell and output element which can be found *uniquely* in the notebook.\n",
       "    // Note - this is a bit hacky, but it is done because the \"notebook_saving.Notebook\"\n",
       "    // IPython event is triggered only after the cells have been serialised, which for\n",
       "    // our purposes (turning an active figure into a static one), is too late.\n",
       "    var cells = IPython.notebook.get_cells();\n",
       "    var ncells = cells.length;\n",
       "    for (var i=0; i<ncells; i++) {\n",
       "        var cell = cells[i];\n",
       "        if (cell.cell_type === 'code'){\n",
       "            for (var j=0; j<cell.output_area.outputs.length; j++) {\n",
       "                var data = cell.output_area.outputs[j];\n",
       "                if (data.data) {\n",
       "                    // IPython >= 3 moved mimebundle to data attribute of output\n",
       "                    data = data.data;\n",
       "                }\n",
       "                if (data['text/html'] == html_output) {\n",
       "                    return [cell, data, j];\n",
       "                }\n",
       "            }\n",
       "        }\n",
       "    }\n",
       "}\n",
       "\n",
       "// Register the function which deals with the matplotlib target/channel.\n",
       "// The kernel may be null if the page has been refreshed.\n",
       "if (IPython.notebook.kernel != null) {\n",
       "    IPython.notebook.kernel.comm_manager.register_target('matplotlib', mpl.mpl_figure_comm);\n",
       "}\n"
      ],
      "text/plain": [
       "<IPython.core.display.Javascript object>"
      ]
     },
     "metadata": {},
     "output_type": "display_data"
    },
    {
     "data": {
      "text/html": [
       "<img src=\"data:image/png;base64,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\" width=\"640\">"
      ],
      "text/plain": [
       "<IPython.core.display.HTML object>"
      ]
     },
     "metadata": {},
     "output_type": "display_data"
    }
   ],
   "source": [
    "fig, ax = plt.subplots()\n",
    "ax.tick_params(which='both', direction='in', bottom=True, top=True, left=True, right=True)"
   ]
  },
  {
   "cell_type": "code",
   "execution_count": 262,
   "metadata": {
    "ExecuteTime": {
     "end_time": "2020-04-30T09:22:47.666976Z",
     "start_time": "2020-04-30T09:22:47.659995Z"
    }
   },
   "outputs": [],
   "source": [
    "p = np.polyfit(np.log10(bins[2:-4]), np.log10(hist[2:-3]), 1)"
   ]
  },
  {
   "cell_type": "code",
   "execution_count": 263,
   "metadata": {
    "ExecuteTime": {
     "end_time": "2020-04-30T09:22:48.362119Z",
     "start_time": "2020-04-30T09:22:48.355136Z"
    }
   },
   "outputs": [
    {
     "data": {
      "text/plain": [
       "array([-0.77068905, -0.61595882])"
      ]
     },
     "execution_count": 263,
     "metadata": {},
     "output_type": "execute_result"
    }
   ],
   "source": [
    "p"
   ]
  },
  {
   "cell_type": "code",
   "execution_count": 264,
   "metadata": {
    "ExecuteTime": {
     "end_time": "2020-04-30T09:22:57.610789Z",
     "start_time": "2020-04-30T09:22:57.605517Z"
    }
   },
   "outputs": [],
   "source": [
    "poly = np.poly1d(p)"
   ]
  },
  {
   "cell_type": "code",
   "execution_count": 265,
   "metadata": {
    "ExecuteTime": {
     "end_time": "2020-04-30T09:23:06.097014Z",
     "start_time": "2020-04-30T09:23:06.091030Z"
    }
   },
   "outputs": [],
   "source": [
    "x = bins[2:-4]\n",
    "\n",
    "y = poly(np.log10(x))"
   ]
  },
  {
   "cell_type": "code",
   "execution_count": 266,
   "metadata": {
    "ExecuteTime": {
     "end_time": "2020-04-30T09:23:09.118961Z",
     "start_time": "2020-04-30T09:23:09.104999Z"
    }
   },
   "outputs": [
    {
     "data": {
      "text/plain": [
       "[<matplotlib.lines.Line2D at 0x1f06d399b48>]"
      ]
     },
     "execution_count": 266,
     "metadata": {},
     "output_type": "execute_result"
    }
   ],
   "source": [
    "ax.plot(10 ** (np.log10(x) + 0.15), 10 ** (y + 0.15), '--k', lw=2)"
   ]
  },
  {
   "cell_type": "code",
   "execution_count": 164,
   "metadata": {
    "ExecuteTime": {
     "end_time": "2020-04-30T08:55:53.925157Z",
     "start_time": "2020-04-30T08:55:53.919657Z"
    }
   },
   "outputs": [],
   "source": [
    "del ax.lines[1]"
   ]
  },
  {
   "cell_type": "code",
   "execution_count": 267,
   "metadata": {
    "ExecuteTime": {
     "end_time": "2020-04-30T09:23:25.070575Z",
     "start_time": "2020-04-30T09:23:25.063593Z"
    }
   },
   "outputs": [],
   "source": [
    "ax.lines[1].set_label('scope=-0.77')"
   ]
  },
  {
   "cell_type": "code",
   "execution_count": 268,
   "metadata": {
    "ExecuteTime": {
     "end_time": "2020-04-30T09:23:25.734513Z",
     "start_time": "2020-04-30T09:23:25.723540Z"
    }
   },
   "outputs": [
    {
     "data": {
      "text/plain": [
       "<matplotlib.legend.Legend at 0x1f06c54d9c8>"
      ]
     },
     "execution_count": 268,
     "metadata": {},
     "output_type": "execute_result"
    }
   ],
   "source": [
    "ax.legend(fontsize=16)"
   ]
  },
  {
   "cell_type": "code",
   "execution_count": 269,
   "metadata": {
    "ExecuteTime": {
     "end_time": "2020-04-30T09:23:26.191812Z",
     "start_time": "2020-04-30T09:23:26.174851Z"
    }
   },
   "outputs": [],
   "source": [
    "ax.tick_params(length=6)"
   ]
  },
  {
   "cell_type": "code",
   "execution_count": 270,
   "metadata": {
    "ExecuteTime": {
     "end_time": "2020-04-30T09:23:27.670577Z",
     "start_time": "2020-04-30T09:23:27.662600Z"
    }
   },
   "outputs": [
    {
     "data": {
      "text/plain": [
       "Text(0.5, 30.959999999999983, 'Follower Count $k_o$')"
      ]
     },
     "execution_count": 270,
     "metadata": {},
     "output_type": "execute_result"
    }
   ],
   "source": [
    "ax.set_xlabel('Follower Count $k_o$', fontsize=14)"
   ]
  },
  {
   "cell_type": "code",
   "execution_count": 271,
   "metadata": {
    "ExecuteTime": {
     "end_time": "2020-04-30T09:23:28.114922Z",
     "start_time": "2020-04-30T09:23:28.106420Z"
    }
   },
   "outputs": [
    {
     "data": {
      "text/plain": [
       "Text(43.876270751953136, 0.5, 'Follower Count Distribution $p(k_o)$')"
      ]
     },
     "execution_count": 271,
     "metadata": {},
     "output_type": "execute_result"
    }
   ],
   "source": [
    "ax.set_ylabel('Follower Count Distribution $p(k_o)$', fontsize=14)"
   ]
  },
  {
   "cell_type": "code",
   "execution_count": 272,
   "metadata": {
    "ExecuteTime": {
     "end_time": "2020-04-30T09:23:28.999835Z",
     "start_time": "2020-04-30T09:23:28.989036Z"
    }
   },
   "outputs": [],
   "source": [
    "ax.tick_params(labelsize=14)"
   ]
  },
  {
   "cell_type": "code",
   "execution_count": 275,
   "metadata": {
    "ExecuteTime": {
     "end_time": "2020-04-30T09:23:50.022444Z",
     "start_time": "2020-04-30T09:23:49.922203Z"
    }
   },
   "outputs": [],
   "source": [
    "fig.tight_layout()"
   ]
  },
  {
   "cell_type": "code",
   "execution_count": 276,
   "metadata": {
    "ExecuteTime": {
     "end_time": "2020-04-30T09:23:56.893982Z",
     "start_time": "2020-04-30T09:23:56.630630Z"
    }
   },
   "outputs": [],
   "source": [
    "fig.savefig(r'db\\Epinions\\img\\out_degree_distribution.png')"
   ]
  },
  {
   "cell_type": "code",
   "execution_count": 277,
   "metadata": {
    "ExecuteTime": {
     "end_time": "2020-04-30T09:24:07.728212Z",
     "start_time": "2020-04-30T09:24:07.717241Z"
    }
   },
   "outputs": [],
   "source": [
    "bins_i = [float(_) for _ in bins[:-1]]\n",
    "hist_i = [float(_) for _ in hist]\n",
    "x_i = [float(_) for _ in x]\n",
    "y_i = [float(_) for _ in y]\n",
    "data = {\n",
    "    'bins': bins_i,\n",
    "    'hist': hist_i,\n",
    "    'x': x_i,\n",
    "    'y': y_i\n",
    "}\n",
    "with open(r'db\\Epinions\\img\\out_degree_distribution.json', 'w') as fw:\n",
    "    json.dump(data, fw)"
   ]
  },
  {
   "cell_type": "markdown",
   "metadata": {},
   "source": [
    "## DiSFNetwork4"
   ]
  },
  {
   "cell_type": "code",
   "execution_count": 191,
   "metadata": {
    "ExecuteTime": {
     "end_time": "2020-04-30T09:10:02.725379Z",
     "start_time": "2020-04-30T09:10:02.720390Z"
    }
   },
   "outputs": [],
   "source": [
    "at_path = r'db\\DiSFNetwork4\\at.json'"
   ]
  },
  {
   "cell_type": "markdown",
   "metadata": {},
   "source": [
    "## DiSFNetwork20"
   ]
  },
  {
   "cell_type": "code",
   "execution_count": 115,
   "metadata": {
    "ExecuteTime": {
     "end_time": "2020-04-30T08:46:44.164753Z",
     "start_time": "2020-04-30T08:46:44.159625Z"
    }
   },
   "outputs": [],
   "source": [
    "at_path = r'db\\DiSFNetwork20\\at.json'"
   ]
  },
  {
   "cell_type": "markdown",
   "metadata": {},
   "source": [
    "## Twitter"
   ]
  },
  {
   "cell_type": "code",
   "execution_count": 217,
   "metadata": {
    "ExecuteTime": {
     "end_time": "2020-04-30T09:14:31.025211Z",
     "start_time": "2020-04-30T09:14:31.021219Z"
    }
   },
   "outputs": [],
   "source": [
    "at_path = r'db\\Twitter\\at.json'"
   ]
  },
  {
   "cell_type": "markdown",
   "metadata": {},
   "source": [
    "## Epinions"
   ]
  },
  {
   "cell_type": "code",
   "execution_count": 253,
   "metadata": {
    "ExecuteTime": {
     "end_time": "2020-04-30T09:21:08.246386Z",
     "start_time": "2020-04-30T09:21:08.241402Z"
    }
   },
   "outputs": [],
   "source": [
    "at_path = r'db\\Epinions\\at.json'"
   ]
  }
 ],
 "metadata": {
  "hide_input": false,
  "kernelspec": {
   "display_name": "ComplexNetwork",
   "language": "python",
   "name": "complexnetwork"
  },
  "language_info": {
   "codemirror_mode": {
    "name": "ipython",
    "version": 3
   },
   "file_extension": ".py",
   "mimetype": "text/x-python",
   "name": "python",
   "nbconvert_exporter": "python",
   "pygments_lexer": "ipython3",
   "version": "3.7.4"
  },
  "toc": {
   "base_numbering": 1,
   "nav_menu": {},
   "number_sections": true,
   "sideBar": true,
   "skip_h1_title": false,
   "title_cell": "Table of Contents",
   "title_sidebar": "Contents",
   "toc_cell": false,
   "toc_position": {},
   "toc_section_display": true,
   "toc_window_display": false
  },
  "varInspector": {
   "cols": {
    "lenName": 16,
    "lenType": 16,
    "lenVar": 40
   },
   "kernels_config": {
    "python": {
     "delete_cmd_postfix": "",
     "delete_cmd_prefix": "del ",
     "library": "var_list.py",
     "varRefreshCmd": "print(var_dic_list())"
    },
    "r": {
     "delete_cmd_postfix": ") ",
     "delete_cmd_prefix": "rm(",
     "library": "var_list.r",
     "varRefreshCmd": "cat(var_dic_list()) "
    }
   },
   "types_to_exclude": [
    "module",
    "function",
    "builtin_function_or_method",
    "instance",
    "_Feature"
   ],
   "window_display": false
  }
 },
 "nbformat": 4,
 "nbformat_minor": 4
}
