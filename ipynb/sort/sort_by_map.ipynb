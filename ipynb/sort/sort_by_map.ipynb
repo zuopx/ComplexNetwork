{
 "cells": [
  {
   "cell_type": "code",
   "execution_count": 1,
   "metadata": {
    "ExecuteTime": {
     "end_time": "2020-04-30T12:32:28.631952Z",
     "start_time": "2020-04-30T12:32:28.626968Z"
    }
   },
   "outputs": [],
   "source": [
    "WORKSPACEFOLDER = 'E:\\Projects\\ComplexNetwork'\n",
    "import os\n",
    "os.chdir(WORKSPACEFOLDER)"
   ]
  },
  {
   "cell_type": "code",
   "execution_count": 2,
   "metadata": {
    "ExecuteTime": {
     "end_time": "2020-04-30T12:33:37.762044Z",
     "start_time": "2020-04-30T12:33:37.396502Z"
    }
   },
   "outputs": [],
   "source": [
    "import json\n",
    "\n",
    "import src.main.util.sort as sort"
   ]
  },
  {
   "cell_type": "code",
   "execution_count": 3,
   "metadata": {
    "ExecuteTime": {
     "end_time": "2020-04-30T12:33:39.120754Z",
     "start_time": "2020-04-30T12:33:39.115419Z"
    }
   },
   "outputs": [],
   "source": [
    "import config\n",
    "\n",
    "DB = config.get_DB()"
   ]
  },
  {
   "cell_type": "code",
   "execution_count": 11,
   "metadata": {
    "ExecuteTime": {
     "end_time": "2020-04-30T13:30:04.743211Z",
     "start_time": "2020-04-30T13:30:04.628005Z"
    }
   },
   "outputs": [],
   "source": [
    "base_path = os.path.join(DB, g_name)\n",
    "\n",
    "seed_path = os.path.join(base_path, 'seed')\n",
    "\n",
    "criterions = ['out_degree', 'k_shell', 'closeness', 'betweenness', 'ci']\n",
    "\n",
    "candidates_path = os.path.join(base_path, f'cn{mean}')\n",
    "with open(candidates_path, 'r') as fr:\n",
    "    candidates_set = json.load(fr)\n",
    "\n",
    "for c in criterions:\n",
    "    \n",
    "    key_map = sort.sort_by_map(os.path.join(base_path, c))\n",
    "    \n",
    "    candidates_sorted_set = []\n",
    "    for candidates in candidates_set:\n",
    "        candidates_sorted = sorted(candidates, key=lambda x: key_map(x), reverse=True)\n",
    "        candidates_sorted_set.append(candidates_sorted)\n",
    "        \n",
    "    file_name = f'{mean} ' + c + '.json'\n",
    "    with open(os.path.join(seed_path, file_name), 'w') as fw:\n",
    "        json.dump(candidates_sorted_set, fw)\n",
    "    "
   ]
  },
  {
   "cell_type": "markdown",
   "metadata": {},
   "source": [
    "# DiSF_a"
   ]
  },
  {
   "cell_type": "code",
   "execution_count": null,
   "metadata": {
    "ExecuteTime": {
     "end_time": "2020-04-30T13:25:59.811118Z",
     "start_time": "2020-04-30T13:25:59.704822Z"
    }
   },
   "outputs": [],
   "source": [
    "g_name, mean = 'DiSF_a', 4"
   ]
  },
  {
   "cell_type": "markdown",
   "metadata": {},
   "source": [
    "# DiSF_b"
   ]
  },
  {
   "cell_type": "code",
   "execution_count": 9,
   "metadata": {
    "ExecuteTime": {
     "end_time": "2020-04-30T13:29:15.775083Z",
     "start_time": "2020-04-30T13:29:15.769099Z"
    }
   },
   "outputs": [],
   "source": [
    "g_name, mean = 'DiSF_b', 20"
   ]
  }
 ],
 "metadata": {
  "hide_input": false,
  "kernelspec": {
   "display_name": "ComplexNetwork",
   "language": "python",
   "name": "complexnetwork"
  },
  "language_info": {
   "codemirror_mode": {
    "name": "ipython",
    "version": 3
   },
   "file_extension": ".py",
   "mimetype": "text/x-python",
   "name": "python",
   "nbconvert_exporter": "python",
   "pygments_lexer": "ipython3",
   "version": "3.7.4"
  },
  "toc": {
   "base_numbering": 1,
   "nav_menu": {},
   "number_sections": true,
   "sideBar": true,
   "skip_h1_title": false,
   "title_cell": "Table of Contents",
   "title_sidebar": "Contents",
   "toc_cell": false,
   "toc_position": {},
   "toc_section_display": true,
   "toc_window_display": false
  },
  "varInspector": {
   "cols": {
    "lenName": 16,
    "lenType": 16,
    "lenVar": 40
   },
   "kernels_config": {
    "python": {
     "delete_cmd_postfix": "",
     "delete_cmd_prefix": "del ",
     "library": "var_list.py",
     "varRefreshCmd": "print(var_dic_list())"
    },
    "r": {
     "delete_cmd_postfix": ") ",
     "delete_cmd_prefix": "rm(",
     "library": "var_list.r",
     "varRefreshCmd": "cat(var_dic_list()) "
    }
   },
   "types_to_exclude": [
    "module",
    "function",
    "builtin_function_or_method",
    "instance",
    "_Feature"
   ],
   "window_display": false
  }
 },
 "nbformat": 4,
 "nbformat_minor": 4
}
