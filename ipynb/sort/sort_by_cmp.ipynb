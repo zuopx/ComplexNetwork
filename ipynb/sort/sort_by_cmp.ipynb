{
 "cells": [
  {
   "cell_type": "markdown",
   "metadata": {},
   "source": [
    "# 根据神经网络，对用户排序\n",
    "\n",
    "-   用户集\n",
    "-   顺序无关神经网络（神经网络类型和state_dict）\n",
    "-   排序后的存储"
   ]
  },
  {
   "cell_type": "code",
   "execution_count": 2,
   "metadata": {
    "ExecuteTime": {
     "end_time": "2020-04-28T14:42:08.787128Z",
     "start_time": "2020-04-28T14:42:08.779352Z"
    }
   },
   "outputs": [],
   "source": [
    "WORKSPACEFOLDER = 'E:\\Projects\\ComplexNetwork'\n",
    "import os\n",
    "os.chdir(WORKSPACEFOLDER)"
   ]
  },
  {
   "cell_type": "code",
   "execution_count": 3,
   "metadata": {
    "ExecuteTime": {
     "end_time": "2020-04-28T14:42:09.829046Z",
     "start_time": "2020-04-28T14:42:09.321432Z"
    }
   },
   "outputs": [],
   "source": [
    "import json\n",
    "import functools\n",
    "\n",
    "import torch"
   ]
  },
  {
   "cell_type": "code",
   "execution_count": 4,
   "metadata": {
    "ExecuteTime": {
     "end_time": "2020-04-28T14:42:09.842007Z",
     "start_time": "2020-04-28T14:42:09.831036Z"
    }
   },
   "outputs": [],
   "source": [
    "import config\n",
    "\n",
    "DB = config.get_DB()"
   ]
  },
  {
   "cell_type": "code",
   "execution_count": 5,
   "metadata": {
    "ExecuteTime": {
     "end_time": "2020-04-28T14:42:10.487856Z",
     "start_time": "2020-04-28T14:42:10.147869Z"
    }
   },
   "outputs": [],
   "source": [
    "import matplotlib.pyplot as plt\n",
    "\n",
    "%matplotlib notebook"
   ]
  },
  {
   "cell_type": "code",
   "execution_count": 6,
   "metadata": {
    "ExecuteTime": {
     "end_time": "2020-04-28T14:42:10.688136Z",
     "start_time": "2020-04-28T14:42:10.670703Z"
    }
   },
   "outputs": [],
   "source": [
    "import src.main.util.sort as sort"
   ]
  },
  {
   "cell_type": "code",
   "execution_count": 15,
   "metadata": {
    "ExecuteTime": {
     "end_time": "2020-04-28T15:31:21.508123Z",
     "start_time": "2020-04-28T15:31:21.501616Z"
    }
   },
   "outputs": [],
   "source": [
    "import src.main.util.spread as spread"
   ]
  },
  {
   "cell_type": "code",
   "execution_count": 12,
   "metadata": {
    "ExecuteTime": {
     "end_time": "2020-04-28T14:51:04.331211Z",
     "start_time": "2020-04-28T14:51:04.261216Z"
    }
   },
   "outputs": [],
   "source": [
    "from scipy import sparse"
   ]
  },
  {
   "cell_type": "code",
   "execution_count": 20,
   "metadata": {
    "ExecuteTime": {
     "end_time": "2020-04-28T15:38:16.486679Z",
     "start_time": "2020-04-28T15:38:16.481696Z"
    }
   },
   "outputs": [],
   "source": [
    "import numpy as np"
   ]
  },
  {
   "cell_type": "markdown",
   "metadata": {},
   "source": [
    "## SNAPTwitter"
   ]
  },
  {
   "cell_type": "markdown",
   "metadata": {},
   "source": [
    "### 条件： cn20 nodes20_beta0.0120"
   ]
  },
  {
   "cell_type": "markdown",
   "metadata": {},
   "source": [
    "#### 识别关键用户"
   ]
  },
  {
   "cell_type": "code",
   "execution_count": 7,
   "metadata": {
    "ExecuteTime": {
     "end_time": "2020-04-28T14:42:14.740069Z",
     "start_time": "2020-04-28T14:42:14.730098Z"
    }
   },
   "outputs": [],
   "source": [
    "with open(r'db\\SNAPTwitter\\cn 20.json', 'r') as fr:\n",
    "    cn20 = json.load(fr)"
   ]
  },
  {
   "cell_type": "code",
   "execution_count": 8,
   "metadata": {
    "ExecuteTime": {
     "end_time": "2020-04-28T14:42:23.062468Z",
     "start_time": "2020-04-28T14:42:17.928505Z"
    }
   },
   "outputs": [],
   "source": [
    "folder_nn = 'db/SNAPTwitter/nn/order_independent_net'\n",
    "file_emb = 'db/SNAPTwitter/SNAPTwitter.node2vec.emb.json'\n",
    "cmp = sort.sort_by_cmp(folder_nn, file_emb)"
   ]
  },
  {
   "cell_type": "code",
   "execution_count": 11,
   "metadata": {
    "ExecuteTime": {
     "end_time": "2020-04-28T14:50:32.361913Z",
     "start_time": "2020-04-28T14:44:20.354325Z"
    }
   },
   "outputs": [],
   "source": [
    "cn20_sorted = []\n",
    "for i in range(len(cn20)):\n",
    "    cn20_sorted.append(sorted(cn20[i], key=functools.cmp_to_key(cmp), reverse=True))"
   ]
  },
  {
   "cell_type": "code",
   "execution_count": 14,
   "metadata": {
    "ExecuteTime": {
     "end_time": "2020-04-28T15:28:49.980017Z",
     "start_time": "2020-04-28T15:28:49.950100Z"
    }
   },
   "outputs": [],
   "source": [
    "with open(r'db\\SNAPTwitter\\seed\\nn\\20 0.0120 20.json',  'w') as fw:\n",
    "    json.dump(cn20_sorted, fw)"
   ]
  },
  {
   "cell_type": "markdown",
   "metadata": {},
   "source": [
    "#### calculate spread size"
   ]
  },
  {
   "cell_type": "code",
   "execution_count": 13,
   "metadata": {
    "ExecuteTime": {
     "end_time": "2020-04-28T14:58:58.319007Z",
     "start_time": "2020-04-28T14:58:57.551366Z"
    }
   },
   "outputs": [],
   "source": [
    "gin_mat = sparse.load_npz(r'db\\SNAPTwitter\\gin_mat\\0.0120.npz').toarray()\n",
    "gout_size = 2121.119174379556"
   ]
  },
  {
   "cell_type": "code",
   "execution_count": 17,
   "metadata": {
    "ExecuteTime": {
     "end_time": "2020-04-28T15:36:34.102854Z",
     "start_time": "2020-04-28T15:36:33.052517Z"
    }
   },
   "outputs": [],
   "source": [
    "cn20_ss = []\n",
    "for i in range(len(cn20_sorted)):\n",
    "    ss = spread.spread_size(cn20_sorted[i], gin_mat, gout_size)\n",
    "    cn20_ss.append(ss)"
   ]
  },
  {
   "cell_type": "code",
   "execution_count": 36,
   "metadata": {
    "ExecuteTime": {
     "end_time": "2020-04-28T15:50:12.577920Z",
     "start_time": "2020-04-28T15:50:12.571534Z"
    }
   },
   "outputs": [],
   "source": [
    "ss = np.array(cn20_ss).mean(axis=0) / gout_size"
   ]
  },
  {
   "cell_type": "code",
   "execution_count": 29,
   "metadata": {
    "ExecuteTime": {
     "end_time": "2020-04-28T15:44:31.072599Z",
     "start_time": "2020-04-28T15:44:31.064621Z"
    }
   },
   "outputs": [],
   "source": [
    "with open(r'db\\SNAPTwitter\\img\\NN_PGIN-PGIN-MKS.json', 'r') as fr:\n",
    "    data = json.load(fr)"
   ]
  },
  {
   "cell_type": "markdown",
   "metadata": {},
   "source": [
    "#### Plot"
   ]
  },
  {
   "cell_type": "code",
   "execution_count": 39,
   "metadata": {
    "ExecuteTime": {
     "end_time": "2020-04-28T15:50:42.817129Z",
     "start_time": "2020-04-28T15:50:42.810148Z"
    }
   },
   "outputs": [],
   "source": [
    "x = data['x']\n",
    "y1 = list(ss)\n",
    "y2 = data['NN_PGIN']\n",
    "y3 = data['PGIN']\n",
    "y4 = data['MKS']\n",
    "y = [y1, y2, y3, y4]\n",
    "labels = ['OIN_PGIN', 'NN_PGIN', 'PGIN', 'MKS']"
   ]
  },
  {
   "cell_type": "code",
   "execution_count": 41,
   "metadata": {
    "ExecuteTime": {
     "end_time": "2020-04-28T15:50:47.477694Z",
     "start_time": "2020-04-28T15:50:47.437801Z"
    }
   },
   "outputs": [],
   "source": [
    "for i in range(len(y)):\n",
    "    ax.plot(x, y[i], label=labels[i])\n",
    "    ax.legend()\n",
    "    ax.grid(alpha=0.25)"
   ]
  },
  {
   "cell_type": "code",
   "execution_count": 40,
   "metadata": {
    "ExecuteTime": {
     "end_time": "2020-04-28T15:50:45.747323Z",
     "start_time": "2020-04-28T15:50:45.705920Z"
    }
   },
   "outputs": [],
   "source": [
    "ax.clear()"
   ]
  },
  {
   "cell_type": "code",
   "execution_count": 34,
   "metadata": {
    "ExecuteTime": {
     "end_time": "2020-04-28T15:47:57.334035Z",
     "start_time": "2020-04-28T15:47:57.254248Z"
    }
   },
   "outputs": [
    {
     "data": {
      "application/javascript": [
       "/* Put everything inside the global mpl namespace */\n",
       "window.mpl = {};\n",
       "\n",
       "\n",
       "mpl.get_websocket_type = function() {\n",
       "    if (typeof(WebSocket) !== 'undefined') {\n",
       "        return WebSocket;\n",
       "    } else if (typeof(MozWebSocket) !== 'undefined') {\n",
       "        return MozWebSocket;\n",
       "    } else {\n",
       "        alert('Your browser does not have WebSocket support. ' +\n",
       "              'Please try Chrome, Safari or Firefox ≥ 6. ' +\n",
       "              'Firefox 4 and 5 are also supported but you ' +\n",
       "              'have to enable WebSockets in about:config.');\n",
       "    };\n",
       "}\n",
       "\n",
       "mpl.figure = function(figure_id, websocket, ondownload, parent_element) {\n",
       "    this.id = figure_id;\n",
       "\n",
       "    this.ws = websocket;\n",
       "\n",
       "    this.supports_binary = (this.ws.binaryType != undefined);\n",
       "\n",
       "    if (!this.supports_binary) {\n",
       "        var warnings = document.getElementById(\"mpl-warnings\");\n",
       "        if (warnings) {\n",
       "            warnings.style.display = 'block';\n",
       "            warnings.textContent = (\n",
       "                \"This browser does not support binary websocket messages. \" +\n",
       "                    \"Performance may be slow.\");\n",
       "        }\n",
       "    }\n",
       "\n",
       "    this.imageObj = new Image();\n",
       "\n",
       "    this.context = undefined;\n",
       "    this.message = undefined;\n",
       "    this.canvas = undefined;\n",
       "    this.rubberband_canvas = undefined;\n",
       "    this.rubberband_context = undefined;\n",
       "    this.format_dropdown = undefined;\n",
       "\n",
       "    this.image_mode = 'full';\n",
       "\n",
       "    this.root = $('<div/>');\n",
       "    this._root_extra_style(this.root)\n",
       "    this.root.attr('style', 'display: inline-block');\n",
       "\n",
       "    $(parent_element).append(this.root);\n",
       "\n",
       "    this._init_header(this);\n",
       "    this._init_canvas(this);\n",
       "    this._init_toolbar(this);\n",
       "\n",
       "    var fig = this;\n",
       "\n",
       "    this.waiting = false;\n",
       "\n",
       "    this.ws.onopen =  function () {\n",
       "            fig.send_message(\"supports_binary\", {value: fig.supports_binary});\n",
       "            fig.send_message(\"send_image_mode\", {});\n",
       "            if (mpl.ratio != 1) {\n",
       "                fig.send_message(\"set_dpi_ratio\", {'dpi_ratio': mpl.ratio});\n",
       "            }\n",
       "            fig.send_message(\"refresh\", {});\n",
       "        }\n",
       "\n",
       "    this.imageObj.onload = function() {\n",
       "            if (fig.image_mode == 'full') {\n",
       "                // Full images could contain transparency (where diff images\n",
       "                // almost always do), so we need to clear the canvas so that\n",
       "                // there is no ghosting.\n",
       "                fig.context.clearRect(0, 0, fig.canvas.width, fig.canvas.height);\n",
       "            }\n",
       "            fig.context.drawImage(fig.imageObj, 0, 0);\n",
       "        };\n",
       "\n",
       "    this.imageObj.onunload = function() {\n",
       "        fig.ws.close();\n",
       "    }\n",
       "\n",
       "    this.ws.onmessage = this._make_on_message_function(this);\n",
       "\n",
       "    this.ondownload = ondownload;\n",
       "}\n",
       "\n",
       "mpl.figure.prototype._init_header = function() {\n",
       "    var titlebar = $(\n",
       "        '<div class=\"ui-dialog-titlebar ui-widget-header ui-corner-all ' +\n",
       "        'ui-helper-clearfix\"/>');\n",
       "    var titletext = $(\n",
       "        '<div class=\"ui-dialog-title\" style=\"width: 100%; ' +\n",
       "        'text-align: center; padding: 3px;\"/>');\n",
       "    titlebar.append(titletext)\n",
       "    this.root.append(titlebar);\n",
       "    this.header = titletext[0];\n",
       "}\n",
       "\n",
       "\n",
       "\n",
       "mpl.figure.prototype._canvas_extra_style = function(canvas_div) {\n",
       "\n",
       "}\n",
       "\n",
       "\n",
       "mpl.figure.prototype._root_extra_style = function(canvas_div) {\n",
       "\n",
       "}\n",
       "\n",
       "mpl.figure.prototype._init_canvas = function() {\n",
       "    var fig = this;\n",
       "\n",
       "    var canvas_div = $('<div/>');\n",
       "\n",
       "    canvas_div.attr('style', 'position: relative; clear: both; outline: 0');\n",
       "\n",
       "    function canvas_keyboard_event(event) {\n",
       "        return fig.key_event(event, event['data']);\n",
       "    }\n",
       "\n",
       "    canvas_div.keydown('key_press', canvas_keyboard_event);\n",
       "    canvas_div.keyup('key_release', canvas_keyboard_event);\n",
       "    this.canvas_div = canvas_div\n",
       "    this._canvas_extra_style(canvas_div)\n",
       "    this.root.append(canvas_div);\n",
       "\n",
       "    var canvas = $('<canvas/>');\n",
       "    canvas.addClass('mpl-canvas');\n",
       "    canvas.attr('style', \"left: 0; top: 0; z-index: 0; outline: 0\")\n",
       "\n",
       "    this.canvas = canvas[0];\n",
       "    this.context = canvas[0].getContext(\"2d\");\n",
       "\n",
       "    var backingStore = this.context.backingStorePixelRatio ||\n",
       "\tthis.context.webkitBackingStorePixelRatio ||\n",
       "\tthis.context.mozBackingStorePixelRatio ||\n",
       "\tthis.context.msBackingStorePixelRatio ||\n",
       "\tthis.context.oBackingStorePixelRatio ||\n",
       "\tthis.context.backingStorePixelRatio || 1;\n",
       "\n",
       "    mpl.ratio = (window.devicePixelRatio || 1) / backingStore;\n",
       "\n",
       "    var rubberband = $('<canvas/>');\n",
       "    rubberband.attr('style', \"position: absolute; left: 0; top: 0; z-index: 1;\")\n",
       "\n",
       "    var pass_mouse_events = true;\n",
       "\n",
       "    canvas_div.resizable({\n",
       "        start: function(event, ui) {\n",
       "            pass_mouse_events = false;\n",
       "        },\n",
       "        resize: function(event, ui) {\n",
       "            fig.request_resize(ui.size.width, ui.size.height);\n",
       "        },\n",
       "        stop: function(event, ui) {\n",
       "            pass_mouse_events = true;\n",
       "            fig.request_resize(ui.size.width, ui.size.height);\n",
       "        },\n",
       "    });\n",
       "\n",
       "    function mouse_event_fn(event) {\n",
       "        if (pass_mouse_events)\n",
       "            return fig.mouse_event(event, event['data']);\n",
       "    }\n",
       "\n",
       "    rubberband.mousedown('button_press', mouse_event_fn);\n",
       "    rubberband.mouseup('button_release', mouse_event_fn);\n",
       "    // Throttle sequential mouse events to 1 every 20ms.\n",
       "    rubberband.mousemove('motion_notify', mouse_event_fn);\n",
       "\n",
       "    rubberband.mouseenter('figure_enter', mouse_event_fn);\n",
       "    rubberband.mouseleave('figure_leave', mouse_event_fn);\n",
       "\n",
       "    canvas_div.on(\"wheel\", function (event) {\n",
       "        event = event.originalEvent;\n",
       "        event['data'] = 'scroll'\n",
       "        if (event.deltaY < 0) {\n",
       "            event.step = 1;\n",
       "        } else {\n",
       "            event.step = -1;\n",
       "        }\n",
       "        mouse_event_fn(event);\n",
       "    });\n",
       "\n",
       "    canvas_div.append(canvas);\n",
       "    canvas_div.append(rubberband);\n",
       "\n",
       "    this.rubberband = rubberband;\n",
       "    this.rubberband_canvas = rubberband[0];\n",
       "    this.rubberband_context = rubberband[0].getContext(\"2d\");\n",
       "    this.rubberband_context.strokeStyle = \"#000000\";\n",
       "\n",
       "    this._resize_canvas = function(width, height) {\n",
       "        // Keep the size of the canvas, canvas container, and rubber band\n",
       "        // canvas in synch.\n",
       "        canvas_div.css('width', width)\n",
       "        canvas_div.css('height', height)\n",
       "\n",
       "        canvas.attr('width', width * mpl.ratio);\n",
       "        canvas.attr('height', height * mpl.ratio);\n",
       "        canvas.attr('style', 'width: ' + width + 'px; height: ' + height + 'px;');\n",
       "\n",
       "        rubberband.attr('width', width);\n",
       "        rubberband.attr('height', height);\n",
       "    }\n",
       "\n",
       "    // Set the figure to an initial 600x600px, this will subsequently be updated\n",
       "    // upon first draw.\n",
       "    this._resize_canvas(600, 600);\n",
       "\n",
       "    // Disable right mouse context menu.\n",
       "    $(this.rubberband_canvas).bind(\"contextmenu\",function(e){\n",
       "        return false;\n",
       "    });\n",
       "\n",
       "    function set_focus () {\n",
       "        canvas.focus();\n",
       "        canvas_div.focus();\n",
       "    }\n",
       "\n",
       "    window.setTimeout(set_focus, 100);\n",
       "}\n",
       "\n",
       "mpl.figure.prototype._init_toolbar = function() {\n",
       "    var fig = this;\n",
       "\n",
       "    var nav_element = $('<div/>');\n",
       "    nav_element.attr('style', 'width: 100%');\n",
       "    this.root.append(nav_element);\n",
       "\n",
       "    // Define a callback function for later on.\n",
       "    function toolbar_event(event) {\n",
       "        return fig.toolbar_button_onclick(event['data']);\n",
       "    }\n",
       "    function toolbar_mouse_event(event) {\n",
       "        return fig.toolbar_button_onmouseover(event['data']);\n",
       "    }\n",
       "\n",
       "    for(var toolbar_ind in mpl.toolbar_items) {\n",
       "        var name = mpl.toolbar_items[toolbar_ind][0];\n",
       "        var tooltip = mpl.toolbar_items[toolbar_ind][1];\n",
       "        var image = mpl.toolbar_items[toolbar_ind][2];\n",
       "        var method_name = mpl.toolbar_items[toolbar_ind][3];\n",
       "\n",
       "        if (!name) {\n",
       "            // put a spacer in here.\n",
       "            continue;\n",
       "        }\n",
       "        var button = $('<button/>');\n",
       "        button.addClass('ui-button ui-widget ui-state-default ui-corner-all ' +\n",
       "                        'ui-button-icon-only');\n",
       "        button.attr('role', 'button');\n",
       "        button.attr('aria-disabled', 'false');\n",
       "        button.click(method_name, toolbar_event);\n",
       "        button.mouseover(tooltip, toolbar_mouse_event);\n",
       "\n",
       "        var icon_img = $('<span/>');\n",
       "        icon_img.addClass('ui-button-icon-primary ui-icon');\n",
       "        icon_img.addClass(image);\n",
       "        icon_img.addClass('ui-corner-all');\n",
       "\n",
       "        var tooltip_span = $('<span/>');\n",
       "        tooltip_span.addClass('ui-button-text');\n",
       "        tooltip_span.html(tooltip);\n",
       "\n",
       "        button.append(icon_img);\n",
       "        button.append(tooltip_span);\n",
       "\n",
       "        nav_element.append(button);\n",
       "    }\n",
       "\n",
       "    var fmt_picker_span = $('<span/>');\n",
       "\n",
       "    var fmt_picker = $('<select/>');\n",
       "    fmt_picker.addClass('mpl-toolbar-option ui-widget ui-widget-content');\n",
       "    fmt_picker_span.append(fmt_picker);\n",
       "    nav_element.append(fmt_picker_span);\n",
       "    this.format_dropdown = fmt_picker[0];\n",
       "\n",
       "    for (var ind in mpl.extensions) {\n",
       "        var fmt = mpl.extensions[ind];\n",
       "        var option = $(\n",
       "            '<option/>', {selected: fmt === mpl.default_extension}).html(fmt);\n",
       "        fmt_picker.append(option);\n",
       "    }\n",
       "\n",
       "    // Add hover states to the ui-buttons\n",
       "    $( \".ui-button\" ).hover(\n",
       "        function() { $(this).addClass(\"ui-state-hover\");},\n",
       "        function() { $(this).removeClass(\"ui-state-hover\");}\n",
       "    );\n",
       "\n",
       "    var status_bar = $('<span class=\"mpl-message\"/>');\n",
       "    nav_element.append(status_bar);\n",
       "    this.message = status_bar[0];\n",
       "}\n",
       "\n",
       "mpl.figure.prototype.request_resize = function(x_pixels, y_pixels) {\n",
       "    // Request matplotlib to resize the figure. Matplotlib will then trigger a resize in the client,\n",
       "    // which will in turn request a refresh of the image.\n",
       "    this.send_message('resize', {'width': x_pixels, 'height': y_pixels});\n",
       "}\n",
       "\n",
       "mpl.figure.prototype.send_message = function(type, properties) {\n",
       "    properties['type'] = type;\n",
       "    properties['figure_id'] = this.id;\n",
       "    this.ws.send(JSON.stringify(properties));\n",
       "}\n",
       "\n",
       "mpl.figure.prototype.send_draw_message = function() {\n",
       "    if (!this.waiting) {\n",
       "        this.waiting = true;\n",
       "        this.ws.send(JSON.stringify({type: \"draw\", figure_id: this.id}));\n",
       "    }\n",
       "}\n",
       "\n",
       "\n",
       "mpl.figure.prototype.handle_save = function(fig, msg) {\n",
       "    var format_dropdown = fig.format_dropdown;\n",
       "    var format = format_dropdown.options[format_dropdown.selectedIndex].value;\n",
       "    fig.ondownload(fig, format);\n",
       "}\n",
       "\n",
       "\n",
       "mpl.figure.prototype.handle_resize = function(fig, msg) {\n",
       "    var size = msg['size'];\n",
       "    if (size[0] != fig.canvas.width || size[1] != fig.canvas.height) {\n",
       "        fig._resize_canvas(size[0], size[1]);\n",
       "        fig.send_message(\"refresh\", {});\n",
       "    };\n",
       "}\n",
       "\n",
       "mpl.figure.prototype.handle_rubberband = function(fig, msg) {\n",
       "    var x0 = msg['x0'] / mpl.ratio;\n",
       "    var y0 = (fig.canvas.height - msg['y0']) / mpl.ratio;\n",
       "    var x1 = msg['x1'] / mpl.ratio;\n",
       "    var y1 = (fig.canvas.height - msg['y1']) / mpl.ratio;\n",
       "    x0 = Math.floor(x0) + 0.5;\n",
       "    y0 = Math.floor(y0) + 0.5;\n",
       "    x1 = Math.floor(x1) + 0.5;\n",
       "    y1 = Math.floor(y1) + 0.5;\n",
       "    var min_x = Math.min(x0, x1);\n",
       "    var min_y = Math.min(y0, y1);\n",
       "    var width = Math.abs(x1 - x0);\n",
       "    var height = Math.abs(y1 - y0);\n",
       "\n",
       "    fig.rubberband_context.clearRect(\n",
       "        0, 0, fig.canvas.width / mpl.ratio, fig.canvas.height / mpl.ratio);\n",
       "\n",
       "    fig.rubberband_context.strokeRect(min_x, min_y, width, height);\n",
       "}\n",
       "\n",
       "mpl.figure.prototype.handle_figure_label = function(fig, msg) {\n",
       "    // Updates the figure title.\n",
       "    fig.header.textContent = msg['label'];\n",
       "}\n",
       "\n",
       "mpl.figure.prototype.handle_cursor = function(fig, msg) {\n",
       "    var cursor = msg['cursor'];\n",
       "    switch(cursor)\n",
       "    {\n",
       "    case 0:\n",
       "        cursor = 'pointer';\n",
       "        break;\n",
       "    case 1:\n",
       "        cursor = 'default';\n",
       "        break;\n",
       "    case 2:\n",
       "        cursor = 'crosshair';\n",
       "        break;\n",
       "    case 3:\n",
       "        cursor = 'move';\n",
       "        break;\n",
       "    }\n",
       "    fig.rubberband_canvas.style.cursor = cursor;\n",
       "}\n",
       "\n",
       "mpl.figure.prototype.handle_message = function(fig, msg) {\n",
       "    fig.message.textContent = msg['message'];\n",
       "}\n",
       "\n",
       "mpl.figure.prototype.handle_draw = function(fig, msg) {\n",
       "    // Request the server to send over a new figure.\n",
       "    fig.send_draw_message();\n",
       "}\n",
       "\n",
       "mpl.figure.prototype.handle_image_mode = function(fig, msg) {\n",
       "    fig.image_mode = msg['mode'];\n",
       "}\n",
       "\n",
       "mpl.figure.prototype.updated_canvas_event = function() {\n",
       "    // Called whenever the canvas gets updated.\n",
       "    this.send_message(\"ack\", {});\n",
       "}\n",
       "\n",
       "// A function to construct a web socket function for onmessage handling.\n",
       "// Called in the figure constructor.\n",
       "mpl.figure.prototype._make_on_message_function = function(fig) {\n",
       "    return function socket_on_message(evt) {\n",
       "        if (evt.data instanceof Blob) {\n",
       "            /* FIXME: We get \"Resource interpreted as Image but\n",
       "             * transferred with MIME type text/plain:\" errors on\n",
       "             * Chrome.  But how to set the MIME type?  It doesn't seem\n",
       "             * to be part of the websocket stream */\n",
       "            evt.data.type = \"image/png\";\n",
       "\n",
       "            /* Free the memory for the previous frames */\n",
       "            if (fig.imageObj.src) {\n",
       "                (window.URL || window.webkitURL).revokeObjectURL(\n",
       "                    fig.imageObj.src);\n",
       "            }\n",
       "\n",
       "            fig.imageObj.src = (window.URL || window.webkitURL).createObjectURL(\n",
       "                evt.data);\n",
       "            fig.updated_canvas_event();\n",
       "            fig.waiting = false;\n",
       "            return;\n",
       "        }\n",
       "        else if (typeof evt.data === 'string' && evt.data.slice(0, 21) == \"data:image/png;base64\") {\n",
       "            fig.imageObj.src = evt.data;\n",
       "            fig.updated_canvas_event();\n",
       "            fig.waiting = false;\n",
       "            return;\n",
       "        }\n",
       "\n",
       "        var msg = JSON.parse(evt.data);\n",
       "        var msg_type = msg['type'];\n",
       "\n",
       "        // Call the  \"handle_{type}\" callback, which takes\n",
       "        // the figure and JSON message as its only arguments.\n",
       "        try {\n",
       "            var callback = fig[\"handle_\" + msg_type];\n",
       "        } catch (e) {\n",
       "            console.log(\"No handler for the '\" + msg_type + \"' message type: \", msg);\n",
       "            return;\n",
       "        }\n",
       "\n",
       "        if (callback) {\n",
       "            try {\n",
       "                // console.log(\"Handling '\" + msg_type + \"' message: \", msg);\n",
       "                callback(fig, msg);\n",
       "            } catch (e) {\n",
       "                console.log(\"Exception inside the 'handler_\" + msg_type + \"' callback:\", e, e.stack, msg);\n",
       "            }\n",
       "        }\n",
       "    };\n",
       "}\n",
       "\n",
       "// from http://stackoverflow.com/questions/1114465/getting-mouse-location-in-canvas\n",
       "mpl.findpos = function(e) {\n",
       "    //this section is from http://www.quirksmode.org/js/events_properties.html\n",
       "    var targ;\n",
       "    if (!e)\n",
       "        e = window.event;\n",
       "    if (e.target)\n",
       "        targ = e.target;\n",
       "    else if (e.srcElement)\n",
       "        targ = e.srcElement;\n",
       "    if (targ.nodeType == 3) // defeat Safari bug\n",
       "        targ = targ.parentNode;\n",
       "\n",
       "    // jQuery normalizes the pageX and pageY\n",
       "    // pageX,Y are the mouse positions relative to the document\n",
       "    // offset() returns the position of the element relative to the document\n",
       "    var x = e.pageX - $(targ).offset().left;\n",
       "    var y = e.pageY - $(targ).offset().top;\n",
       "\n",
       "    return {\"x\": x, \"y\": y};\n",
       "};\n",
       "\n",
       "/*\n",
       " * return a copy of an object with only non-object keys\n",
       " * we need this to avoid circular references\n",
       " * http://stackoverflow.com/a/24161582/3208463\n",
       " */\n",
       "function simpleKeys (original) {\n",
       "  return Object.keys(original).reduce(function (obj, key) {\n",
       "    if (typeof original[key] !== 'object')\n",
       "        obj[key] = original[key]\n",
       "    return obj;\n",
       "  }, {});\n",
       "}\n",
       "\n",
       "mpl.figure.prototype.mouse_event = function(event, name) {\n",
       "    var canvas_pos = mpl.findpos(event)\n",
       "\n",
       "    if (name === 'button_press')\n",
       "    {\n",
       "        this.canvas.focus();\n",
       "        this.canvas_div.focus();\n",
       "    }\n",
       "\n",
       "    var x = canvas_pos.x * mpl.ratio;\n",
       "    var y = canvas_pos.y * mpl.ratio;\n",
       "\n",
       "    this.send_message(name, {x: x, y: y, button: event.button,\n",
       "                             step: event.step,\n",
       "                             guiEvent: simpleKeys(event)});\n",
       "\n",
       "    /* This prevents the web browser from automatically changing to\n",
       "     * the text insertion cursor when the button is pressed.  We want\n",
       "     * to control all of the cursor setting manually through the\n",
       "     * 'cursor' event from matplotlib */\n",
       "    event.preventDefault();\n",
       "    return false;\n",
       "}\n",
       "\n",
       "mpl.figure.prototype._key_event_extra = function(event, name) {\n",
       "    // Handle any extra behaviour associated with a key event\n",
       "}\n",
       "\n",
       "mpl.figure.prototype.key_event = function(event, name) {\n",
       "\n",
       "    // Prevent repeat events\n",
       "    if (name == 'key_press')\n",
       "    {\n",
       "        if (event.which === this._key)\n",
       "            return;\n",
       "        else\n",
       "            this._key = event.which;\n",
       "    }\n",
       "    if (name == 'key_release')\n",
       "        this._key = null;\n",
       "\n",
       "    var value = '';\n",
       "    if (event.ctrlKey && event.which != 17)\n",
       "        value += \"ctrl+\";\n",
       "    if (event.altKey && event.which != 18)\n",
       "        value += \"alt+\";\n",
       "    if (event.shiftKey && event.which != 16)\n",
       "        value += \"shift+\";\n",
       "\n",
       "    value += 'k';\n",
       "    value += event.which.toString();\n",
       "\n",
       "    this._key_event_extra(event, name);\n",
       "\n",
       "    this.send_message(name, {key: value,\n",
       "                             guiEvent: simpleKeys(event)});\n",
       "    return false;\n",
       "}\n",
       "\n",
       "mpl.figure.prototype.toolbar_button_onclick = function(name) {\n",
       "    if (name == 'download') {\n",
       "        this.handle_save(this, null);\n",
       "    } else {\n",
       "        this.send_message(\"toolbar_button\", {name: name});\n",
       "    }\n",
       "};\n",
       "\n",
       "mpl.figure.prototype.toolbar_button_onmouseover = function(tooltip) {\n",
       "    this.message.textContent = tooltip;\n",
       "};\n",
       "mpl.toolbar_items = [[\"Home\", \"Reset original view\", \"fa fa-home icon-home\", \"home\"], [\"Back\", \"Back to previous view\", \"fa fa-arrow-left icon-arrow-left\", \"back\"], [\"Forward\", \"Forward to next view\", \"fa fa-arrow-right icon-arrow-right\", \"forward\"], [\"\", \"\", \"\", \"\"], [\"Pan\", \"Pan axes with left mouse, zoom with right\", \"fa fa-arrows icon-move\", \"pan\"], [\"Zoom\", \"Zoom to rectangle\", \"fa fa-square-o icon-check-empty\", \"zoom\"], [\"\", \"\", \"\", \"\"], [\"Download\", \"Download plot\", \"fa fa-floppy-o icon-save\", \"download\"]];\n",
       "\n",
       "mpl.extensions = [\"eps\", \"pdf\", \"png\", \"ps\", \"raw\", \"svg\"];\n",
       "\n",
       "mpl.default_extension = \"png\";var comm_websocket_adapter = function(comm) {\n",
       "    // Create a \"websocket\"-like object which calls the given IPython comm\n",
       "    // object with the appropriate methods. Currently this is a non binary\n",
       "    // socket, so there is still some room for performance tuning.\n",
       "    var ws = {};\n",
       "\n",
       "    ws.close = function() {\n",
       "        comm.close()\n",
       "    };\n",
       "    ws.send = function(m) {\n",
       "        //console.log('sending', m);\n",
       "        comm.send(m);\n",
       "    };\n",
       "    // Register the callback with on_msg.\n",
       "    comm.on_msg(function(msg) {\n",
       "        //console.log('receiving', msg['content']['data'], msg);\n",
       "        // Pass the mpl event to the overridden (by mpl) onmessage function.\n",
       "        ws.onmessage(msg['content']['data'])\n",
       "    });\n",
       "    return ws;\n",
       "}\n",
       "\n",
       "mpl.mpl_figure_comm = function(comm, msg) {\n",
       "    // This is the function which gets called when the mpl process\n",
       "    // starts-up an IPython Comm through the \"matplotlib\" channel.\n",
       "\n",
       "    var id = msg.content.data.id;\n",
       "    // Get hold of the div created by the display call when the Comm\n",
       "    // socket was opened in Python.\n",
       "    var element = $(\"#\" + id);\n",
       "    var ws_proxy = comm_websocket_adapter(comm)\n",
       "\n",
       "    function ondownload(figure, format) {\n",
       "        window.open(figure.imageObj.src);\n",
       "    }\n",
       "\n",
       "    var fig = new mpl.figure(id, ws_proxy,\n",
       "                           ondownload,\n",
       "                           element.get(0));\n",
       "\n",
       "    // Call onopen now - mpl needs it, as it is assuming we've passed it a real\n",
       "    // web socket which is closed, not our websocket->open comm proxy.\n",
       "    ws_proxy.onopen();\n",
       "\n",
       "    fig.parent_element = element.get(0);\n",
       "    fig.cell_info = mpl.find_output_cell(\"<div id='\" + id + \"'></div>\");\n",
       "    if (!fig.cell_info) {\n",
       "        console.error(\"Failed to find cell for figure\", id, fig);\n",
       "        return;\n",
       "    }\n",
       "\n",
       "    var output_index = fig.cell_info[2]\n",
       "    var cell = fig.cell_info[0];\n",
       "\n",
       "};\n",
       "\n",
       "mpl.figure.prototype.handle_close = function(fig, msg) {\n",
       "    var width = fig.canvas.width/mpl.ratio\n",
       "    fig.root.unbind('remove')\n",
       "\n",
       "    // Update the output cell to use the data from the current canvas.\n",
       "    fig.push_to_output();\n",
       "    var dataURL = fig.canvas.toDataURL();\n",
       "    // Re-enable the keyboard manager in IPython - without this line, in FF,\n",
       "    // the notebook keyboard shortcuts fail.\n",
       "    IPython.keyboard_manager.enable()\n",
       "    $(fig.parent_element).html('<img src=\"' + dataURL + '\" width=\"' + width + '\">');\n",
       "    fig.close_ws(fig, msg);\n",
       "}\n",
       "\n",
       "mpl.figure.prototype.close_ws = function(fig, msg){\n",
       "    fig.send_message('closing', msg);\n",
       "    // fig.ws.close()\n",
       "}\n",
       "\n",
       "mpl.figure.prototype.push_to_output = function(remove_interactive) {\n",
       "    // Turn the data on the canvas into data in the output cell.\n",
       "    var width = this.canvas.width/mpl.ratio\n",
       "    var dataURL = this.canvas.toDataURL();\n",
       "    this.cell_info[1]['text/html'] = '<img src=\"' + dataURL + '\" width=\"' + width + '\">';\n",
       "}\n",
       "\n",
       "mpl.figure.prototype.updated_canvas_event = function() {\n",
       "    // Tell IPython that the notebook contents must change.\n",
       "    IPython.notebook.set_dirty(true);\n",
       "    this.send_message(\"ack\", {});\n",
       "    var fig = this;\n",
       "    // Wait a second, then push the new image to the DOM so\n",
       "    // that it is saved nicely (might be nice to debounce this).\n",
       "    setTimeout(function () { fig.push_to_output() }, 1000);\n",
       "}\n",
       "\n",
       "mpl.figure.prototype._init_toolbar = function() {\n",
       "    var fig = this;\n",
       "\n",
       "    var nav_element = $('<div/>');\n",
       "    nav_element.attr('style', 'width: 100%');\n",
       "    this.root.append(nav_element);\n",
       "\n",
       "    // Define a callback function for later on.\n",
       "    function toolbar_event(event) {\n",
       "        return fig.toolbar_button_onclick(event['data']);\n",
       "    }\n",
       "    function toolbar_mouse_event(event) {\n",
       "        return fig.toolbar_button_onmouseover(event['data']);\n",
       "    }\n",
       "\n",
       "    for(var toolbar_ind in mpl.toolbar_items){\n",
       "        var name = mpl.toolbar_items[toolbar_ind][0];\n",
       "        var tooltip = mpl.toolbar_items[toolbar_ind][1];\n",
       "        var image = mpl.toolbar_items[toolbar_ind][2];\n",
       "        var method_name = mpl.toolbar_items[toolbar_ind][3];\n",
       "\n",
       "        if (!name) { continue; };\n",
       "\n",
       "        var button = $('<button class=\"btn btn-default\" href=\"#\" title=\"' + name + '\"><i class=\"fa ' + image + ' fa-lg\"></i></button>');\n",
       "        button.click(method_name, toolbar_event);\n",
       "        button.mouseover(tooltip, toolbar_mouse_event);\n",
       "        nav_element.append(button);\n",
       "    }\n",
       "\n",
       "    // Add the status bar.\n",
       "    var status_bar = $('<span class=\"mpl-message\" style=\"text-align:right; float: right;\"/>');\n",
       "    nav_element.append(status_bar);\n",
       "    this.message = status_bar[0];\n",
       "\n",
       "    // Add the close button to the window.\n",
       "    var buttongrp = $('<div class=\"btn-group inline pull-right\"></div>');\n",
       "    var button = $('<button class=\"btn btn-mini btn-primary\" href=\"#\" title=\"Stop Interaction\"><i class=\"fa fa-power-off icon-remove icon-large\"></i></button>');\n",
       "    button.click(function (evt) { fig.handle_close(fig, {}); } );\n",
       "    button.mouseover('Stop Interaction', toolbar_mouse_event);\n",
       "    buttongrp.append(button);\n",
       "    var titlebar = this.root.find($('.ui-dialog-titlebar'));\n",
       "    titlebar.prepend(buttongrp);\n",
       "}\n",
       "\n",
       "mpl.figure.prototype._root_extra_style = function(el){\n",
       "    var fig = this\n",
       "    el.on(\"remove\", function(){\n",
       "\tfig.close_ws(fig, {});\n",
       "    });\n",
       "}\n",
       "\n",
       "mpl.figure.prototype._canvas_extra_style = function(el){\n",
       "    // this is important to make the div 'focusable\n",
       "    el.attr('tabindex', 0)\n",
       "    // reach out to IPython and tell the keyboard manager to turn it's self\n",
       "    // off when our div gets focus\n",
       "\n",
       "    // location in version 3\n",
       "    if (IPython.notebook.keyboard_manager) {\n",
       "        IPython.notebook.keyboard_manager.register_events(el);\n",
       "    }\n",
       "    else {\n",
       "        // location in version 2\n",
       "        IPython.keyboard_manager.register_events(el);\n",
       "    }\n",
       "\n",
       "}\n",
       "\n",
       "mpl.figure.prototype._key_event_extra = function(event, name) {\n",
       "    var manager = IPython.notebook.keyboard_manager;\n",
       "    if (!manager)\n",
       "        manager = IPython.keyboard_manager;\n",
       "\n",
       "    // Check for shift+enter\n",
       "    if (event.shiftKey && event.which == 13) {\n",
       "        this.canvas_div.blur();\n",
       "        event.shiftKey = false;\n",
       "        // Send a \"J\" for go to next cell\n",
       "        event.which = 74;\n",
       "        event.keyCode = 74;\n",
       "        manager.command_mode();\n",
       "        manager.handle_keydown(event);\n",
       "    }\n",
       "}\n",
       "\n",
       "mpl.figure.prototype.handle_save = function(fig, msg) {\n",
       "    fig.ondownload(fig, null);\n",
       "}\n",
       "\n",
       "\n",
       "mpl.find_output_cell = function(html_output) {\n",
       "    // Return the cell and output element which can be found *uniquely* in the notebook.\n",
       "    // Note - this is a bit hacky, but it is done because the \"notebook_saving.Notebook\"\n",
       "    // IPython event is triggered only after the cells have been serialised, which for\n",
       "    // our purposes (turning an active figure into a static one), is too late.\n",
       "    var cells = IPython.notebook.get_cells();\n",
       "    var ncells = cells.length;\n",
       "    for (var i=0; i<ncells; i++) {\n",
       "        var cell = cells[i];\n",
       "        if (cell.cell_type === 'code'){\n",
       "            for (var j=0; j<cell.output_area.outputs.length; j++) {\n",
       "                var data = cell.output_area.outputs[j];\n",
       "                if (data.data) {\n",
       "                    // IPython >= 3 moved mimebundle to data attribute of output\n",
       "                    data = data.data;\n",
       "                }\n",
       "                if (data['text/html'] == html_output) {\n",
       "                    return [cell, data, j];\n",
       "                }\n",
       "            }\n",
       "        }\n",
       "    }\n",
       "}\n",
       "\n",
       "// Register the function which deals with the matplotlib target/channel.\n",
       "// The kernel may be null if the page has been refreshed.\n",
       "if (IPython.notebook.kernel != null) {\n",
       "    IPython.notebook.kernel.comm_manager.register_target('matplotlib', mpl.mpl_figure_comm);\n",
       "}\n"
      ],
      "text/plain": [
       "<IPython.core.display.Javascript object>"
      ]
     },
     "metadata": {},
     "output_type": "display_data"
    },
    {
     "data": {
      "text/html": [
       "<img src=\"data:image/png;base64,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\" width=\"640\">"
      ],
      "text/plain": [
       "<IPython.core.display.HTML object>"
      ]
     },
     "metadata": {},
     "output_type": "display_data"
    }
   ],
   "source": [
    "fig, ax = plt.subplots()"
   ]
  },
  {
   "cell_type": "code",
   "execution_count": 42,
   "metadata": {
    "ExecuteTime": {
     "end_time": "2020-04-29T01:23:08.340765Z",
     "start_time": "2020-04-29T01:23:08.333781Z"
    }
   },
   "outputs": [
    {
     "data": {
      "text/plain": [
       "Text(0.5, 1, '20 0.0120 20')"
      ]
     },
     "execution_count": 42,
     "metadata": {},
     "output_type": "execute_result"
    }
   ],
   "source": [
    "ax.set_title('20 0.0120 20')"
   ]
  },
  {
   "cell_type": "code",
   "execution_count": 45,
   "metadata": {
    "ExecuteTime": {
     "end_time": "2020-04-29T01:26:06.616685Z",
     "start_time": "2020-04-29T01:26:06.513446Z"
    }
   },
   "outputs": [],
   "source": [
    "fig.savefig(r'db\\SNAPTwitter\\img\\OIN_PGIN-NN_PGIN-PGIN-MKS.png')"
   ]
  },
  {
   "cell_type": "code",
   "execution_count": 46,
   "metadata": {
    "ExecuteTime": {
     "end_time": "2020-04-29T01:26:11.405881Z",
     "start_time": "2020-04-29T01:26:11.397903Z"
    }
   },
   "outputs": [],
   "source": [
    "data['OIN_PGIN'] = y1\n",
    "with open(r'db\\SNAPTwitter\\img\\OIN_PGIN-NN_PGIN-PGIN-MKS.json', 'w') as fw:\n",
    "    json.dump(data, fw)"
   ]
  }
 ],
 "metadata": {
  "hide_input": false,
  "kernelspec": {
   "display_name": "ComplexNetwork",
   "language": "python",
   "name": "complexnetwork"
  },
  "language_info": {
   "codemirror_mode": {
    "name": "ipython",
    "version": 3
   },
   "file_extension": ".py",
   "mimetype": "text/x-python",
   "name": "python",
   "nbconvert_exporter": "python",
   "pygments_lexer": "ipython3",
   "version": "3.7.4"
  },
  "toc": {
   "base_numbering": 1,
   "nav_menu": {},
   "number_sections": true,
   "sideBar": true,
   "skip_h1_title": false,
   "title_cell": "Table of Contents",
   "title_sidebar": "Contents",
   "toc_cell": false,
   "toc_position": {},
   "toc_section_display": true,
   "toc_window_display": true
  },
  "varInspector": {
   "cols": {
    "lenName": 16,
    "lenType": 16,
    "lenVar": 40
   },
   "kernels_config": {
    "python": {
     "delete_cmd_postfix": "",
     "delete_cmd_prefix": "del ",
     "library": "var_list.py",
     "varRefreshCmd": "print(var_dic_list())"
    },
    "r": {
     "delete_cmd_postfix": ") ",
     "delete_cmd_prefix": "rm(",
     "library": "var_list.r",
     "varRefreshCmd": "cat(var_dic_list()) "
    }
   },
   "types_to_exclude": [
    "module",
    "function",
    "builtin_function_or_method",
    "instance",
    "_Feature"
   ],
   "window_display": false
  }
 },
 "nbformat": 4,
 "nbformat_minor": 4
}
