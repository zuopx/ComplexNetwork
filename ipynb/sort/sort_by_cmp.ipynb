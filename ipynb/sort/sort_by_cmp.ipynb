{
 "cells": [
  {
   "cell_type": "markdown",
   "metadata": {},
   "source": [
    "# 根据神经网络，对用户排序\n",
    "\n",
    "-   用户集\n",
    "-   顺序无关神经网络（神经网络类型和state_dict）\n",
    "-   排序后的存储"
   ]
  },
  {
   "cell_type": "code",
   "execution_count": 1,
   "metadata": {
    "ExecuteTime": {
     "end_time": "2020-04-28T13:06:31.335768Z",
     "start_time": "2020-04-28T13:06:31.302855Z"
    }
   },
   "outputs": [],
   "source": [
    "WORKSPACEFOLDER = 'E:\\Projects\\ComplexNetwork'\n",
    "import os\n",
    "os.chdir(WORKSPACEFOLDER)"
   ]
  },
  {
   "cell_type": "code",
   "execution_count": 10,
   "metadata": {
    "ExecuteTime": {
     "end_time": "2020-04-28T13:22:16.678635Z",
     "start_time": "2020-04-28T13:22:16.674606Z"
    }
   },
   "outputs": [],
   "source": [
    "import json\n",
    "import functools\n",
    "\n",
    "import torch"
   ]
  },
  {
   "cell_type": "code",
   "execution_count": 3,
   "metadata": {
    "ExecuteTime": {
     "end_time": "2020-04-28T13:09:06.483178Z",
     "start_time": "2020-04-28T13:09:06.475645Z"
    }
   },
   "outputs": [],
   "source": [
    "import config\n",
    "\n",
    "DB = config.get_DB()"
   ]
  },
  {
   "cell_type": "code",
   "execution_count": 4,
   "metadata": {
    "ExecuteTime": {
     "end_time": "2020-04-28T13:09:27.203170Z",
     "start_time": "2020-04-28T13:09:26.795513Z"
    }
   },
   "outputs": [],
   "source": [
    "import matplotlib.pyplot as plt\n",
    "\n",
    "%matplotlib notebook"
   ]
  },
  {
   "cell_type": "code",
   "execution_count": 7,
   "metadata": {
    "ExecuteTime": {
     "end_time": "2020-04-28T13:19:22.029045Z",
     "start_time": "2020-04-28T13:19:22.017078Z"
    }
   },
   "outputs": [],
   "source": [
    "import src.main.util.sort as sort"
   ]
  },
  {
   "cell_type": "markdown",
   "metadata": {},
   "source": [
    "## SNAPTwitter"
   ]
  },
  {
   "cell_type": "markdown",
   "metadata": {},
   "source": [
    "### 条件： cn20 nodes20_beta0.0120"
   ]
  },
  {
   "cell_type": "code",
   "execution_count": 5,
   "metadata": {
    "ExecuteTime": {
     "end_time": "2020-04-28T13:14:20.616435Z",
     "start_time": "2020-04-28T13:14:20.604432Z"
    }
   },
   "outputs": [],
   "source": [
    "with open(r'db\\SNAPTwitter\\cn 20.json', 'r') as fr:\n",
    "    cn20 = json.load(fr)"
   ]
  },
  {
   "cell_type": "code",
   "execution_count": 12,
   "metadata": {
    "ExecuteTime": {
     "end_time": "2020-04-28T13:22:32.299428Z",
     "start_time": "2020-04-28T13:22:27.253702Z"
    }
   },
   "outputs": [],
   "source": [
    "folder_nn = 'db/SNAPTwitter/nn/order_independent_net'\n",
    "file_emb = 'db/SNAPTwitter/SNAPTwitter.node2vec.emb.json'\n",
    "cmp = sort.sort_by_cmp(folder_nn, file_emb)"
   ]
  },
  {
   "cell_type": "code",
   "execution_count": 13,
   "metadata": {
    "ExecuteTime": {
     "end_time": "2020-04-28T13:28:30.127713Z",
     "start_time": "2020-04-28T13:22:34.777802Z"
    }
   },
   "outputs": [],
   "source": [
    "cn20_sorted = []\n",
    "for i in range(len(cn20)):\n",
    "    cn20_sorted.append(sorted(cn20[i], key=functools.cmp_to_key(cmp), reverse=True))"
   ]
  },
  {
   "cell_type": "code",
   "execution_count": 14,
   "metadata": {
    "ExecuteTime": {
     "end_time": "2020-04-28T13:31:39.230466Z",
     "start_time": "2020-04-28T13:31:39.219461Z"
    }
   },
   "outputs": [
    {
     "data": {
      "text/plain": [
       "[70106,\n",
       " 39025,\n",
       " 50461,\n",
       " 49112,\n",
       " 61473,\n",
       " 48714,\n",
       " 28509,\n",
       " 41545,\n",
       " 40903,\n",
       " 62757,\n",
       " 696,\n",
       " 63724,\n",
       " 78318,\n",
       " 79784,\n",
       " 23673,\n",
       " 51277,\n",
       " 570,\n",
       " 44879,\n",
       " 73349,\n",
       " 1401,\n",
       " 45464,\n",
       " 63363,\n",
       " 23247,\n",
       " 71668,\n",
       " 37237,\n",
       " 68800,\n",
       " 4765,\n",
       " 63745,\n",
       " 29754,\n",
       " 66200,\n",
       " 30844,\n",
       " 44825,\n",
       " 12094,\n",
       " 7312,\n",
       " 2676,\n",
       " 80753,\n",
       " 80581,\n",
       " 72642,\n",
       " 32019,\n",
       " 56110,\n",
       " 11523,\n",
       " 55752,\n",
       " 41786,\n",
       " 4397,\n",
       " 13899,\n",
       " 57062,\n",
       " 36479,\n",
       " 9241,\n",
       " 79490,\n",
       " 27770,\n",
       " 13165,\n",
       " 52889,\n",
       " 29862,\n",
       " 13031,\n",
       " 51588,\n",
       " 47943,\n",
       " 58663,\n",
       " 1529,\n",
       " 31260,\n",
       " 25757,\n",
       " 12316,\n",
       " 23973,\n",
       " 40035,\n",
       " 77191,\n",
       " 16285,\n",
       " 73964,\n",
       " 10457,\n",
       " 4691,\n",
       " 24972,\n",
       " 36289,\n",
       " 71689,\n",
       " 66320,\n",
       " 71831,\n",
       " 54194,\n",
       " 31432,\n",
       " 58205,\n",
       " 48279,\n",
       " 7060,\n",
       " 69765,\n",
       " 40232,\n",
       " 1706,\n",
       " 45692,\n",
       " 30850,\n",
       " 77599,\n",
       " 69928,\n",
       " 19275,\n",
       " 52879,\n",
       " 17916,\n",
       " 12785,\n",
       " 75654,\n",
       " 49977,\n",
       " 54799,\n",
       " 32622,\n",
       " 4704,\n",
       " 25447,\n",
       " 35986,\n",
       " 18037,\n",
       " 76185,\n",
       " 10364,\n",
       " 28325]"
      ]
     },
     "execution_count": 14,
     "metadata": {},
     "output_type": "execute_result"
    }
   ],
   "source": [
    "cn20_sorted[0]"
   ]
  }
 ],
 "metadata": {
  "hide_input": false,
  "kernelspec": {
   "display_name": "ComplexNetwork",
   "language": "python",
   "name": "complexnetwork"
  },
  "language_info": {
   "codemirror_mode": {
    "name": "ipython",
    "version": 3
   },
   "file_extension": ".py",
   "mimetype": "text/x-python",
   "name": "python",
   "nbconvert_exporter": "python",
   "pygments_lexer": "ipython3",
   "version": "3.7.4"
  },
  "toc": {
   "base_numbering": 1,
   "nav_menu": {},
   "number_sections": true,
   "sideBar": true,
   "skip_h1_title": false,
   "title_cell": "Table of Contents",
   "title_sidebar": "Contents",
   "toc_cell": false,
   "toc_position": {},
   "toc_section_display": true,
   "toc_window_display": false
  }
 },
 "nbformat": 4,
 "nbformat_minor": 4
}
