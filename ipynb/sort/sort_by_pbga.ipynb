{
 "cells": [
  {
   "cell_type": "code",
   "execution_count": 1,
   "metadata": {
    "ExecuteTime": {
     "end_time": "2020-05-01T01:08:12.483680Z",
     "start_time": "2020-05-01T01:08:12.061803Z"
    }
   },
   "outputs": [],
   "source": [
    "WORKSPACEFOLDER = 'E:\\Projects\\ComplexNetwork'\n",
    "import os\n",
    "os.chdir(WORKSPACEFOLDER)\n",
    "\n",
    "import config\n",
    "DB = config.get_DB()"
   ]
  },
  {
   "cell_type": "code",
   "execution_count": 2,
   "metadata": {
    "ExecuteTime": {
     "end_time": "2020-05-01T01:08:26.412583Z",
     "start_time": "2020-05-01T01:08:26.357264Z"
    }
   },
   "outputs": [],
   "source": [
    "from scipy import sparse"
   ]
  },
  {
   "cell_type": "code",
   "execution_count": 3,
   "metadata": {
    "ExecuteTime": {
     "end_time": "2020-05-01T01:08:40.134519Z",
     "start_time": "2020-05-01T01:08:39.641830Z"
    }
   },
   "outputs": [],
   "source": [
    "import src.main.util.network.algorithm as algorithm"
   ]
  },
  {
   "cell_type": "code",
   "execution_count": 9,
   "metadata": {
    "ExecuteTime": {
     "end_time": "2020-05-01T01:15:44.738607Z",
     "start_time": "2020-05-01T01:15:44.732622Z"
    }
   },
   "outputs": [],
   "source": [
    "import src.main.util.data_format as data_format"
   ]
  },
  {
   "cell_type": "code",
   "execution_count": 49,
   "metadata": {
    "ExecuteTime": {
     "end_time": "2020-05-01T15:02:29.297112Z",
     "start_time": "2020-05-01T15:02:29.258188Z"
    }
   },
   "outputs": [],
   "source": [
    "def main():\n",
    "    base_path = os.path.join(DB, g_name)\n",
    "\n",
    "    seed_path = os.path.join(base_path, 'seed')\n",
    "\n",
    "    candidates_path = os.path.join(base_path, f'cn{mean}.json')\n",
    "\n",
    "    if mode == 'sir':\n",
    "        gin_mat_path = os.path.join(os.path.join(base_path, 'gin_mat'), f'{beta:.4f}.npz')\n",
    "    elif mode == 'nsir':\n",
    "        gin_mat_path = os.path.join(os.path.join(base_path, 'gin_mat'), f'n{beta:.4f}.npz')\n",
    "\n",
    "    candidate_set = data_format.load_json(candidates_path)\n",
    "    gin_mat = sparse.load_npz(gin_mat_path)\n",
    "\n",
    "    candidate_set_sorted = []\n",
    "    for candidates in candidate_set:\n",
    "        candidates_sorted = algorithm.pbga_gin_mat(candidates, gin_mat)\n",
    "        candidate_set_sorted.append(candidates_sorted)\n",
    "\n",
    "    if mode == 'sir':\n",
    "        seed_file_name = f'{mean} pbga {beta:.4f}.json'\n",
    "    elif mode == 'nsir':\n",
    "        seed_file_name = f'{mean} npbga {beta:.4f}.json'\n",
    "\n",
    "    data_format.save_json(os.path.join(seed_path, seed_file_name), candidate_set_sorted)"
   ]
  },
  {
   "cell_type": "code",
   "execution_count": 50,
   "metadata": {
    "ExecuteTime": {
     "end_time": "2020-05-01T15:05:55.836258Z",
     "start_time": "2020-05-01T15:03:22.517341Z"
    }
   },
   "outputs": [],
   "source": [
    "g_name, beta, mean, mode = 'DiSF_b', 0.010, 20, 'sir'\n",
    "main()"
   ]
  },
  {
   "cell_type": "code",
   "execution_count": 51,
   "metadata": {
    "ExecuteTime": {
     "end_time": "2020-05-01T15:08:20.861918Z",
     "start_time": "2020-05-01T15:05:55.855204Z"
    }
   },
   "outputs": [],
   "source": [
    "g_name, beta, mean, mode = 'DiSF_b', 0.010, 20, 'nsir'\n",
    "main()"
   ]
  },
  {
   "cell_type": "code",
   "execution_count": 53,
   "metadata": {
    "ExecuteTime": {
     "end_time": "2020-05-01T15:16:09.318209Z",
     "start_time": "2020-05-01T15:13:35.877319Z"
    }
   },
   "outputs": [],
   "source": [
    "g_name, beta, mean, mode = 'DiSF_b', 0.016, 20, 'sir'\n",
    "main()"
   ]
  },
  {
   "cell_type": "code",
   "execution_count": 54,
   "metadata": {
    "ExecuteTime": {
     "end_time": "2020-05-01T15:18:36.059249Z",
     "start_time": "2020-05-01T15:16:09.337047Z"
    }
   },
   "outputs": [],
   "source": [
    "g_name, beta, mean, mode = 'DiSF_b', 0.016, 20, 'nsir'\n",
    "main()"
   ]
  },
  {
   "cell_type": "code",
   "execution_count": null,
   "metadata": {},
   "outputs": [],
   "source": []
  }
 ],
 "metadata": {
  "hide_input": false,
  "kernelspec": {
   "display_name": "ComplexNetwork",
   "language": "python",
   "name": "complexnetwork"
  },
  "language_info": {
   "codemirror_mode": {
    "name": "ipython",
    "version": 3
   },
   "file_extension": ".py",
   "mimetype": "text/x-python",
   "name": "python",
   "nbconvert_exporter": "python",
   "pygments_lexer": "ipython3",
   "version": "3.7.4"
  },
  "toc": {
   "base_numbering": 1,
   "nav_menu": {},
   "number_sections": true,
   "sideBar": true,
   "skip_h1_title": false,
   "title_cell": "Table of Contents",
   "title_sidebar": "Contents",
   "toc_cell": false,
   "toc_position": {},
   "toc_section_display": true,
   "toc_window_display": false
  },
  "varInspector": {
   "cols": {
    "lenName": 16,
    "lenType": 16,
    "lenVar": 40
   },
   "kernels_config": {
    "python": {
     "delete_cmd_postfix": "",
     "delete_cmd_prefix": "del ",
     "library": "var_list.py",
     "varRefreshCmd": "print(var_dic_list())"
    },
    "r": {
     "delete_cmd_postfix": ") ",
     "delete_cmd_prefix": "rm(",
     "library": "var_list.r",
     "varRefreshCmd": "cat(var_dic_list()) "
    }
   },
   "types_to_exclude": [
    "module",
    "function",
    "builtin_function_or_method",
    "instance",
    "_Feature"
   ],
   "window_display": false
  }
 },
 "nbformat": 4,
 "nbformat_minor": 4
}
