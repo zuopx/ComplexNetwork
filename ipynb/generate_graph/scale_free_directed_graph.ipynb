{
 "cells": [
  {
   "cell_type": "markdown",
   "metadata": {},
   "source": [
    "# 生成有向无标度网络\n",
    "\n",
    "节点数都为10000，平均出度为4 和 20"
   ]
  },
  {
   "cell_type": "code",
   "execution_count": 1,
   "metadata": {
    "ExecuteTime": {
     "end_time": "2020-04-29T08:50:39.138518Z",
     "start_time": "2020-04-29T08:50:39.132535Z"
    }
   },
   "outputs": [],
   "source": [
    "WORKSPACEFOLDER = 'E:\\Projects\\ComplexNetwork'\n",
    "import os\n",
    "os.chdir(WORKSPACEFOLDER)"
   ]
  },
  {
   "cell_type": "code",
   "execution_count": 10,
   "metadata": {
    "ExecuteTime": {
     "end_time": "2020-04-29T09:15:12.545993Z",
     "start_time": "2020-04-29T09:15:12.540007Z"
    }
   },
   "outputs": [],
   "source": [
    "import json"
   ]
  },
  {
   "cell_type": "code",
   "execution_count": null,
   "metadata": {},
   "outputs": [],
   "source": []
  },
  {
   "cell_type": "code",
   "execution_count": 2,
   "metadata": {
    "ExecuteTime": {
     "end_time": "2020-04-29T08:51:20.827066Z",
     "start_time": "2020-04-29T08:51:20.215980Z"
    }
   },
   "outputs": [],
   "source": [
    "import src.main.util.network.scale_free as scale_free"
   ]
  },
  {
   "cell_type": "markdown",
   "metadata": {},
   "source": [
    "## 通用代码"
   ]
  },
  {
   "cell_type": "code",
   "execution_count": 3,
   "metadata": {
    "ExecuteTime": {
     "end_time": "2020-04-29T08:51:50.038498Z",
     "start_time": "2020-04-29T08:51:50.031965Z"
    }
   },
   "outputs": [],
   "source": [
    "n = 10000"
   ]
  },
  {
   "cell_type": "code",
   "execution_count": 4,
   "metadata": {
    "ExecuteTime": {
     "end_time": "2020-04-29T08:57:40.876395Z",
     "start_time": "2020-04-29T08:57:40.871235Z"
    }
   },
   "outputs": [],
   "source": [
    "delta_in = n"
   ]
  },
  {
   "cell_type": "code",
   "execution_count": 16,
   "metadata": {
    "ExecuteTime": {
     "end_time": "2020-04-29T13:13:05.379587Z",
     "start_time": "2020-04-29T13:13:05.368616Z"
    }
   },
   "outputs": [],
   "source": [
    "def main():\n",
    "    beta = 1 - 1 / out_degree_mean\n",
    "    alpha = (1 - beta) * 0.95\n",
    "    gamma = (1 - beta) * 0.05\n",
    "    at = scale_free.scale_free_directed_graph(n, alpha, beta, gamma, delta_in, delta_out)    \n",
    "    scale_free.status(at)\n",
    "    return at"
   ]
  },
  {
   "cell_type": "code",
   "execution_count": 20,
   "metadata": {
    "ExecuteTime": {
     "end_time": "2020-04-29T13:32:16.979988Z",
     "start_time": "2020-04-29T13:32:16.887099Z"
    }
   },
   "outputs": [],
   "source": [
    "with open(path, 'w') as fw:\n",
    "    json.dump(at, fw)"
   ]
  },
  {
   "cell_type": "code",
   "execution_count": 19,
   "metadata": {
    "ExecuteTime": {
     "end_time": "2020-04-29T13:32:13.497575Z",
     "start_time": "2020-04-29T13:32:13.493587Z"
    }
   },
   "outputs": [],
   "source": [
    "path = r'db\\DiSFNetwork4\\at_1.json'"
   ]
  },
  {
   "cell_type": "markdown",
   "metadata": {},
   "source": [
    "## 平均出度：4"
   ]
  },
  {
   "cell_type": "code",
   "execution_count": 17,
   "metadata": {
    "ExecuteTime": {
     "end_time": "2020-04-29T13:13:08.577742Z",
     "start_time": "2020-04-29T13:13:08.573049Z"
    }
   },
   "outputs": [],
   "source": [
    "out_degree_mean, delta_out = 4, 2"
   ]
  },
  {
   "cell_type": "code",
   "execution_count": 18,
   "metadata": {
    "ExecuteTime": {
     "end_time": "2020-04-29T13:20:21.563427Z",
     "start_time": "2020-04-29T13:13:09.570380Z"
    }
   },
   "outputs": [
    {
     "name": "stdout",
     "output_type": "stream",
     "text": [
      "\t $k^{out}_{max}$:  413\n",
      "\t $p_o$:  0.0249\n",
      "\t $p_i$:  0.193\n"
     ]
    }
   ],
   "source": [
    "at = main()"
   ]
  },
  {
   "cell_type": "markdown",
   "metadata": {},
   "source": [
    "## 平均出度：20"
   ]
  },
  {
   "cell_type": "code",
   "execution_count": 21,
   "metadata": {
    "ExecuteTime": {
     "end_time": "2020-04-29T13:34:05.899671Z",
     "start_time": "2020-04-29T13:34:05.893743Z"
    }
   },
   "outputs": [],
   "source": [
    "out_degree_mean, delta_out = 20, 10"
   ]
  },
  {
   "cell_type": "code",
   "execution_count": 18,
   "metadata": {
    "ExecuteTime": {
     "end_time": "2020-04-29T13:20:21.563427Z",
     "start_time": "2020-04-29T13:13:09.570380Z"
    }
   },
   "outputs": [
    {
     "name": "stdout",
     "output_type": "stream",
     "text": [
      "\t $k^{out}_{max}$:  413\n",
      "\t $p_o$:  0.0249\n",
      "\t $p_i$:  0.193\n"
     ]
    }
   ],
   "source": [
    "at = main()"
   ]
  },
  {
   "cell_type": "code",
   "execution_count": null,
   "metadata": {},
   "outputs": [],
   "source": []
  }
 ],
 "metadata": {
  "hide_input": false,
  "kernelspec": {
   "display_name": "ComplexNetwork",
   "language": "python",
   "name": "complexnetwork"
  },
  "language_info": {
   "codemirror_mode": {
    "name": "ipython",
    "version": 3
   },
   "file_extension": ".py",
   "mimetype": "text/x-python",
   "name": "python",
   "nbconvert_exporter": "python",
   "pygments_lexer": "ipython3",
   "version": "3.7.4"
  },
  "toc": {
   "base_numbering": 1,
   "nav_menu": {},
   "number_sections": true,
   "sideBar": true,
   "skip_h1_title": false,
   "title_cell": "Table of Contents",
   "title_sidebar": "Contents",
   "toc_cell": false,
   "toc_position": {},
   "toc_section_display": true,
   "toc_window_display": false
  }
 },
 "nbformat": 4,
 "nbformat_minor": 4
}
