{
 "cells": [
  {
   "cell_type": "code",
   "execution_count": 1,
   "metadata": {
    "ExecuteTime": {
     "end_time": "2020-04-30T12:40:21.090813Z",
     "start_time": "2020-04-30T12:40:21.084828Z"
    }
   },
   "outputs": [],
   "source": [
    "WORKSPACEFOLDER = 'E:\\Projects\\ComplexNetwork'\n",
    "import os\n",
    "os.chdir(WORKSPACEFOLDER)"
   ]
  },
  {
   "cell_type": "code",
   "execution_count": 2,
   "metadata": {
    "ExecuteTime": {
     "end_time": "2020-04-30T12:40:29.184884Z",
     "start_time": "2020-04-30T12:40:29.178282Z"
    }
   },
   "outputs": [],
   "source": [
    "import json"
   ]
  },
  {
   "cell_type": "code",
   "execution_count": 3,
   "metadata": {
    "ExecuteTime": {
     "end_time": "2020-04-30T12:40:36.508686Z",
     "start_time": "2020-04-30T12:40:36.141660Z"
    }
   },
   "outputs": [],
   "source": [
    "import config\n",
    "\n",
    "DB = config.get_DB()"
   ]
  },
  {
   "cell_type": "code",
   "execution_count": 14,
   "metadata": {
    "ExecuteTime": {
     "end_time": "2020-04-30T12:49:48.917381Z",
     "start_time": "2020-04-30T12:49:48.909399Z"
    }
   },
   "outputs": [],
   "source": [
    "import src.main.util.sample as sample"
   ]
  },
  {
   "cell_type": "markdown",
   "metadata": {},
   "source": [
    "# 通用代码"
   ]
  },
  {
   "cell_type": "code",
   "execution_count": 22,
   "metadata": {
    "ExecuteTime": {
     "end_time": "2020-04-30T12:53:48.169015Z",
     "start_time": "2020-04-30T12:53:48.107034Z"
    }
   },
   "outputs": [],
   "source": [
    "base_path = os.path.join(DB, g_name)\n",
    "at_path = os.path.join(base_path, 'at.json')\n",
    "\n",
    "with open(at_path, 'r') as fr:\n",
    "    at = json.load(fr)\n",
    "\n",
    "out_degree = [len(_) for _ in at]"
   ]
  },
  {
   "cell_type": "code",
   "execution_count": 31,
   "metadata": {
    "ExecuteTime": {
     "end_time": "2020-04-30T12:56:18.252047Z",
     "start_time": "2020-04-30T12:56:18.239252Z"
    }
   },
   "outputs": [
    {
     "name": "stdout",
     "output_type": "stream",
     "text": [
      "1185\n"
     ]
    }
   ],
   "source": [
    "nodes = []\n",
    "for i in range(len(out_degree)):\n",
    "    if out_degree[i] in target:\n",
    "        nodes.append(i)\n",
    "print(len(nodes))"
   ]
  },
  {
   "cell_type": "code",
   "execution_count": 15,
   "metadata": {
    "ExecuteTime": {
     "end_time": "2020-04-30T12:50:31.980321Z",
     "start_time": "2020-04-30T12:50:31.974374Z"
    }
   },
   "outputs": [],
   "source": [
    "N, L = 100, 50"
   ]
  },
  {
   "cell_type": "code",
   "execution_count": 32,
   "metadata": {
    "ExecuteTime": {
     "end_time": "2020-04-30T12:56:29.172002Z",
     "start_time": "2020-04-30T12:56:29.153856Z"
    }
   },
   "outputs": [],
   "source": [
    "candidates = sample.get_candidates(nodes, N, L)"
   ]
  },
  {
   "cell_type": "code",
   "execution_count": 33,
   "metadata": {
    "ExecuteTime": {
     "end_time": "2020-04-30T12:56:33.065398Z",
     "start_time": "2020-04-30T12:56:33.047477Z"
    }
   },
   "outputs": [],
   "source": [
    "cn_path = os.path.join(base_path, f'cn{mean}.json')\n",
    "with open(cn_path, 'w') as fw:\n",
    "    json.dump(candidates, fw)"
   ]
  },
  {
   "cell_type": "markdown",
   "metadata": {},
   "source": [
    "# DiSF_a"
   ]
  },
  {
   "cell_type": "code",
   "execution_count": 4,
   "metadata": {
    "ExecuteTime": {
     "end_time": "2020-04-30T12:42:44.007299Z",
     "start_time": "2020-04-30T12:42:44.002312Z"
    }
   },
   "outputs": [],
   "source": [
    "g_name = 'DiSF_a'"
   ]
  },
  {
   "cell_type": "code",
   "execution_count": 11,
   "metadata": {
    "ExecuteTime": {
     "end_time": "2020-04-30T12:46:20.982480Z",
     "start_time": "2020-04-30T12:46:20.966522Z"
    },
    "collapsed": true
   },
   "outputs": [
    {
     "name": "stdout",
     "output_type": "stream",
     "text": [
      "0 :\t 249\n",
      "1 :\t 3931\n",
      "2 :\t 1882\n",
      "3 :\t 1094\n",
      "4 :\t 716\n",
      "5 :\t 509\n",
      "6 :\t 302\n",
      "7 :\t 249\n",
      "8 :\t 170\n",
      "9 :\t 142\n",
      "10 :\t 111\n",
      "11 :\t 83\n",
      "12 :\t 66\n",
      "13 :\t 55\n",
      "14 :\t 48\n",
      "15 :\t 35\n",
      "16 :\t 42\n",
      "17 :\t 28\n",
      "18 :\t 27\n",
      "19 :\t 20\n"
     ]
    }
   ],
   "source": [
    "for i in range(20):\n",
    "    print(i, ':\\t', out_degree.count(i))"
   ]
  },
  {
   "cell_type": "code",
   "execution_count": 17,
   "metadata": {
    "ExecuteTime": {
     "end_time": "2020-04-30T12:52:23.124048Z",
     "start_time": "2020-04-30T12:52:23.119447Z"
    }
   },
   "outputs": [],
   "source": [
    "mean = 4"
   ]
  },
  {
   "cell_type": "code",
   "execution_count": null,
   "metadata": {
    "ExecuteTime": {
     "end_time": "2020-04-30T12:48:27.808555Z",
     "start_time": "2020-04-30T12:48:27.794595Z"
    }
   },
   "outputs": [],
   "source": [
    "target = [3, 4, 5]"
   ]
  },
  {
   "cell_type": "markdown",
   "metadata": {},
   "source": [
    "# DiSF_b"
   ]
  },
  {
   "cell_type": "code",
   "execution_count": 21,
   "metadata": {
    "ExecuteTime": {
     "end_time": "2020-04-30T12:53:43.690322Z",
     "start_time": "2020-04-30T12:53:43.684336Z"
    }
   },
   "outputs": [],
   "source": [
    "g_name = 'DiSF_b'"
   ]
  },
  {
   "cell_type": "code",
   "execution_count": 27,
   "metadata": {
    "ExecuteTime": {
     "end_time": "2020-04-30T12:55:08.756686Z",
     "start_time": "2020-04-30T12:55:08.738734Z"
    },
    "collapsed": true
   },
   "outputs": [
    {
     "name": "stdout",
     "output_type": "stream",
     "text": [
      "10 :\t 316\n",
      "11 :\t 299\n",
      "12 :\t 263\n",
      "13 :\t 234\n",
      "14 :\t 214\n",
      "15 :\t 217\n",
      "16 :\t 200\n",
      "17 :\t 149\n",
      "18 :\t 133\n",
      "19 :\t 143\n",
      "20 :\t 114\n",
      "21 :\t 121\n",
      "22 :\t 123\n",
      "23 :\t 96\n",
      "24 :\t 106\n",
      "25 :\t 94\n",
      "26 :\t 82\n",
      "27 :\t 84\n",
      "28 :\t 81\n",
      "29 :\t 80\n"
     ]
    }
   ],
   "source": [
    "for i in range(10, 30):\n",
    "    print(i, ':\\t', out_degree.count(i))"
   ]
  },
  {
   "cell_type": "code",
   "execution_count": 30,
   "metadata": {
    "ExecuteTime": {
     "end_time": "2020-04-30T12:56:09.347491Z",
     "start_time": "2020-04-30T12:56:09.341507Z"
    }
   },
   "outputs": [],
   "source": [
    "target = [16, 17, 18, 19, 20, 21, 22, 23, 24]"
   ]
  }
 ],
 "metadata": {
  "hide_input": false,
  "kernelspec": {
   "display_name": "ComplexNetwork",
   "language": "python",
   "name": "complexnetwork"
  },
  "language_info": {
   "codemirror_mode": {
    "name": "ipython",
    "version": 3
   },
   "file_extension": ".py",
   "mimetype": "text/x-python",
   "name": "python",
   "nbconvert_exporter": "python",
   "pygments_lexer": "ipython3",
   "version": "3.7.4"
  },
  "toc": {
   "base_numbering": 1,
   "nav_menu": {},
   "number_sections": true,
   "sideBar": true,
   "skip_h1_title": false,
   "title_cell": "Table of Contents",
   "title_sidebar": "Contents",
   "toc_cell": false,
   "toc_position": {},
   "toc_section_display": true,
   "toc_window_display": false
  },
  "varInspector": {
   "cols": {
    "lenName": 16,
    "lenType": 16,
    "lenVar": 40
   },
   "kernels_config": {
    "python": {
     "delete_cmd_postfix": "",
     "delete_cmd_prefix": "del ",
     "library": "var_list.py",
     "varRefreshCmd": "print(var_dic_list())"
    },
    "r": {
     "delete_cmd_postfix": ") ",
     "delete_cmd_prefix": "rm(",
     "library": "var_list.r",
     "varRefreshCmd": "cat(var_dic_list()) "
    }
   },
   "types_to_exclude": [
    "module",
    "function",
    "builtin_function_or_method",
    "instance",
    "_Feature"
   ],
   "window_display": false
  }
 },
 "nbformat": 4,
 "nbformat_minor": 4
}
